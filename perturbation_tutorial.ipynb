{
 "cells": [
  {
   "cell_type": "code",
   "execution_count": 1,
   "metadata": {},
   "outputs": [],
   "source": [
    "import BoolODE as bo\n",
    "import numpy as np\n",
    "import pandas as pd\n",
    "import re"
   ]
  },
  {
   "cell_type": "code",
   "execution_count": 68,
   "metadata": {},
   "outputs": [],
   "source": [
    "def perturbation(    \n",
    "    model_definition, \n",
    "    simulation_time,\n",
    "    num_cells,\n",
    "    sampling_time,\n",
    "    perturbed_transcription, \n",
    "    perturbed_translation,\n",
    "    output_dir,\n",
    "    output_filename,\n",
    "    modeltype\n",
    "):\n",
    "    # Normal simulation\n",
    "    # parameter settings\n",
    "    gs = bo.GlobalSettings(\"data\", output_dir, True, False, modeltype)\n",
    "    js1 = bo.JobSettings(\n",
    "    [{\n",
    "        \"name\": model_definition[:-4],\n",
    "        \"model_definition\": model_definition,\n",
    "        \"model_initial_conditions\": model_definition + \"_ics.txt\",\n",
    "        \"simulation_time\": simulation_time,\n",
    "        \"num_cells\": num_cells,\n",
    "        \"do_parallel\": True,\n",
    "        \"sample_cells\": False,\n",
    "        \"perturbation\": False,\n",
    "        \"perturbed_transcription\": {},\n",
    "        \"perturbed_translation\": {},\n",
    "        \"perturbation_input\": \"\", \n",
    "        \"perturbation_sampling_time\": [],\n",
    "        \"perturbation_sampling_filename\": \"\"\n",
    "    }]\n",
    "    )\n",
    "    # simulation\n",
    "    boolodejobs = bo.BoolODE(job_settings=js1, global_settings=gs, postproc_settings=\"\")\n",
    "    boolodejobs.execute_jobs()\n",
    "    print(\"Normal simulation ... Done\")\n",
    "    print(\"Starting perturbation simulation...\")\n",
    "    print(perturbed_transcription)\n",
    "    \n",
    "    # Perturbation simulation\n",
    "    if len(perturbed_transcription) != 0:\n",
    "        for trans in perturbed_transcription:\n",
    "            print(trans)\n",
    "            # job実行\n",
    "            js2 = bo.JobSettings(\n",
    "            [{\n",
    "                \"name\": model_definition[:-4] + \"-perturbation-transcription-\" + list(trans.keys())[0],\n",
    "                \"model_definition\": model_definition,\n",
    "                \"model_initial_conditions\": model_definition + \"_ics.txt\",\n",
    "                \"simulation_time\": simulation_time,\n",
    "                \"num_cells\": num_cells,\n",
    "                \"do_parallel\": False,\n",
    "                \"sample_cells\": False,\n",
    "                \"perturbation\": True,\n",
    "                \"perturbed_transcription\": trans,#{ 'g1': 10.0 },\n",
    "                #\"perturbed_translation\": , # 片方を想定\n",
    "                \"perturbation_input\": model_definition[:-4] + \"/simulations/\", #ここが同じなら初期状態も同じ\n",
    "\n",
    "                \"perturbation_sampling_time\": sampling_time,\n",
    "                \"perturbation_sampling_filename\": output_dir + \"/\" + output_filename #ここが同じなら出力も同じ\n",
    "                # こいつをどこに置くかが問題\n",
    "            }]\n",
    "            )\n",
    "            boolodejobs = bo.BoolODE(job_settings=js2, global_settings=gs, postproc_settings=\"\")\n",
    "            boolodejobs.execute_jobs()\n",
    "        E = np.load(output_dir + \"/PerturbationSampling-transcription.npy\")\n",
    "        \n",
    "    else:\n",
    "        for trans in perturbed_translation:\n",
    "            print(trans)\n",
    "            # job実行\n",
    "            js2 = bo.JobSettings(\n",
    "            [{\n",
    "                \"name\": model_definition[:-4] + \"-perturbation-translation-\" + list(trans.keys())[0],\n",
    "                \"model_definition\": model_definition,\n",
    "                \"model_initial_conditions\": model_definition + \"_ics.txt\",\n",
    "                \"simulation_time\": simulation_time,\n",
    "                \"num_cells\": num_cells,\n",
    "                \"do_parallel\": False,\n",
    "                \"sample_cells\": False,\n",
    "                \"perturbation\": True,\n",
    "                \"perturbed_transcription\": trans,#{ 'g1': 10.0 },\n",
    "                #\"perturbed_translation\": , # 片方を想定\n",
    "                \"perturbation_input\": model_definition[:-4] + \"/simulations/\", #ここが同じなら初期状態も同じ\n",
    "\n",
    "                \"perturbation_sampling_time\": sampling_time,\n",
    "                \"perturbation_sampling_filename\": output_dir + \"/\" + output_filename #ここが同じなら出力も同じ\n",
    "                # こいつをどこに置くかが問題\n",
    "            }]\n",
    "            )\n",
    "            boolodejobs = bo.BoolODE(job_settings=js2, global_settings=gs, postproc_settings=\"\")\n",
    "            boolodejobs.execute_jobs()\n",
    "        # ToChange    \n",
    "        E = np.load(output_dir + \"/PerturbationSampling-translation.npy\")\n",
    "\n",
    "    \n",
    "    param_filepath = output_dir + \"/\" + model_definition[:-4] +  \"/parameters.txt\"\n",
    "    with open(param_filepath, 'r') as f:\n",
    "        # obtain gene names\n",
    "        df_params = pd.read_csv(param_filepath, sep=\"\\t\", skiprows=1, header=None)\n",
    "        gene_names = list(df_params[df_params[0].str.contains(\"^n_\")][0].str.replace(\"n_\", \"\"))\n",
    "        \n",
    "        # obtaiin GRN edge matrix\n",
    "        grn_mtx = np.zeros((len(gnames), len(gnames)))\n",
    "        if modeltype == \"hill\":\n",
    "            prefix = \"a\"\n",
    "        elif modeltype == \"heaviside\":\n",
    "            prefix =\"w\"\n",
    "        df_params_prefix = df_params[df_params[0].str.contains(\"^{}_\".format(prefix))]\n",
    "        df_interactions = df_params_prefix[df_params_prefix[0] == df_params_prefix[0].str.replace(\"{}_(.*)_(.*)_(.*)\".format(prefix), r\"{}_\\1_\\2\".format(prefix), regex=True)]\n",
    "        for i in df_interactions.iterrows():\n",
    "            interaction = i[1][0]\n",
    "            val = i[1][1]\n",
    "\n",
    "            result = re.match(\"{}_(.*)_(.*)\".format(prefix), interaction)\n",
    "            reg_to = gene_names.index(result.group(1)) \n",
    "            reg_from = gene_names.index(result.group(2)) \n",
    "            grn_mtx[reg_to, reg_from] = val\n",
    "        \n",
    "        \n",
    "    return E, gene_names, grn_mtx\n",
    "    \n",
    "#     if isinstance(trans, float):\n",
    "#         hoge\n",
    "#         {gene: hoge} list loop\n",
    "#   elif isinstance(trans, dict):"
   ]
  },
  {
   "cell_type": "code",
   "execution_count": 33,
   "metadata": {},
   "outputs": [
    {
     "data": {
      "text/plain": [
       "['g1', 'g2', 'g3', 'g4', 'g5', 'g6', 'g7']"
      ]
     },
     "execution_count": 33,
     "metadata": {},
     "output_type": "execute_result"
    }
   ],
   "source": [
    "import pandas as pd\n",
    "df_params = pd.read_csv(\"Synthetic-H/dyn-linear/parameters.txt\", sep=\"\\t\", skiprows=1, header=None)\n",
    "gnames = list(df_params[df_params[0].str.contains(\"^n_\")][0].str.replace(\"n_\", \"\"))\n",
    "gnames"
   ]
  },
  {
   "cell_type": "code",
   "execution_count": 30,
   "metadata": {},
   "outputs": [
    {
     "data": {
      "text/plain": [
       "array([[0., 0., 0., 0., 0., 0., 0.],\n",
       "       [0., 0., 0., 0., 0., 0., 0.],\n",
       "       [0., 0., 0., 0., 0., 0., 0.],\n",
       "       [0., 0., 0., 0., 0., 0., 0.],\n",
       "       [0., 0., 0., 0., 0., 0., 0.],\n",
       "       [0., 0., 0., 0., 0., 0., 0.],\n",
       "       [0., 0., 0., 0., 0., 0., 0.]])"
      ]
     },
     "execution_count": 30,
     "metadata": {},
     "output_type": "execute_result"
    }
   ],
   "source": [
    "np.zeros((len(gnames), len(gnames)))"
   ]
  },
  {
   "cell_type": "code",
   "execution_count": 63,
   "metadata": {},
   "outputs": [],
   "source": [
    "gene_names = gnames\n",
    "grn_mtx = np.zeros((len(gnames), len(gnames)))"
   ]
  },
  {
   "cell_type": "code",
   "execution_count": 2,
   "metadata": {},
   "outputs": [
    {
     "ename": "NameError",
     "evalue": "name 'df_params' is not defined",
     "output_type": "error",
     "traceback": [
      "\u001b[0;31m---------------------------------------------------------------------------\u001b[0m",
      "\u001b[0;31mNameError\u001b[0m                                 Traceback (most recent call last)",
      "\u001b[0;32m<ipython-input-2-119a5c70c2ca>\u001b[0m in \u001b[0;36m<module>\u001b[0;34m\u001b[0m\n\u001b[0;32m----> 1\u001b[0;31m \u001b[0mdf_params_prefix\u001b[0m \u001b[0;34m=\u001b[0m \u001b[0mdf_params\u001b[0m\u001b[0;34m[\u001b[0m\u001b[0mdf_params\u001b[0m\u001b[0;34m[\u001b[0m\u001b[0;36m0\u001b[0m\u001b[0;34m]\u001b[0m\u001b[0;34m.\u001b[0m\u001b[0mstr\u001b[0m\u001b[0;34m.\u001b[0m\u001b[0mcontains\u001b[0m\u001b[0;34m(\u001b[0m\u001b[0;34m\"^w_\"\u001b[0m\u001b[0;34m)\u001b[0m\u001b[0;34m]\u001b[0m\u001b[0;34m\u001b[0m\u001b[0;34m\u001b[0m\u001b[0m\n\u001b[0m\u001b[1;32m      2\u001b[0m \u001b[0mdf_interactions\u001b[0m \u001b[0;34m=\u001b[0m \u001b[0mdf_params_prefix\u001b[0m\u001b[0;34m[\u001b[0m\u001b[0mdf_params_prefix\u001b[0m\u001b[0;34m[\u001b[0m\u001b[0;36m0\u001b[0m\u001b[0;34m]\u001b[0m \u001b[0;34m==\u001b[0m \u001b[0mdf_params_prefix\u001b[0m\u001b[0;34m[\u001b[0m\u001b[0;36m0\u001b[0m\u001b[0;34m]\u001b[0m\u001b[0;34m.\u001b[0m\u001b[0mstr\u001b[0m\u001b[0;34m.\u001b[0m\u001b[0mreplace\u001b[0m\u001b[0;34m(\u001b[0m\u001b[0;34m'w_(.*)_(.*)_(.*)'\u001b[0m\u001b[0;34m,\u001b[0m \u001b[0;34mr'w_\\1_\\2'\u001b[0m\u001b[0;34m,\u001b[0m \u001b[0mregex\u001b[0m\u001b[0;34m=\u001b[0m\u001b[0;32mTrue\u001b[0m\u001b[0;34m)\u001b[0m\u001b[0;34m]\u001b[0m\u001b[0;34m\u001b[0m\u001b[0;34m\u001b[0m\u001b[0m\n\u001b[1;32m      3\u001b[0m \u001b[0;32mfor\u001b[0m \u001b[0mi\u001b[0m \u001b[0;32min\u001b[0m \u001b[0mdf_interactions\u001b[0m\u001b[0;34m.\u001b[0m\u001b[0miterrows\u001b[0m\u001b[0;34m(\u001b[0m\u001b[0;34m)\u001b[0m\u001b[0;34m:\u001b[0m\u001b[0;34m\u001b[0m\u001b[0;34m\u001b[0m\u001b[0m\n\u001b[1;32m      4\u001b[0m     \u001b[0minteraction\u001b[0m \u001b[0;34m=\u001b[0m \u001b[0mi\u001b[0m\u001b[0;34m[\u001b[0m\u001b[0;36m1\u001b[0m\u001b[0;34m]\u001b[0m\u001b[0;34m[\u001b[0m\u001b[0;36m0\u001b[0m\u001b[0;34m]\u001b[0m\u001b[0;34m\u001b[0m\u001b[0;34m\u001b[0m\u001b[0m\n\u001b[1;32m      5\u001b[0m     \u001b[0mval\u001b[0m \u001b[0;34m=\u001b[0m \u001b[0mi\u001b[0m\u001b[0;34m[\u001b[0m\u001b[0;36m1\u001b[0m\u001b[0;34m]\u001b[0m\u001b[0;34m[\u001b[0m\u001b[0;36m1\u001b[0m\u001b[0;34m]\u001b[0m\u001b[0;34m\u001b[0m\u001b[0;34m\u001b[0m\u001b[0m\n",
      "\u001b[0;31mNameError\u001b[0m: name 'df_params' is not defined"
     ]
    }
   ],
   "source": [
    "df_params_prefix = df_params[df_params[0].str.contains(\"^w_\")]\n",
    "df_interactions = df_params_prefix[df_params_prefix[0] == df_params_prefix[0].str.replace('w_(.*)_(.*)_(.*)', r'w_\\1_\\2', regex=True)]\n",
    "for i in df_interactions.iterrows():\n",
    "    interaction = i[1][0]\n",
    "    val = i[1][1]\n",
    "    \n",
    "    result = re.match('w_(.*)_(.*)', interaction)\n",
    "    reg_to = gene_names.index(result.group(1)) \n",
    "    reg_from = gene_names.index(result.group(2)) \n",
    "    grn_mtx[reg_to, reg_from] = val"
   ]
  },
  {
   "cell_type": "code",
   "execution_count": 67,
   "metadata": {},
   "outputs": [
    {
     "data": {
      "text/plain": [
       "array([[ 0. ,  0. ,  0. ,  0. ,  0. ,  0. , -0.1],\n",
       "       [ 0.1,  0. ,  0. ,  0. ,  0. ,  0. ,  0. ],\n",
       "       [ 0. ,  0.1,  0. ,  0. ,  0. ,  0. ,  0. ],\n",
       "       [ 0. ,  0. ,  0.1,  0. ,  0. ,  0. ,  0. ],\n",
       "       [ 0. ,  0. ,  0. ,  0.1,  0. ,  0. ,  0. ],\n",
       "       [ 0. ,  0. ,  0. ,  0. ,  0.1,  0. ,  0. ],\n",
       "       [ 0. ,  0. ,  0. ,  0. ,  0. ,  0.1,  0.1]])"
      ]
     },
     "execution_count": 67,
     "metadata": {},
     "output_type": "execute_result"
    }
   ],
   "source": [
    "grn_mtx"
   ]
  },
  {
   "cell_type": "code",
   "execution_count": 2,
   "metadata": {},
   "outputs": [],
   "source": [
    "# user setting\n",
    "model_definition = \"dyn-linear.txt\" #\"dyn-cycle.txt\" #\n",
    "perturbed_transcription = [{ 'g1': 10.0 }, { 'g2': 10.0 }]\n",
    "perturbed_translation = []#[{ 'g3': 5.0 }, { 'g4': 5.0 }]\n",
    "simulation_time = 9 # * 100 step\n",
    "num_cells = 20 # = sampling_cells\n",
    "sampling_time = [100, 300, 500] # 1~simulation_time*100-1?\n",
    "output_dir = \"Synthetic-H\"\n",
    "output_filename = \"PerturbationSampling.npy\" # npy file\n",
    "modeltype = \"hill\" # or heaviside\n",
    "\n",
    "# default\n",
    "do_parallel = False\n",
    "sample_cells = False\n",
    "\n",
    "\n",
    "# command\n",
    "# E = perturbation(\n",
    "#     model_definition, \n",
    "#     simulation_time,\n",
    "#     num_cells,\n",
    "#     sampling_time,\n",
    "#     perturbed_transcription, \n",
    "#     perturbed_translation,\n",
    "#     output_dir,\n",
    "#     output_filename,\n",
    "#     modeltype\n",
    "# )"
   ]
  },
  {
   "cell_type": "code",
   "execution_count": 3,
   "metadata": {},
   "outputs": [],
   "source": [
    "from Perturbation import perturbation as pt"
   ]
  },
  {
   "cell_type": "code",
   "execution_count": 4,
   "metadata": {},
   "outputs": [
    {
     "name": "stderr",
     "output_type": "stream",
     "text": [
      "  0%|          | 0/20 [00:00<?, ?it/s]"
     ]
    },
    {
     "name": "stdout",
     "output_type": "stream",
     "text": [
      "Creating output folders\n",
      "Starting simulations\n",
      "Fixing rate parameters to defaults\n",
      "{'n_g1': 10.0, 'n_g2': 10.0, 'n_g3': 10.0, 'n_g4': 10.0, 'n_g5': 10.0, 'n_g6': 10.0, 'n_g7': 10.0, 'k_g1': 10.0, 'k_g2': 10.0, 'k_g3': 10.0, 'k_g4': 10.0, 'k_g5': 10.0, 'k_g6': 10.0, 'k_g7': 10.0, 'sigmaH_g1': 10.0, 'sigmaH_g2': 10.0, 'sigmaH_g3': 10.0, 'sigmaH_g4': 10.0, 'sigmaH_g5': 10.0, 'sigmaH_g6': 10.0, 'sigmaH_g7': 10.0, 'm_g1': 20.0, 'm_g2': 20.0, 'm_g3': 20.0, 'm_g4': 20.0, 'm_g5': 20.0, 'm_g6': 20.0, 'm_g7': 20.0, 'l_x_g1': 10.0, 'l_x_g2': 10.0, 'l_x_g3': 10.0, 'l_x_g4': 10.0, 'l_x_g5': 10.0, 'l_x_g6': 10.0, 'l_x_g7': 10.0, 'r_g1': 10.0, 'r_g2': 10.0, 'r_g3': 10.0, 'r_g4': 10.0, 'r_g5': 10.0, 'r_g6': 10.0, 'r_g7': 10.0, 'l_p_g1': 1.0, 'l_p_g2': 1.0, 'l_p_g3': 1.0, 'l_p_g4': 1.0, 'l_p_g5': 1.0, 'l_p_g6': 1.0, 'l_p_g7': 1.0}\n",
      "######################\n",
      "{'__builtins__': {'__name__': 'builtins', '__doc__': \"Built-in functions, exceptions, and other objects.\\n\\nNoteworthy: None is the `nil' object; Ellipsis represents `...' in slices.\", '__package__': '', '__loader__': <class '_frozen_importlib.BuiltinImporter'>, '__spec__': ModuleSpec(name='builtins', loader=<class '_frozen_importlib.BuiltinImporter'>), '__build_class__': <built-in function __build_class__>, '__import__': <built-in function __import__>, 'abs': <built-in function abs>, 'all': <built-in function all>, 'any': <built-in function any>, 'ascii': <built-in function ascii>, 'bin': <built-in function bin>, 'breakpoint': <built-in function breakpoint>, 'callable': <built-in function callable>, 'chr': <built-in function chr>, 'compile': <built-in function compile>, 'delattr': <built-in function delattr>, 'dir': <built-in function dir>, 'divmod': <built-in function divmod>, 'eval': <built-in function eval>, 'exec': <built-in function exec>, 'format': <built-in function format>, 'getattr': <built-in function getattr>, 'globals': <built-in function globals>, 'hasattr': <built-in function hasattr>, 'hash': <built-in function hash>, 'hex': <built-in function hex>, 'id': <built-in function id>, 'input': <bound method Kernel.raw_input of <ipykernel.ipkernel.IPythonKernel object at 0x7f7297e75400>>, 'isinstance': <built-in function isinstance>, 'issubclass': <built-in function issubclass>, 'iter': <built-in function iter>, 'len': <built-in function len>, 'locals': <built-in function locals>, 'max': <built-in function max>, 'min': <built-in function min>, 'next': <built-in function next>, 'oct': <built-in function oct>, 'ord': <built-in function ord>, 'pow': <built-in function pow>, 'print': <built-in function print>, 'repr': <built-in function repr>, 'round': <built-in function round>, 'setattr': <built-in function setattr>, 'sorted': <built-in function sorted>, 'sum': <built-in function sum>, 'vars': <built-in function vars>, 'None': None, 'Ellipsis': Ellipsis, 'NotImplemented': NotImplemented, 'False': False, 'True': True, 'bool': <class 'bool'>, 'memoryview': <class 'memoryview'>, 'bytearray': <class 'bytearray'>, 'bytes': <class 'bytes'>, 'classmethod': <class 'classmethod'>, 'complex': <class 'complex'>, 'dict': <class 'dict'>, 'enumerate': <class 'enumerate'>, 'filter': <class 'filter'>, 'float': <class 'float'>, 'frozenset': <class 'frozenset'>, 'property': <class 'property'>, 'int': <class 'int'>, 'list': <class 'list'>, 'map': <class 'map'>, 'object': <class 'object'>, 'range': <class 'range'>, 'reversed': <class 'reversed'>, 'set': <class 'set'>, 'slice': <class 'slice'>, 'staticmethod': <class 'staticmethod'>, 'str': <class 'str'>, 'super': <class 'super'>, 'tuple': <class 'tuple'>, 'type': <class 'type'>, 'zip': <class 'zip'>, '__debug__': True, 'BaseException': <class 'BaseException'>, 'Exception': <class 'Exception'>, 'TypeError': <class 'TypeError'>, 'StopAsyncIteration': <class 'StopAsyncIteration'>, 'StopIteration': <class 'StopIteration'>, 'GeneratorExit': <class 'GeneratorExit'>, 'SystemExit': <class 'SystemExit'>, 'KeyboardInterrupt': <class 'KeyboardInterrupt'>, 'ImportError': <class 'ImportError'>, 'ModuleNotFoundError': <class 'ModuleNotFoundError'>, 'OSError': <class 'OSError'>, 'EnvironmentError': <class 'OSError'>, 'IOError': <class 'OSError'>, 'EOFError': <class 'EOFError'>, 'RuntimeError': <class 'RuntimeError'>, 'RecursionError': <class 'RecursionError'>, 'NotImplementedError': <class 'NotImplementedError'>, 'NameError': <class 'NameError'>, 'UnboundLocalError': <class 'UnboundLocalError'>, 'AttributeError': <class 'AttributeError'>, 'SyntaxError': <class 'SyntaxError'>, 'IndentationError': <class 'IndentationError'>, 'TabError': <class 'TabError'>, 'LookupError': <class 'LookupError'>, 'IndexError': <class 'IndexError'>, 'KeyError': <class 'KeyError'>, 'ValueError': <class 'ValueError'>, 'UnicodeError': <class 'UnicodeError'>, 'UnicodeEncodeError': <class 'UnicodeEncodeError'>, 'UnicodeDecodeError': <class 'UnicodeDecodeError'>, 'UnicodeTranslateError': <class 'UnicodeTranslateError'>, 'AssertionError': <class 'AssertionError'>, 'ArithmeticError': <class 'ArithmeticError'>, 'FloatingPointError': <class 'FloatingPointError'>, 'OverflowError': <class 'OverflowError'>, 'ZeroDivisionError': <class 'ZeroDivisionError'>, 'SystemError': <class 'SystemError'>, 'ReferenceError': <class 'ReferenceError'>, 'MemoryError': <class 'MemoryError'>, 'BufferError': <class 'BufferError'>, 'Warning': <class 'Warning'>, 'UserWarning': <class 'UserWarning'>, 'DeprecationWarning': <class 'DeprecationWarning'>, 'PendingDeprecationWarning': <class 'PendingDeprecationWarning'>, 'SyntaxWarning': <class 'SyntaxWarning'>, 'RuntimeWarning': <class 'RuntimeWarning'>, 'FutureWarning': <class 'FutureWarning'>, 'ImportWarning': <class 'ImportWarning'>, 'UnicodeWarning': <class 'UnicodeWarning'>, 'BytesWarning': <class 'BytesWarning'>, 'ResourceWarning': <class 'ResourceWarning'>, 'ConnectionError': <class 'ConnectionError'>, 'BlockingIOError': <class 'BlockingIOError'>, 'BrokenPipeError': <class 'BrokenPipeError'>, 'ChildProcessError': <class 'ChildProcessError'>, 'ConnectionAbortedError': <class 'ConnectionAbortedError'>, 'ConnectionRefusedError': <class 'ConnectionRefusedError'>, 'ConnectionResetError': <class 'ConnectionResetError'>, 'FileExistsError': <class 'FileExistsError'>, 'FileNotFoundError': <class 'FileNotFoundError'>, 'IsADirectoryError': <class 'IsADirectoryError'>, 'NotADirectoryError': <class 'NotADirectoryError'>, 'InterruptedError': <class 'InterruptedError'>, 'PermissionError': <class 'PermissionError'>, 'ProcessLookupError': <class 'ProcessLookupError'>, 'TimeoutError': <class 'TimeoutError'>, 'open': <built-in function open>, 'copyright': Copyright (c) 2001-2020 Python Software Foundation.\n",
      "All Rights Reserved.\n",
      "\n",
      "Copyright (c) 2000 BeOpen.com.\n",
      "All Rights Reserved.\n",
      "\n",
      "Copyright (c) 1995-2001 Corporation for National Research Initiatives.\n",
      "All Rights Reserved.\n",
      "\n",
      "Copyright (c) 1991-1995 Stichting Mathematisch Centrum, Amsterdam.\n",
      "All Rights Reserved., 'credits':     Thanks to CWI, CNRI, BeOpen.com, Zope Corporation and a cast of thousands\n",
      "    for supporting Python development.  See www.python.org for more information., 'license': Type license() to see the full license text, 'help': Type help() for interactive help, or help(object) for help about object., '__IPYTHON__': True, 'display': <function display at 0x7f729adf3f70>, '__pybind11_internals_v3_gcc_libstdcpp_cxxabi1002__': <capsule object NULL at 0x7f729a4605a0>, 'get_ipython': <bound method InteractiveShell.get_ipython of <ipykernel.zmqshell.ZMQInteractiveShell object at 0x7f7297ede5e0>>}, 'g1': 0, 'g2': 0, 'g3': 0, 'g4': 0, 'g5': 0, 'g6': 0, 'g7': 0}\n",
      "hoge\n",
      "['g1', 'g2', 'g3', 'g4', 'g5', 'g6', 'g7']\n",
      "$$$$$$\n",
      "{'__builtins__': {'__name__': 'builtins', '__doc__': \"Built-in functions, exceptions, and other objects.\\n\\nNoteworthy: None is the `nil' object; Ellipsis represents `...' in slices.\", '__package__': '', '__loader__': <class '_frozen_importlib.BuiltinImporter'>, '__spec__': ModuleSpec(name='builtins', loader=<class '_frozen_importlib.BuiltinImporter'>), '__build_class__': <built-in function __build_class__>, '__import__': <built-in function __import__>, 'abs': <built-in function abs>, 'all': <built-in function all>, 'any': <built-in function any>, 'ascii': <built-in function ascii>, 'bin': <built-in function bin>, 'breakpoint': <built-in function breakpoint>, 'callable': <built-in function callable>, 'chr': <built-in function chr>, 'compile': <built-in function compile>, 'delattr': <built-in function delattr>, 'dir': <built-in function dir>, 'divmod': <built-in function divmod>, 'eval': <built-in function eval>, 'exec': <built-in function exec>, 'format': <built-in function format>, 'getattr': <built-in function getattr>, 'globals': <built-in function globals>, 'hasattr': <built-in function hasattr>, 'hash': <built-in function hash>, 'hex': <built-in function hex>, 'id': <built-in function id>, 'input': <bound method Kernel.raw_input of <ipykernel.ipkernel.IPythonKernel object at 0x7f7297e75400>>, 'isinstance': <built-in function isinstance>, 'issubclass': <built-in function issubclass>, 'iter': <built-in function iter>, 'len': <built-in function len>, 'locals': <built-in function locals>, 'max': <built-in function max>, 'min': <built-in function min>, 'next': <built-in function next>, 'oct': <built-in function oct>, 'ord': <built-in function ord>, 'pow': <built-in function pow>, 'print': <built-in function print>, 'repr': <built-in function repr>, 'round': <built-in function round>, 'setattr': <built-in function setattr>, 'sorted': <built-in function sorted>, 'sum': <built-in function sum>, 'vars': <built-in function vars>, 'None': None, 'Ellipsis': Ellipsis, 'NotImplemented': NotImplemented, 'False': False, 'True': True, 'bool': <class 'bool'>, 'memoryview': <class 'memoryview'>, 'bytearray': <class 'bytearray'>, 'bytes': <class 'bytes'>, 'classmethod': <class 'classmethod'>, 'complex': <class 'complex'>, 'dict': <class 'dict'>, 'enumerate': <class 'enumerate'>, 'filter': <class 'filter'>, 'float': <class 'float'>, 'frozenset': <class 'frozenset'>, 'property': <class 'property'>, 'int': <class 'int'>, 'list': <class 'list'>, 'map': <class 'map'>, 'object': <class 'object'>, 'range': <class 'range'>, 'reversed': <class 'reversed'>, 'set': <class 'set'>, 'slice': <class 'slice'>, 'staticmethod': <class 'staticmethod'>, 'str': <class 'str'>, 'super': <class 'super'>, 'tuple': <class 'tuple'>, 'type': <class 'type'>, 'zip': <class 'zip'>, '__debug__': True, 'BaseException': <class 'BaseException'>, 'Exception': <class 'Exception'>, 'TypeError': <class 'TypeError'>, 'StopAsyncIteration': <class 'StopAsyncIteration'>, 'StopIteration': <class 'StopIteration'>, 'GeneratorExit': <class 'GeneratorExit'>, 'SystemExit': <class 'SystemExit'>, 'KeyboardInterrupt': <class 'KeyboardInterrupt'>, 'ImportError': <class 'ImportError'>, 'ModuleNotFoundError': <class 'ModuleNotFoundError'>, 'OSError': <class 'OSError'>, 'EnvironmentError': <class 'OSError'>, 'IOError': <class 'OSError'>, 'EOFError': <class 'EOFError'>, 'RuntimeError': <class 'RuntimeError'>, 'RecursionError': <class 'RecursionError'>, 'NotImplementedError': <class 'NotImplementedError'>, 'NameError': <class 'NameError'>, 'UnboundLocalError': <class 'UnboundLocalError'>, 'AttributeError': <class 'AttributeError'>, 'SyntaxError': <class 'SyntaxError'>, 'IndentationError': <class 'IndentationError'>, 'TabError': <class 'TabError'>, 'LookupError': <class 'LookupError'>, 'IndexError': <class 'IndexError'>, 'KeyError': <class 'KeyError'>, 'ValueError': <class 'ValueError'>, 'UnicodeError': <class 'UnicodeError'>, 'UnicodeEncodeError': <class 'UnicodeEncodeError'>, 'UnicodeDecodeError': <class 'UnicodeDecodeError'>, 'UnicodeTranslateError': <class 'UnicodeTranslateError'>, 'AssertionError': <class 'AssertionError'>, 'ArithmeticError': <class 'ArithmeticError'>, 'FloatingPointError': <class 'FloatingPointError'>, 'OverflowError': <class 'OverflowError'>, 'ZeroDivisionError': <class 'ZeroDivisionError'>, 'SystemError': <class 'SystemError'>, 'ReferenceError': <class 'ReferenceError'>, 'MemoryError': <class 'MemoryError'>, 'BufferError': <class 'BufferError'>, 'Warning': <class 'Warning'>, 'UserWarning': <class 'UserWarning'>, 'DeprecationWarning': <class 'DeprecationWarning'>, 'PendingDeprecationWarning': <class 'PendingDeprecationWarning'>, 'SyntaxWarning': <class 'SyntaxWarning'>, 'RuntimeWarning': <class 'RuntimeWarning'>, 'FutureWarning': <class 'FutureWarning'>, 'ImportWarning': <class 'ImportWarning'>, 'UnicodeWarning': <class 'UnicodeWarning'>, 'BytesWarning': <class 'BytesWarning'>, 'ResourceWarning': <class 'ResourceWarning'>, 'ConnectionError': <class 'ConnectionError'>, 'BlockingIOError': <class 'BlockingIOError'>, 'BrokenPipeError': <class 'BrokenPipeError'>, 'ChildProcessError': <class 'ChildProcessError'>, 'ConnectionAbortedError': <class 'ConnectionAbortedError'>, 'ConnectionRefusedError': <class 'ConnectionRefusedError'>, 'ConnectionResetError': <class 'ConnectionResetError'>, 'FileExistsError': <class 'FileExistsError'>, 'FileNotFoundError': <class 'FileNotFoundError'>, 'IsADirectoryError': <class 'IsADirectoryError'>, 'NotADirectoryError': <class 'NotADirectoryError'>, 'InterruptedError': <class 'InterruptedError'>, 'PermissionError': <class 'PermissionError'>, 'ProcessLookupError': <class 'ProcessLookupError'>, 'TimeoutError': <class 'TimeoutError'>, 'open': <built-in function open>, 'copyright': Copyright (c) 2001-2020 Python Software Foundation.\n",
      "All Rights Reserved.\n",
      "\n",
      "Copyright (c) 2000 BeOpen.com.\n",
      "All Rights Reserved.\n",
      "\n",
      "Copyright (c) 1995-2001 Corporation for National Research Initiatives.\n",
      "All Rights Reserved.\n",
      "\n",
      "Copyright (c) 1991-1995 Stichting Mathematisch Centrum, Amsterdam.\n",
      "All Rights Reserved., 'credits':     Thanks to CWI, CNRI, BeOpen.com, Zope Corporation and a cast of thousands\n",
      "    for supporting Python development.  See www.python.org for more information., 'license': Type license() to see the full license text, 'help': Type help() for interactive help, or help(object) for help about object., '__IPYTHON__': True, 'display': <function display at 0x7f729adf3f70>, '__pybind11_internals_v3_gcc_libstdcpp_cxxabi1002__': <capsule object NULL at 0x7f729a4605a0>, 'get_ipython': <bound method InteractiveShell.get_ipython of <ipykernel.zmqshell.ZMQInteractiveShell object at 0x7f7297ede5e0>>}, 'g1': 0, 'g2': 0, 'g3': 0, 'g4': 0, 'g5': 0, 'g6': 0, 'g7': 0}\n",
      "&&&&&&&&\n",
      "Empty DataFrame\n",
      "Columns: []\n",
      "Index: []\n",
      "  Gene         Rule\n",
      "0   g1     not (g7)\n",
      "1   g2       ( g1 )\n",
      "2   g3       ( g2 )\n",
      "3   g4       ( g3 )\n",
      "4   g5       ( g4 )\n",
      "5   g6       ( g5 )\n",
      "6   g7  ( g6 or g7)\n",
      "Gene          g1\n",
      "Rule    not (g7)\n",
      "Name: 0, dtype: object\n",
      "True\n",
      "Gene        g2\n",
      "Rule    ( g1 )\n",
      "Name: 1, dtype: object\n",
      "0\n",
      "Gene        g3\n",
      "Rule    ( g2 )\n",
      "Name: 2, dtype: object\n",
      "0\n",
      "Gene        g4\n",
      "Rule    ( g3 )\n",
      "Name: 3, dtype: object\n",
      "0\n",
      "Gene        g5\n",
      "Rule    ( g4 )\n",
      "Name: 4, dtype: object\n",
      "0\n",
      "Gene        g6\n",
      "Rule    ( g5 )\n",
      "Name: 5, dtype: object\n",
      "0\n",
      "Gene             g7\n",
      "Rule    ( g6 or g7)\n",
      "Name: 6, dtype: object\n",
      "0\n",
      "{'mRNATranscription': 20.0, 'mRNADegradation': 10.0, 'proteinTranslation': 10.0, 'proteinDegradation': 1.0, 'heavisideSigma': 10.0, 'signalingTimescale': 5.0, 'hillCoefficient': 10.0, 'interactionStrength': 1.0, 'x_max': 2.0, 'y_max': 20.0, 'hillThreshold': 10.0, 'heavisideOmega': 0.1}\n",
      "Synthetic-H/dyn-linear/simulations\n",
      "~~~~~~~~~~~~~~~~~~~~~~~\n",
      "Starting simulations\n",
      "[1.0, 10.0, 1.0, 10.0, 1.0, 10.0, 1.0, 10.0, 1.0, 10.0, 1.0, 10.0, 1.0, 10.0]\n"
     ]
    },
    {
     "name": "stderr",
     "output_type": "stream",
     "text": [
      "  5%|▌         | 1/20 [00:00<00:07,  2.63it/s]"
     ]
    },
    {
     "name": "stdout",
     "output_type": "stream",
     "text": [
      "[1.0, 10.0, 1.0, 10.0, 1.0, 10.0, 1.0, 10.0, 1.0, 10.0, 1.0, 10.0, 1.0, 10.0]\n"
     ]
    },
    {
     "name": "stderr",
     "output_type": "stream",
     "text": [
      " 10%|█         | 2/20 [00:00<00:06,  2.84it/s]"
     ]
    },
    {
     "name": "stdout",
     "output_type": "stream",
     "text": [
      "[1.0, 10.0, 1.0, 10.0, 1.0, 10.0, 1.0, 10.0, 1.0, 10.0, 1.0, 10.0, 1.0, 10.0]\n"
     ]
    },
    {
     "name": "stderr",
     "output_type": "stream",
     "text": [
      " 15%|█▌        | 3/20 [00:00<00:05,  2.93it/s]"
     ]
    },
    {
     "name": "stdout",
     "output_type": "stream",
     "text": [
      "[1.0, 10.0, 1.0, 10.0, 1.0, 10.0, 1.0, 10.0, 1.0, 10.0, 1.0, 10.0, 1.0, 10.0]\n"
     ]
    },
    {
     "name": "stderr",
     "output_type": "stream",
     "text": [
      " 20%|██        | 4/20 [00:01<00:05,  2.82it/s]"
     ]
    },
    {
     "name": "stdout",
     "output_type": "stream",
     "text": [
      "[1.0, 10.0, 1.0, 10.0, 1.0, 10.0, 1.0, 10.0, 1.0, 10.0, 1.0, 10.0, 1.0, 10.0]\n"
     ]
    },
    {
     "name": "stderr",
     "output_type": "stream",
     "text": [
      " 25%|██▌       | 5/20 [00:01<00:04,  3.02it/s]"
     ]
    },
    {
     "name": "stdout",
     "output_type": "stream",
     "text": [
      "[1.0, 10.0, 1.0, 10.0, 1.0, 10.0, 1.0, 10.0, 1.0, 10.0, 1.0, 10.0, 1.0, 10.0]\n"
     ]
    },
    {
     "name": "stderr",
     "output_type": "stream",
     "text": [
      " 30%|███       | 6/20 [00:01<00:04,  3.12it/s]"
     ]
    },
    {
     "name": "stdout",
     "output_type": "stream",
     "text": [
      "[1.0, 10.0, 1.0, 10.0, 1.0, 10.0, 1.0, 10.0, 1.0, 10.0, 1.0, 10.0, 1.0, 10.0]\n"
     ]
    },
    {
     "name": "stderr",
     "output_type": "stream",
     "text": [
      " 35%|███▌      | 7/20 [00:02<00:04,  3.07it/s]"
     ]
    },
    {
     "name": "stdout",
     "output_type": "stream",
     "text": [
      "[1.0, 10.0, 1.0, 10.0, 1.0, 10.0, 1.0, 10.0, 1.0, 10.0, 1.0, 10.0, 1.0, 10.0]\n"
     ]
    },
    {
     "name": "stderr",
     "output_type": "stream",
     "text": [
      " 40%|████      | 8/20 [00:02<00:03,  3.11it/s]"
     ]
    },
    {
     "name": "stdout",
     "output_type": "stream",
     "text": [
      "[1.0, 10.0, 1.0, 10.0, 1.0, 10.0, 1.0, 10.0, 1.0, 10.0, 1.0, 10.0, 1.0, 10.0]\n"
     ]
    },
    {
     "name": "stderr",
     "output_type": "stream",
     "text": [
      " 45%|████▌     | 9/20 [00:02<00:03,  3.24it/s]"
     ]
    },
    {
     "name": "stdout",
     "output_type": "stream",
     "text": [
      "[1.0, 10.0, 1.0, 10.0, 1.0, 10.0, 1.0, 10.0, 1.0, 10.0, 1.0, 10.0, 1.0, 10.0]\n"
     ]
    },
    {
     "name": "stderr",
     "output_type": "stream",
     "text": [
      " 50%|█████     | 10/20 [00:03<00:03,  3.25it/s]"
     ]
    },
    {
     "name": "stdout",
     "output_type": "stream",
     "text": [
      "[1.0, 10.0, 1.0, 10.0, 1.0, 10.0, 1.0, 10.0, 1.0, 10.0, 1.0, 10.0, 1.0, 10.0]\n"
     ]
    },
    {
     "name": "stderr",
     "output_type": "stream",
     "text": [
      " 55%|█████▌    | 11/20 [00:03<00:02,  3.10it/s]"
     ]
    },
    {
     "name": "stdout",
     "output_type": "stream",
     "text": [
      "[1.0, 10.0, 1.0, 10.0, 1.0, 10.0, 1.0, 10.0, 1.0, 10.0, 1.0, 10.0, 1.0, 10.0]\n"
     ]
    },
    {
     "name": "stderr",
     "output_type": "stream",
     "text": [
      " 65%|██████▌   | 13/20 [00:03<00:01,  3.76it/s]"
     ]
    },
    {
     "name": "stdout",
     "output_type": "stream",
     "text": [
      "[1.0, 10.0, 1.0, 10.0, 1.0, 10.0, 1.0, 10.0, 1.0, 10.0, 1.0, 10.0, 1.0, 10.0]\n",
      "[1.0, 10.0, 1.0, 10.0, 1.0, 10.0, 1.0, 10.0, 1.0, 10.0, 1.0, 10.0, 1.0, 10.0]\n"
     ]
    },
    {
     "name": "stderr",
     "output_type": "stream",
     "text": [
      " 75%|███████▌  | 15/20 [00:04<00:01,  4.28it/s]"
     ]
    },
    {
     "name": "stdout",
     "output_type": "stream",
     "text": [
      "[1.0, 10.0, 1.0, 10.0, 1.0, 10.0, 1.0, 10.0, 1.0, 10.0, 1.0, 10.0, 1.0, 10.0]\n",
      "[1.0, 10.0, 1.0, 10.0, 1.0, 10.0, 1.0, 10.0, 1.0, 10.0, 1.0, 10.0, 1.0, 10.0]\n"
     ]
    },
    {
     "name": "stderr",
     "output_type": "stream",
     "text": [
      " 80%|████████  | 16/20 [00:04<00:00,  4.16it/s]"
     ]
    },
    {
     "name": "stdout",
     "output_type": "stream",
     "text": [
      "[1.0, 10.0, 1.0, 10.0, 1.0, 10.0, 1.0, 10.0, 1.0, 10.0, 1.0, 10.0, 1.0, 10.0]\n"
     ]
    },
    {
     "name": "stderr",
     "output_type": "stream",
     "text": [
      " 85%|████████▌ | 17/20 [00:04<00:00,  4.05it/s]"
     ]
    },
    {
     "name": "stdout",
     "output_type": "stream",
     "text": [
      "[1.0, 10.0, 1.0, 10.0, 1.0, 10.0, 1.0, 10.0, 1.0, 10.0, 1.0, 10.0, 1.0, 10.0]\n"
     ]
    },
    {
     "name": "stderr",
     "output_type": "stream",
     "text": [
      " 95%|█████████▌| 19/20 [00:05<00:00,  3.85it/s]"
     ]
    },
    {
     "name": "stdout",
     "output_type": "stream",
     "text": [
      "[1.0, 10.0, 1.0, 10.0, 1.0, 10.0, 1.0, 10.0, 1.0, 10.0, 1.0, 10.0, 1.0, 10.0]\n"
     ]
    },
    {
     "name": "stderr",
     "output_type": "stream",
     "text": [
      "100%|██████████| 20/20 [00:05<00:00,  3.51it/s]\n",
      " 10%|█         | 2/20 [00:00<00:01, 15.73it/s]"
     ]
    },
    {
     "name": "stdout",
     "output_type": "stream",
     "text": [
      "[1.0, 10.0, 1.0, 10.0, 1.0, 10.0, 1.0, 10.0, 1.0, 10.0, 1.0, 10.0, 1.0, 10.0]\n",
      "Simulations took 5.705 s\n",
      "starting to concat files\n"
     ]
    },
    {
     "name": "stderr",
     "output_type": "stream",
     "text": [
      "100%|██████████| 20/20 [00:01<00:00, 14.43it/s]\n"
     ]
    },
    {
     "name": "stdout",
     "output_type": "stream",
     "text": [
      "Concating files took 1.39 s\n",
      "Requested nClusters=1, not performing k-means clustering\n",
      "Generating input files for pipline...\n",
      "1. refNetwork\n",
      "2. PseudoTime.csv\n"
     ]
    },
    {
     "name": "stderr",
     "output_type": "stream",
     "text": [
      "  0%|          | 0/20 [00:00<?, ?it/s]"
     ]
    },
    {
     "name": "stdout",
     "output_type": "stream",
     "text": [
      "Dataset too large.\n",
      "Sampling 20 cells, one from each simulated trajectory.\n",
      "Input file generation took 0.24 s\n",
      "BoolODE.py took 7.40s\n",
      "Normal simulation ... Done\n",
      "Starting perturbation simulation...\n",
      "[{'g1': 10.0}, {'g2': 10.0}]\n",
      "{'g1': 10.0}\n",
      "Creating output folders\n",
      "Starting simulations\n",
      "Fixing rate parameters to defaults\n",
      "{'n_g1': 10.0, 'n_g2': 10.0, 'n_g3': 10.0, 'n_g4': 10.0, 'n_g5': 10.0, 'n_g6': 10.0, 'n_g7': 10.0, 'k_g1': 10.0, 'k_g2': 10.0, 'k_g3': 10.0, 'k_g4': 10.0, 'k_g5': 10.0, 'k_g6': 10.0, 'k_g7': 10.0, 'sigmaH_g1': 10.0, 'sigmaH_g2': 10.0, 'sigmaH_g3': 10.0, 'sigmaH_g4': 10.0, 'sigmaH_g5': 10.0, 'sigmaH_g6': 10.0, 'sigmaH_g7': 10.0, 'm_g1': 10.0, 'm_g2': 20.0, 'm_g3': 20.0, 'm_g4': 20.0, 'm_g5': 20.0, 'm_g6': 20.0, 'm_g7': 20.0, 'l_x_g1': 10.0, 'l_x_g2': 10.0, 'l_x_g3': 10.0, 'l_x_g4': 10.0, 'l_x_g5': 10.0, 'l_x_g6': 10.0, 'l_x_g7': 10.0, 'r_g1': 10.0, 'r_g2': 10.0, 'r_g3': 10.0, 'r_g4': 10.0, 'r_g5': 10.0, 'r_g6': 10.0, 'r_g7': 10.0, 'l_p_g1': 1.0, 'l_p_g2': 1.0, 'l_p_g3': 1.0, 'l_p_g4': 1.0, 'l_p_g5': 1.0, 'l_p_g6': 1.0, 'l_p_g7': 1.0}\n",
      "######################\n",
      "{'__builtins__': {'__name__': 'builtins', '__doc__': \"Built-in functions, exceptions, and other objects.\\n\\nNoteworthy: None is the `nil' object; Ellipsis represents `...' in slices.\", '__package__': '', '__loader__': <class '_frozen_importlib.BuiltinImporter'>, '__spec__': ModuleSpec(name='builtins', loader=<class '_frozen_importlib.BuiltinImporter'>), '__build_class__': <built-in function __build_class__>, '__import__': <built-in function __import__>, 'abs': <built-in function abs>, 'all': <built-in function all>, 'any': <built-in function any>, 'ascii': <built-in function ascii>, 'bin': <built-in function bin>, 'breakpoint': <built-in function breakpoint>, 'callable': <built-in function callable>, 'chr': <built-in function chr>, 'compile': <built-in function compile>, 'delattr': <built-in function delattr>, 'dir': <built-in function dir>, 'divmod': <built-in function divmod>, 'eval': <built-in function eval>, 'exec': <built-in function exec>, 'format': <built-in function format>, 'getattr': <built-in function getattr>, 'globals': <built-in function globals>, 'hasattr': <built-in function hasattr>, 'hash': <built-in function hash>, 'hex': <built-in function hex>, 'id': <built-in function id>, 'input': <bound method Kernel.raw_input of <ipykernel.ipkernel.IPythonKernel object at 0x7f7297e75400>>, 'isinstance': <built-in function isinstance>, 'issubclass': <built-in function issubclass>, 'iter': <built-in function iter>, 'len': <built-in function len>, 'locals': <built-in function locals>, 'max': <built-in function max>, 'min': <built-in function min>, 'next': <built-in function next>, 'oct': <built-in function oct>, 'ord': <built-in function ord>, 'pow': <built-in function pow>, 'print': <built-in function print>, 'repr': <built-in function repr>, 'round': <built-in function round>, 'setattr': <built-in function setattr>, 'sorted': <built-in function sorted>, 'sum': <built-in function sum>, 'vars': <built-in function vars>, 'None': None, 'Ellipsis': Ellipsis, 'NotImplemented': NotImplemented, 'False': False, 'True': True, 'bool': <class 'bool'>, 'memoryview': <class 'memoryview'>, 'bytearray': <class 'bytearray'>, 'bytes': <class 'bytes'>, 'classmethod': <class 'classmethod'>, 'complex': <class 'complex'>, 'dict': <class 'dict'>, 'enumerate': <class 'enumerate'>, 'filter': <class 'filter'>, 'float': <class 'float'>, 'frozenset': <class 'frozenset'>, 'property': <class 'property'>, 'int': <class 'int'>, 'list': <class 'list'>, 'map': <class 'map'>, 'object': <class 'object'>, 'range': <class 'range'>, 'reversed': <class 'reversed'>, 'set': <class 'set'>, 'slice': <class 'slice'>, 'staticmethod': <class 'staticmethod'>, 'str': <class 'str'>, 'super': <class 'super'>, 'tuple': <class 'tuple'>, 'type': <class 'type'>, 'zip': <class 'zip'>, '__debug__': True, 'BaseException': <class 'BaseException'>, 'Exception': <class 'Exception'>, 'TypeError': <class 'TypeError'>, 'StopAsyncIteration': <class 'StopAsyncIteration'>, 'StopIteration': <class 'StopIteration'>, 'GeneratorExit': <class 'GeneratorExit'>, 'SystemExit': <class 'SystemExit'>, 'KeyboardInterrupt': <class 'KeyboardInterrupt'>, 'ImportError': <class 'ImportError'>, 'ModuleNotFoundError': <class 'ModuleNotFoundError'>, 'OSError': <class 'OSError'>, 'EnvironmentError': <class 'OSError'>, 'IOError': <class 'OSError'>, 'EOFError': <class 'EOFError'>, 'RuntimeError': <class 'RuntimeError'>, 'RecursionError': <class 'RecursionError'>, 'NotImplementedError': <class 'NotImplementedError'>, 'NameError': <class 'NameError'>, 'UnboundLocalError': <class 'UnboundLocalError'>, 'AttributeError': <class 'AttributeError'>, 'SyntaxError': <class 'SyntaxError'>, 'IndentationError': <class 'IndentationError'>, 'TabError': <class 'TabError'>, 'LookupError': <class 'LookupError'>, 'IndexError': <class 'IndexError'>, 'KeyError': <class 'KeyError'>, 'ValueError': <class 'ValueError'>, 'UnicodeError': <class 'UnicodeError'>, 'UnicodeEncodeError': <class 'UnicodeEncodeError'>, 'UnicodeDecodeError': <class 'UnicodeDecodeError'>, 'UnicodeTranslateError': <class 'UnicodeTranslateError'>, 'AssertionError': <class 'AssertionError'>, 'ArithmeticError': <class 'ArithmeticError'>, 'FloatingPointError': <class 'FloatingPointError'>, 'OverflowError': <class 'OverflowError'>, 'ZeroDivisionError': <class 'ZeroDivisionError'>, 'SystemError': <class 'SystemError'>, 'ReferenceError': <class 'ReferenceError'>, 'MemoryError': <class 'MemoryError'>, 'BufferError': <class 'BufferError'>, 'Warning': <class 'Warning'>, 'UserWarning': <class 'UserWarning'>, 'DeprecationWarning': <class 'DeprecationWarning'>, 'PendingDeprecationWarning': <class 'PendingDeprecationWarning'>, 'SyntaxWarning': <class 'SyntaxWarning'>, 'RuntimeWarning': <class 'RuntimeWarning'>, 'FutureWarning': <class 'FutureWarning'>, 'ImportWarning': <class 'ImportWarning'>, 'UnicodeWarning': <class 'UnicodeWarning'>, 'BytesWarning': <class 'BytesWarning'>, 'ResourceWarning': <class 'ResourceWarning'>, 'ConnectionError': <class 'ConnectionError'>, 'BlockingIOError': <class 'BlockingIOError'>, 'BrokenPipeError': <class 'BrokenPipeError'>, 'ChildProcessError': <class 'ChildProcessError'>, 'ConnectionAbortedError': <class 'ConnectionAbortedError'>, 'ConnectionRefusedError': <class 'ConnectionRefusedError'>, 'ConnectionResetError': <class 'ConnectionResetError'>, 'FileExistsError': <class 'FileExistsError'>, 'FileNotFoundError': <class 'FileNotFoundError'>, 'IsADirectoryError': <class 'IsADirectoryError'>, 'NotADirectoryError': <class 'NotADirectoryError'>, 'InterruptedError': <class 'InterruptedError'>, 'PermissionError': <class 'PermissionError'>, 'ProcessLookupError': <class 'ProcessLookupError'>, 'TimeoutError': <class 'TimeoutError'>, 'open': <built-in function open>, 'copyright': Copyright (c) 2001-2020 Python Software Foundation.\n",
      "All Rights Reserved.\n",
      "\n",
      "Copyright (c) 2000 BeOpen.com.\n",
      "All Rights Reserved.\n",
      "\n",
      "Copyright (c) 1995-2001 Corporation for National Research Initiatives.\n",
      "All Rights Reserved.\n",
      "\n",
      "Copyright (c) 1991-1995 Stichting Mathematisch Centrum, Amsterdam.\n",
      "All Rights Reserved., 'credits':     Thanks to CWI, CNRI, BeOpen.com, Zope Corporation and a cast of thousands\n",
      "    for supporting Python development.  See www.python.org for more information., 'license': Type license() to see the full license text, 'help': Type help() for interactive help, or help(object) for help about object., '__IPYTHON__': True, 'display': <function display at 0x7f729adf3f70>, '__pybind11_internals_v3_gcc_libstdcpp_cxxabi1002__': <capsule object NULL at 0x7f729a4605a0>, 'get_ipython': <bound method InteractiveShell.get_ipython of <ipykernel.zmqshell.ZMQInteractiveShell object at 0x7f7297ede5e0>>}, 'g1': 0, 'g2': 0, 'g3': 0, 'g4': 0, 'g5': 0, 'g6': 0, 'g7': 0}\n",
      "hoge\n",
      "['g1', 'g2', 'g3', 'g4', 'g5', 'g6', 'g7']\n",
      "$$$$$$\n",
      "{'__builtins__': {'__name__': 'builtins', '__doc__': \"Built-in functions, exceptions, and other objects.\\n\\nNoteworthy: None is the `nil' object; Ellipsis represents `...' in slices.\", '__package__': '', '__loader__': <class '_frozen_importlib.BuiltinImporter'>, '__spec__': ModuleSpec(name='builtins', loader=<class '_frozen_importlib.BuiltinImporter'>), '__build_class__': <built-in function __build_class__>, '__import__': <built-in function __import__>, 'abs': <built-in function abs>, 'all': <built-in function all>, 'any': <built-in function any>, 'ascii': <built-in function ascii>, 'bin': <built-in function bin>, 'breakpoint': <built-in function breakpoint>, 'callable': <built-in function callable>, 'chr': <built-in function chr>, 'compile': <built-in function compile>, 'delattr': <built-in function delattr>, 'dir': <built-in function dir>, 'divmod': <built-in function divmod>, 'eval': <built-in function eval>, 'exec': <built-in function exec>, 'format': <built-in function format>, 'getattr': <built-in function getattr>, 'globals': <built-in function globals>, 'hasattr': <built-in function hasattr>, 'hash': <built-in function hash>, 'hex': <built-in function hex>, 'id': <built-in function id>, 'input': <bound method Kernel.raw_input of <ipykernel.ipkernel.IPythonKernel object at 0x7f7297e75400>>, 'isinstance': <built-in function isinstance>, 'issubclass': <built-in function issubclass>, 'iter': <built-in function iter>, 'len': <built-in function len>, 'locals': <built-in function locals>, 'max': <built-in function max>, 'min': <built-in function min>, 'next': <built-in function next>, 'oct': <built-in function oct>, 'ord': <built-in function ord>, 'pow': <built-in function pow>, 'print': <built-in function print>, 'repr': <built-in function repr>, 'round': <built-in function round>, 'setattr': <built-in function setattr>, 'sorted': <built-in function sorted>, 'sum': <built-in function sum>, 'vars': <built-in function vars>, 'None': None, 'Ellipsis': Ellipsis, 'NotImplemented': NotImplemented, 'False': False, 'True': True, 'bool': <class 'bool'>, 'memoryview': <class 'memoryview'>, 'bytearray': <class 'bytearray'>, 'bytes': <class 'bytes'>, 'classmethod': <class 'classmethod'>, 'complex': <class 'complex'>, 'dict': <class 'dict'>, 'enumerate': <class 'enumerate'>, 'filter': <class 'filter'>, 'float': <class 'float'>, 'frozenset': <class 'frozenset'>, 'property': <class 'property'>, 'int': <class 'int'>, 'list': <class 'list'>, 'map': <class 'map'>, 'object': <class 'object'>, 'range': <class 'range'>, 'reversed': <class 'reversed'>, 'set': <class 'set'>, 'slice': <class 'slice'>, 'staticmethod': <class 'staticmethod'>, 'str': <class 'str'>, 'super': <class 'super'>, 'tuple': <class 'tuple'>, 'type': <class 'type'>, 'zip': <class 'zip'>, '__debug__': True, 'BaseException': <class 'BaseException'>, 'Exception': <class 'Exception'>, 'TypeError': <class 'TypeError'>, 'StopAsyncIteration': <class 'StopAsyncIteration'>, 'StopIteration': <class 'StopIteration'>, 'GeneratorExit': <class 'GeneratorExit'>, 'SystemExit': <class 'SystemExit'>, 'KeyboardInterrupt': <class 'KeyboardInterrupt'>, 'ImportError': <class 'ImportError'>, 'ModuleNotFoundError': <class 'ModuleNotFoundError'>, 'OSError': <class 'OSError'>, 'EnvironmentError': <class 'OSError'>, 'IOError': <class 'OSError'>, 'EOFError': <class 'EOFError'>, 'RuntimeError': <class 'RuntimeError'>, 'RecursionError': <class 'RecursionError'>, 'NotImplementedError': <class 'NotImplementedError'>, 'NameError': <class 'NameError'>, 'UnboundLocalError': <class 'UnboundLocalError'>, 'AttributeError': <class 'AttributeError'>, 'SyntaxError': <class 'SyntaxError'>, 'IndentationError': <class 'IndentationError'>, 'TabError': <class 'TabError'>, 'LookupError': <class 'LookupError'>, 'IndexError': <class 'IndexError'>, 'KeyError': <class 'KeyError'>, 'ValueError': <class 'ValueError'>, 'UnicodeError': <class 'UnicodeError'>, 'UnicodeEncodeError': <class 'UnicodeEncodeError'>, 'UnicodeDecodeError': <class 'UnicodeDecodeError'>, 'UnicodeTranslateError': <class 'UnicodeTranslateError'>, 'AssertionError': <class 'AssertionError'>, 'ArithmeticError': <class 'ArithmeticError'>, 'FloatingPointError': <class 'FloatingPointError'>, 'OverflowError': <class 'OverflowError'>, 'ZeroDivisionError': <class 'ZeroDivisionError'>, 'SystemError': <class 'SystemError'>, 'ReferenceError': <class 'ReferenceError'>, 'MemoryError': <class 'MemoryError'>, 'BufferError': <class 'BufferError'>, 'Warning': <class 'Warning'>, 'UserWarning': <class 'UserWarning'>, 'DeprecationWarning': <class 'DeprecationWarning'>, 'PendingDeprecationWarning': <class 'PendingDeprecationWarning'>, 'SyntaxWarning': <class 'SyntaxWarning'>, 'RuntimeWarning': <class 'RuntimeWarning'>, 'FutureWarning': <class 'FutureWarning'>, 'ImportWarning': <class 'ImportWarning'>, 'UnicodeWarning': <class 'UnicodeWarning'>, 'BytesWarning': <class 'BytesWarning'>, 'ResourceWarning': <class 'ResourceWarning'>, 'ConnectionError': <class 'ConnectionError'>, 'BlockingIOError': <class 'BlockingIOError'>, 'BrokenPipeError': <class 'BrokenPipeError'>, 'ChildProcessError': <class 'ChildProcessError'>, 'ConnectionAbortedError': <class 'ConnectionAbortedError'>, 'ConnectionRefusedError': <class 'ConnectionRefusedError'>, 'ConnectionResetError': <class 'ConnectionResetError'>, 'FileExistsError': <class 'FileExistsError'>, 'FileNotFoundError': <class 'FileNotFoundError'>, 'IsADirectoryError': <class 'IsADirectoryError'>, 'NotADirectoryError': <class 'NotADirectoryError'>, 'InterruptedError': <class 'InterruptedError'>, 'PermissionError': <class 'PermissionError'>, 'ProcessLookupError': <class 'ProcessLookupError'>, 'TimeoutError': <class 'TimeoutError'>, 'open': <built-in function open>, 'copyright': Copyright (c) 2001-2020 Python Software Foundation.\n",
      "All Rights Reserved.\n",
      "\n",
      "Copyright (c) 2000 BeOpen.com.\n",
      "All Rights Reserved.\n",
      "\n",
      "Copyright (c) 1995-2001 Corporation for National Research Initiatives.\n",
      "All Rights Reserved.\n",
      "\n",
      "Copyright (c) 1991-1995 Stichting Mathematisch Centrum, Amsterdam.\n",
      "All Rights Reserved., 'credits':     Thanks to CWI, CNRI, BeOpen.com, Zope Corporation and a cast of thousands\n",
      "    for supporting Python development.  See www.python.org for more information., 'license': Type license() to see the full license text, 'help': Type help() for interactive help, or help(object) for help about object., '__IPYTHON__': True, 'display': <function display at 0x7f729adf3f70>, '__pybind11_internals_v3_gcc_libstdcpp_cxxabi1002__': <capsule object NULL at 0x7f729a4605a0>, 'get_ipython': <bound method InteractiveShell.get_ipython of <ipykernel.zmqshell.ZMQInteractiveShell object at 0x7f7297ede5e0>>}, 'g1': 0, 'g2': 0, 'g3': 0, 'g4': 0, 'g5': 0, 'g6': 0, 'g7': 0}\n",
      "&&&&&&&&\n",
      "Empty DataFrame\n",
      "Columns: []\n",
      "Index: []\n",
      "  Gene         Rule\n",
      "0   g1     not (g7)\n",
      "1   g2       ( g1 )\n",
      "2   g3       ( g2 )\n",
      "3   g4       ( g3 )\n",
      "4   g5       ( g4 )\n",
      "5   g6       ( g5 )\n",
      "6   g7  ( g6 or g7)\n",
      "Gene          g1\n",
      "Rule    not (g7)\n",
      "Name: 0, dtype: object\n",
      "True\n",
      "Gene        g2\n",
      "Rule    ( g1 )\n",
      "Name: 1, dtype: object\n",
      "0\n",
      "Gene        g3\n",
      "Rule    ( g2 )\n",
      "Name: 2, dtype: object\n",
      "0\n",
      "Gene        g4\n",
      "Rule    ( g3 )\n",
      "Name: 3, dtype: object\n",
      "0\n",
      "Gene        g5\n",
      "Rule    ( g4 )\n",
      "Name: 4, dtype: object\n",
      "0\n",
      "Gene        g6\n",
      "Rule    ( g5 )\n",
      "Name: 5, dtype: object\n",
      "0\n",
      "Gene             g7\n",
      "Rule    ( g6 or g7)\n",
      "Name: 6, dtype: object\n",
      "0\n",
      "{'mRNATranscription': 20.0, 'mRNADegradation': 10.0, 'proteinTranslation': 10.0, 'proteinDegradation': 1.0, 'heavisideSigma': 10.0, 'signalingTimescale': 5.0, 'hillCoefficient': 10.0, 'interactionStrength': 1.0, 'x_max': 2.0, 'y_max': 20.0, 'hillThreshold': 10.0, 'heavisideOmega': 0.1}\n",
      "Synthetic-H/dyn-linear-perturbation-transcription-g1/simulations\n",
      "~~~~~~~~~~~~~~~~~~~~~~~\n",
      "Starting simulations\n",
      "Synthetic-H/dyn-linear/simulations/\n",
      "[0.0066974194305524605, 0.5711171506240129, 0.005921342995591271, 0.04163215002756703, 0.2500907511688293, 0.7162314606451294, 0.003033527105204311, 0.7872926555713542, 0.008852220673138877, 0.1306863129341921, 0.05947645771940568, 0.9808817860820346, 1.9112041903341532, 17.628268891300763]\n"
     ]
    },
    {
     "name": "stderr",
     "output_type": "stream",
     "text": [
      "  5%|▌         | 1/20 [00:00<00:09,  2.09it/s]"
     ]
    },
    {
     "name": "stdout",
     "output_type": "stream",
     "text": [
      "Synthetic-H/dyn-linear/simulations/\n",
      "[0.0026296788816658058, 0.4877162030894924, 0.007505537487322544, 0.3915060936162952, 0.007957777155681245, 0.01786860038446774, 0.05821947785350794, 0.9497609435894916, 0.021408515711682626, 0.5253341002197474, 0.03915059120721438, 9.70486748924376, 1.995240120518223, 17.167270082659694]\n"
     ]
    },
    {
     "name": "stderr",
     "output_type": "stream",
     "text": [
      " 10%|█         | 2/20 [00:00<00:08,  2.15it/s]"
     ]
    },
    {
     "name": "stdout",
     "output_type": "stream",
     "text": [
      "Synthetic-H/dyn-linear/simulations/\n",
      "[0.002335629304485833, 0.15685610779474274, 0.004176759542757633, 0.0542375707043028, 0.002686422538444201, 0.4852272762396958, 0.00398499243311195, 0.2481262078196046, 0.00948545810566346, 0.3635291699620965, 0.005112497724784082, 0.6676867629129795, 2.147331698336941, 16.380264165432028]\n"
     ]
    },
    {
     "name": "stderr",
     "output_type": "stream",
     "text": [
      " 15%|█▌        | 3/20 [00:01<00:07,  2.29it/s]"
     ]
    },
    {
     "name": "stdout",
     "output_type": "stream",
     "text": [
      "Synthetic-H/dyn-linear/simulations/\n",
      "[0.0021037354435995484, 0.04114344581272016, 0.0030069173372303908, 0.015289651067036341, 0.015571399232704413, 0.2191876402265161, 0.005548910226387793, 0.006186370394852428, 0.02546160118883044, 2.7631853476075987, 0.005037382421690645, 0.2466710481254723, 1.6914234834958777, 19.748123719127104]\n"
     ]
    },
    {
     "name": "stderr",
     "output_type": "stream",
     "text": [
      " 20%|██        | 4/20 [00:01<00:06,  2.42it/s]"
     ]
    },
    {
     "name": "stdout",
     "output_type": "stream",
     "text": [
      "Synthetic-H/dyn-linear/simulations/\n",
      "[0.0023719126055000354, 0.017055559044721946, 0.02703016720849756, 0.0037153384493855642, 0.007635096588713494, 0.32760364099679634, 0.004489975810488843, 0.2771925888491821, 0.10825232935725383, 0.5627999582334752, 0.002895089205973695, 0.12478420278951513, 1.8443623327053489, 21.914588430251737]\n"
     ]
    },
    {
     "name": "stderr",
     "output_type": "stream",
     "text": [
      " 25%|██▌       | 5/20 [00:01<00:05,  2.66it/s]"
     ]
    },
    {
     "name": "stdout",
     "output_type": "stream",
     "text": [
      "Synthetic-H/dyn-linear/simulations/\n",
      "[0.08058600088124432, 0.5311516604844141, 0.012817528810395551, 0.05454374359551472, 0.046536684662556935, 0.20175140501889716, 0.001574268987049046, 0.04031800543017666, 0.005128908438451269, 0.029583090336644382, 0.02380864011180486, 0.4179733845208479, 2.163163460212819, 25.60592471856216]\n"
     ]
    },
    {
     "name": "stderr",
     "output_type": "stream",
     "text": [
      " 30%|███       | 6/20 [00:02<00:05,  2.63it/s]"
     ]
    },
    {
     "name": "stdout",
     "output_type": "stream",
     "text": [
      "Synthetic-H/dyn-linear/simulations/\n",
      "[0.05175620693500135, 0.10613990266800284, 0.07897100344446797, 0.3535665509746274, 0.013953977366971976, 0.4300271506144201, 0.003316352224012574, 0.08713738193149126, 7.897245540401203e-05, 0.25066210509124165, 0.02063938246049633, 0.004572866230912302, 2.6674858676431343, 18.26064480198289]\n"
     ]
    },
    {
     "name": "stderr",
     "output_type": "stream",
     "text": [
      " 35%|███▌      | 7/20 [00:02<00:04,  2.71it/s]"
     ]
    },
    {
     "name": "stdout",
     "output_type": "stream",
     "text": [
      "Synthetic-H/dyn-linear/simulations/\n",
      "[0.041708855648524674, 1.050013085301748, 0.004791793887378749, 0.024264859156338046, 0.006563616100630929, 0.9063001096852024, 0.0244364851967574, 0.13645313559804828, 0.000526067765214715, 0.1671772120625552, 0.023584844601808385, 0.004896197440464385, 1.7534403099787457, 16.71325139152123]\n"
     ]
    },
    {
     "name": "stderr",
     "output_type": "stream",
     "text": [
      " 40%|████      | 8/20 [00:02<00:04,  2.91it/s]"
     ]
    },
    {
     "name": "stdout",
     "output_type": "stream",
     "text": [
      "Synthetic-H/dyn-linear/simulations/\n",
      "[0.0071888177704799655, 0.25271134179353866, 0.004385756148770473, 0.07402120783297321, 0.009802369713808108, 2.4157985250552128, 0.014620019436355988, 1.2759814214658838, 0.16904472346373284, 4.25145154675925, 0.019325460579078302, 7.711053015124392, 1.7239407163797182, 17.73339029528412]\n"
     ]
    },
    {
     "name": "stderr",
     "output_type": "stream",
     "text": [
      " 45%|████▌     | 9/20 [00:03<00:03,  3.04it/s]"
     ]
    },
    {
     "name": "stdout",
     "output_type": "stream",
     "text": [
      "Synthetic-H/dyn-linear/simulations/\n",
      "[0.16294081638719765, 0.17113469641272966, 0.008929203270832391, 0.01046799516403325, 0.0320550820448823, 0.05777792313947368, 0.01877716746846711, 0.470355956851552, 0.00014023687651336844, 0.93718505561554, 0.034519431524970966, 0.2974807882275073, 1.3253771674879415, 18.840960349721012]\n"
     ]
    },
    {
     "name": "stderr",
     "output_type": "stream",
     "text": [
      " 50%|█████     | 10/20 [00:03<00:03,  2.86it/s]"
     ]
    },
    {
     "name": "stdout",
     "output_type": "stream",
     "text": [
      "Synthetic-H/dyn-linear/simulations/\n",
      "[0.08876694181435713, 0.4849353755508136, 0.02169198463787457, 0.16939731157364715, 0.020492606098846542, 0.10765544172384794, 0.004088642293171361, 0.1858070069266776, 0.007740035550748845, 0.19485166677917432, 0.0218202009735532, 0.1144762333158525, 2.1352109485077597, 15.428486253374224]\n"
     ]
    },
    {
     "name": "stderr",
     "output_type": "stream",
     "text": [
      " 55%|█████▌    | 11/20 [00:04<00:03,  2.41it/s]"
     ]
    },
    {
     "name": "stdout",
     "output_type": "stream",
     "text": [
      "Synthetic-H/dyn-linear/simulations/\n",
      "[0.0007325973862911815, 0.2246972338893494, 0.06730340292161759, 0.2345858642852241, 0.03757338369139727, 1.1846855468213249, 0.0018397938150370358, 0.6028212082010433, 0.010137657643032295, 2.3396858861939847, 0.0505863389498485, 2.1873586906162403, 1.7265728733821737, 19.251498860573086]\n"
     ]
    },
    {
     "name": "stderr",
     "output_type": "stream",
     "text": [
      " 60%|██████    | 12/20 [00:04<00:03,  2.24it/s]"
     ]
    },
    {
     "name": "stdout",
     "output_type": "stream",
     "text": [
      "Synthetic-H/dyn-linear/simulations/\n",
      "[0.0026000346763211768, 0.7662766304685457, 0.006407006589200103, 0.04921651536015359, 0.05674616396065017, 0.3428927193721468, 0.003949613192808603, 0.011394373914556671, 0.011223595275195458, 0.26629085282064296, 0.00614019408574619, 0.027926084982480656, 1.9780847001582615, 28.78198047223003]\n"
     ]
    },
    {
     "name": "stderr",
     "output_type": "stream",
     "text": [
      " 65%|██████▌   | 13/20 [00:05<00:02,  2.52it/s]"
     ]
    },
    {
     "name": "stdout",
     "output_type": "stream",
     "text": [
      "Synthetic-H/dyn-linear/simulations/\n",
      "[0.026112443500014782, 0.13286499700727394, 0.0056889562645250575, 0.004070691371794121, 0.0004497869599705994, 0.19579743837301936, 0.001279069168544601, 0.0028603331360786176, 0.04538662581251611, 0.5345758800904434, 0.012915387757966612, 0.2655596255681685, 1.8823840722062053, 18.467108186010023]\n"
     ]
    },
    {
     "name": "stderr",
     "output_type": "stream",
     "text": [
      " 70%|███████   | 14/20 [00:05<00:02,  2.66it/s]"
     ]
    },
    {
     "name": "stdout",
     "output_type": "stream",
     "text": [
      "Synthetic-H/dyn-linear/simulations/\n",
      "[0.06680934380472094, 0.08058002974174211, 0.010983265495198416, 0.321918336614217, 0.055127816081060634, 0.08882398461274303, 0.013388086282693962, 0.035212635297230024, 0.08226940981854534, 0.15163962824627578, 0.007539842820654299, 0.0008430857349747928, 2.1912889529114934, 21.939419296888232]\n"
     ]
    },
    {
     "name": "stderr",
     "output_type": "stream",
     "text": [
      " 75%|███████▌  | 15/20 [00:05<00:01,  2.76it/s]"
     ]
    },
    {
     "name": "stdout",
     "output_type": "stream",
     "text": [
      "Synthetic-H/dyn-linear/simulations/\n",
      "[0.0007332222346324728, 0.4917358108189406, 0.0060428260448737855, 0.5749595797680019, 0.003113856243802825, 0.02561338725862537, 0.03570508958180732, 0.3939940122690304, 0.037772923995056835, 0.15560657053194127, 0.0019359909825994684, 0.0018020888028824366, 2.26989924679886, 21.31733969694164]\n"
     ]
    },
    {
     "name": "stderr",
     "output_type": "stream",
     "text": [
      " 80%|████████  | 16/20 [00:05<00:01,  2.87it/s]"
     ]
    },
    {
     "name": "stdout",
     "output_type": "stream",
     "text": [
      "Synthetic-H/dyn-linear/simulations/\n",
      "[0.0931656998416236, 1.0928457659217052, 0.008785399351426281, 0.09171615907395386, 0.00023631155917660035, 0.31500006279538223, 0.003092180014672676, 0.13979327363253713, 0.003810314032562897, 0.2599138019968704, 0.002260006415401927, 1.4700760954184338, 1.6433453913110103, 14.714523086725304]\n"
     ]
    },
    {
     "name": "stderr",
     "output_type": "stream",
     "text": [
      " 85%|████████▌ | 17/20 [00:06<00:01,  2.87it/s]"
     ]
    },
    {
     "name": "stdout",
     "output_type": "stream",
     "text": [
      "Synthetic-H/dyn-linear/simulations/\n",
      "[0.20647586448438915, 0.9421721188036328, 0.007821268750607683, 0.2874528761970738, 0.05350002787196007, 1.1274710388726656, 0.000336537342008017, 0.18761999140246904, 0.003038222244864607, 0.2865225365536501, 0.02780942943066286, 1.3887044379506486, 1.8789478807936075, 11.999695450675393]\n"
     ]
    },
    {
     "name": "stderr",
     "output_type": "stream",
     "text": [
      " 90%|█████████ | 18/20 [00:06<00:00,  2.90it/s]"
     ]
    },
    {
     "name": "stdout",
     "output_type": "stream",
     "text": [
      "Synthetic-H/dyn-linear/simulations/\n",
      "[0.02003333984901908, 0.022085616307038737, 0.02428253593593496, 0.06334232263626584, 0.07758186405972801, 0.016609224655289443, 0.00969447996372434, 0.1630796406470848, 7.11720871638729e-05, 0.2273433957431547, 0.01161543885567345, 0.15127546358363553, 2.3218822447168472, 16.95995967242609]\n"
     ]
    },
    {
     "name": "stderr",
     "output_type": "stream",
     "text": [
      " 95%|█████████▌| 19/20 [00:07<00:00,  2.77it/s]"
     ]
    },
    {
     "name": "stdout",
     "output_type": "stream",
     "text": [
      "Synthetic-H/dyn-linear/simulations/\n",
      "[0.04784991695312234, 0.25021863367475805, 0.024119923759348585, 0.22324925919538985, 0.0058811643174068355, 0.03267085573879444, 0.0073183712365201435, 1.9904730948583893, 0.0034592728739978114, 0.07392135047196148, 0.0036554369194768885, 0.09693737632089376, 1.6141480440086038, 17.719815350756203]\n"
     ]
    },
    {
     "name": "stderr",
     "output_type": "stream",
     "text": [
      "100%|██████████| 20/20 [00:07<00:00,  2.71it/s]\n",
      " 10%|█         | 2/20 [00:00<00:01, 16.73it/s]"
     ]
    },
    {
     "name": "stdout",
     "output_type": "stream",
     "text": [
      "Simulations took 7.379 s\n",
      "starting to concat files\n"
     ]
    },
    {
     "name": "stderr",
     "output_type": "stream",
     "text": [
      "100%|██████████| 20/20 [00:01<00:00, 16.96it/s]\n"
     ]
    },
    {
     "name": "stdout",
     "output_type": "stream",
     "text": [
      "Concating files took 1.18 s\n",
      "Requested nClusters=1, not performing k-means clustering\n",
      "Generating input files for pipline...\n",
      "1. refNetwork\n",
      "2. PseudoTime.csv\n"
     ]
    },
    {
     "name": "stderr",
     "output_type": "stream",
     "text": [
      "  0%|          | 0/20 [00:00<?, ?it/s]"
     ]
    },
    {
     "name": "stdout",
     "output_type": "stream",
     "text": [
      "===============================================\n",
      "{}\n",
      "{'g1': 10.0}\n",
      "0\n",
      "(3, 7, 20, 7)\n",
      "Synthetic-H/dyn-linear-PerturbationSampling.npy\n",
      "Input file generation took 0.23 s\n",
      "BoolODE.py took 8.87s\n",
      "{'g2': 10.0}\n",
      "Creating output folders\n",
      "Starting simulations\n",
      "Fixing rate parameters to defaults\n",
      "{'n_g1': 10.0, 'n_g2': 10.0, 'n_g3': 10.0, 'n_g4': 10.0, 'n_g5': 10.0, 'n_g6': 10.0, 'n_g7': 10.0, 'k_g1': 10.0, 'k_g2': 10.0, 'k_g3': 10.0, 'k_g4': 10.0, 'k_g5': 10.0, 'k_g6': 10.0, 'k_g7': 10.0, 'sigmaH_g1': 10.0, 'sigmaH_g2': 10.0, 'sigmaH_g3': 10.0, 'sigmaH_g4': 10.0, 'sigmaH_g5': 10.0, 'sigmaH_g6': 10.0, 'sigmaH_g7': 10.0, 'm_g1': 20.0, 'm_g2': 10.0, 'm_g3': 20.0, 'm_g4': 20.0, 'm_g5': 20.0, 'm_g6': 20.0, 'm_g7': 20.0, 'l_x_g1': 10.0, 'l_x_g2': 10.0, 'l_x_g3': 10.0, 'l_x_g4': 10.0, 'l_x_g5': 10.0, 'l_x_g6': 10.0, 'l_x_g7': 10.0, 'r_g1': 10.0, 'r_g2': 10.0, 'r_g3': 10.0, 'r_g4': 10.0, 'r_g5': 10.0, 'r_g6': 10.0, 'r_g7': 10.0, 'l_p_g1': 1.0, 'l_p_g2': 1.0, 'l_p_g3': 1.0, 'l_p_g4': 1.0, 'l_p_g5': 1.0, 'l_p_g6': 1.0, 'l_p_g7': 1.0}\n",
      "######################\n",
      "{'__builtins__': {'__name__': 'builtins', '__doc__': \"Built-in functions, exceptions, and other objects.\\n\\nNoteworthy: None is the `nil' object; Ellipsis represents `...' in slices.\", '__package__': '', '__loader__': <class '_frozen_importlib.BuiltinImporter'>, '__spec__': ModuleSpec(name='builtins', loader=<class '_frozen_importlib.BuiltinImporter'>), '__build_class__': <built-in function __build_class__>, '__import__': <built-in function __import__>, 'abs': <built-in function abs>, 'all': <built-in function all>, 'any': <built-in function any>, 'ascii': <built-in function ascii>, 'bin': <built-in function bin>, 'breakpoint': <built-in function breakpoint>, 'callable': <built-in function callable>, 'chr': <built-in function chr>, 'compile': <built-in function compile>, 'delattr': <built-in function delattr>, 'dir': <built-in function dir>, 'divmod': <built-in function divmod>, 'eval': <built-in function eval>, 'exec': <built-in function exec>, 'format': <built-in function format>, 'getattr': <built-in function getattr>, 'globals': <built-in function globals>, 'hasattr': <built-in function hasattr>, 'hash': <built-in function hash>, 'hex': <built-in function hex>, 'id': <built-in function id>, 'input': <bound method Kernel.raw_input of <ipykernel.ipkernel.IPythonKernel object at 0x7f7297e75400>>, 'isinstance': <built-in function isinstance>, 'issubclass': <built-in function issubclass>, 'iter': <built-in function iter>, 'len': <built-in function len>, 'locals': <built-in function locals>, 'max': <built-in function max>, 'min': <built-in function min>, 'next': <built-in function next>, 'oct': <built-in function oct>, 'ord': <built-in function ord>, 'pow': <built-in function pow>, 'print': <built-in function print>, 'repr': <built-in function repr>, 'round': <built-in function round>, 'setattr': <built-in function setattr>, 'sorted': <built-in function sorted>, 'sum': <built-in function sum>, 'vars': <built-in function vars>, 'None': None, 'Ellipsis': Ellipsis, 'NotImplemented': NotImplemented, 'False': False, 'True': True, 'bool': <class 'bool'>, 'memoryview': <class 'memoryview'>, 'bytearray': <class 'bytearray'>, 'bytes': <class 'bytes'>, 'classmethod': <class 'classmethod'>, 'complex': <class 'complex'>, 'dict': <class 'dict'>, 'enumerate': <class 'enumerate'>, 'filter': <class 'filter'>, 'float': <class 'float'>, 'frozenset': <class 'frozenset'>, 'property': <class 'property'>, 'int': <class 'int'>, 'list': <class 'list'>, 'map': <class 'map'>, 'object': <class 'object'>, 'range': <class 'range'>, 'reversed': <class 'reversed'>, 'set': <class 'set'>, 'slice': <class 'slice'>, 'staticmethod': <class 'staticmethod'>, 'str': <class 'str'>, 'super': <class 'super'>, 'tuple': <class 'tuple'>, 'type': <class 'type'>, 'zip': <class 'zip'>, '__debug__': True, 'BaseException': <class 'BaseException'>, 'Exception': <class 'Exception'>, 'TypeError': <class 'TypeError'>, 'StopAsyncIteration': <class 'StopAsyncIteration'>, 'StopIteration': <class 'StopIteration'>, 'GeneratorExit': <class 'GeneratorExit'>, 'SystemExit': <class 'SystemExit'>, 'KeyboardInterrupt': <class 'KeyboardInterrupt'>, 'ImportError': <class 'ImportError'>, 'ModuleNotFoundError': <class 'ModuleNotFoundError'>, 'OSError': <class 'OSError'>, 'EnvironmentError': <class 'OSError'>, 'IOError': <class 'OSError'>, 'EOFError': <class 'EOFError'>, 'RuntimeError': <class 'RuntimeError'>, 'RecursionError': <class 'RecursionError'>, 'NotImplementedError': <class 'NotImplementedError'>, 'NameError': <class 'NameError'>, 'UnboundLocalError': <class 'UnboundLocalError'>, 'AttributeError': <class 'AttributeError'>, 'SyntaxError': <class 'SyntaxError'>, 'IndentationError': <class 'IndentationError'>, 'TabError': <class 'TabError'>, 'LookupError': <class 'LookupError'>, 'IndexError': <class 'IndexError'>, 'KeyError': <class 'KeyError'>, 'ValueError': <class 'ValueError'>, 'UnicodeError': <class 'UnicodeError'>, 'UnicodeEncodeError': <class 'UnicodeEncodeError'>, 'UnicodeDecodeError': <class 'UnicodeDecodeError'>, 'UnicodeTranslateError': <class 'UnicodeTranslateError'>, 'AssertionError': <class 'AssertionError'>, 'ArithmeticError': <class 'ArithmeticError'>, 'FloatingPointError': <class 'FloatingPointError'>, 'OverflowError': <class 'OverflowError'>, 'ZeroDivisionError': <class 'ZeroDivisionError'>, 'SystemError': <class 'SystemError'>, 'ReferenceError': <class 'ReferenceError'>, 'MemoryError': <class 'MemoryError'>, 'BufferError': <class 'BufferError'>, 'Warning': <class 'Warning'>, 'UserWarning': <class 'UserWarning'>, 'DeprecationWarning': <class 'DeprecationWarning'>, 'PendingDeprecationWarning': <class 'PendingDeprecationWarning'>, 'SyntaxWarning': <class 'SyntaxWarning'>, 'RuntimeWarning': <class 'RuntimeWarning'>, 'FutureWarning': <class 'FutureWarning'>, 'ImportWarning': <class 'ImportWarning'>, 'UnicodeWarning': <class 'UnicodeWarning'>, 'BytesWarning': <class 'BytesWarning'>, 'ResourceWarning': <class 'ResourceWarning'>, 'ConnectionError': <class 'ConnectionError'>, 'BlockingIOError': <class 'BlockingIOError'>, 'BrokenPipeError': <class 'BrokenPipeError'>, 'ChildProcessError': <class 'ChildProcessError'>, 'ConnectionAbortedError': <class 'ConnectionAbortedError'>, 'ConnectionRefusedError': <class 'ConnectionRefusedError'>, 'ConnectionResetError': <class 'ConnectionResetError'>, 'FileExistsError': <class 'FileExistsError'>, 'FileNotFoundError': <class 'FileNotFoundError'>, 'IsADirectoryError': <class 'IsADirectoryError'>, 'NotADirectoryError': <class 'NotADirectoryError'>, 'InterruptedError': <class 'InterruptedError'>, 'PermissionError': <class 'PermissionError'>, 'ProcessLookupError': <class 'ProcessLookupError'>, 'TimeoutError': <class 'TimeoutError'>, 'open': <built-in function open>, 'copyright': Copyright (c) 2001-2020 Python Software Foundation.\n",
      "All Rights Reserved.\n",
      "\n",
      "Copyright (c) 2000 BeOpen.com.\n",
      "All Rights Reserved.\n",
      "\n",
      "Copyright (c) 1995-2001 Corporation for National Research Initiatives.\n",
      "All Rights Reserved.\n",
      "\n",
      "Copyright (c) 1991-1995 Stichting Mathematisch Centrum, Amsterdam.\n",
      "All Rights Reserved., 'credits':     Thanks to CWI, CNRI, BeOpen.com, Zope Corporation and a cast of thousands\n",
      "    for supporting Python development.  See www.python.org for more information., 'license': Type license() to see the full license text, 'help': Type help() for interactive help, or help(object) for help about object., '__IPYTHON__': True, 'display': <function display at 0x7f729adf3f70>, '__pybind11_internals_v3_gcc_libstdcpp_cxxabi1002__': <capsule object NULL at 0x7f729a4605a0>, 'get_ipython': <bound method InteractiveShell.get_ipython of <ipykernel.zmqshell.ZMQInteractiveShell object at 0x7f7297ede5e0>>}, 'g1': 0, 'g2': 0, 'g3': 0, 'g4': 0, 'g5': 0, 'g6': 0, 'g7': 0}\n",
      "hoge\n",
      "['g1', 'g2', 'g3', 'g4', 'g5', 'g6', 'g7']\n",
      "$$$$$$\n",
      "{'__builtins__': {'__name__': 'builtins', '__doc__': \"Built-in functions, exceptions, and other objects.\\n\\nNoteworthy: None is the `nil' object; Ellipsis represents `...' in slices.\", '__package__': '', '__loader__': <class '_frozen_importlib.BuiltinImporter'>, '__spec__': ModuleSpec(name='builtins', loader=<class '_frozen_importlib.BuiltinImporter'>), '__build_class__': <built-in function __build_class__>, '__import__': <built-in function __import__>, 'abs': <built-in function abs>, 'all': <built-in function all>, 'any': <built-in function any>, 'ascii': <built-in function ascii>, 'bin': <built-in function bin>, 'breakpoint': <built-in function breakpoint>, 'callable': <built-in function callable>, 'chr': <built-in function chr>, 'compile': <built-in function compile>, 'delattr': <built-in function delattr>, 'dir': <built-in function dir>, 'divmod': <built-in function divmod>, 'eval': <built-in function eval>, 'exec': <built-in function exec>, 'format': <built-in function format>, 'getattr': <built-in function getattr>, 'globals': <built-in function globals>, 'hasattr': <built-in function hasattr>, 'hash': <built-in function hash>, 'hex': <built-in function hex>, 'id': <built-in function id>, 'input': <bound method Kernel.raw_input of <ipykernel.ipkernel.IPythonKernel object at 0x7f7297e75400>>, 'isinstance': <built-in function isinstance>, 'issubclass': <built-in function issubclass>, 'iter': <built-in function iter>, 'len': <built-in function len>, 'locals': <built-in function locals>, 'max': <built-in function max>, 'min': <built-in function min>, 'next': <built-in function next>, 'oct': <built-in function oct>, 'ord': <built-in function ord>, 'pow': <built-in function pow>, 'print': <built-in function print>, 'repr': <built-in function repr>, 'round': <built-in function round>, 'setattr': <built-in function setattr>, 'sorted': <built-in function sorted>, 'sum': <built-in function sum>, 'vars': <built-in function vars>, 'None': None, 'Ellipsis': Ellipsis, 'NotImplemented': NotImplemented, 'False': False, 'True': True, 'bool': <class 'bool'>, 'memoryview': <class 'memoryview'>, 'bytearray': <class 'bytearray'>, 'bytes': <class 'bytes'>, 'classmethod': <class 'classmethod'>, 'complex': <class 'complex'>, 'dict': <class 'dict'>, 'enumerate': <class 'enumerate'>, 'filter': <class 'filter'>, 'float': <class 'float'>, 'frozenset': <class 'frozenset'>, 'property': <class 'property'>, 'int': <class 'int'>, 'list': <class 'list'>, 'map': <class 'map'>, 'object': <class 'object'>, 'range': <class 'range'>, 'reversed': <class 'reversed'>, 'set': <class 'set'>, 'slice': <class 'slice'>, 'staticmethod': <class 'staticmethod'>, 'str': <class 'str'>, 'super': <class 'super'>, 'tuple': <class 'tuple'>, 'type': <class 'type'>, 'zip': <class 'zip'>, '__debug__': True, 'BaseException': <class 'BaseException'>, 'Exception': <class 'Exception'>, 'TypeError': <class 'TypeError'>, 'StopAsyncIteration': <class 'StopAsyncIteration'>, 'StopIteration': <class 'StopIteration'>, 'GeneratorExit': <class 'GeneratorExit'>, 'SystemExit': <class 'SystemExit'>, 'KeyboardInterrupt': <class 'KeyboardInterrupt'>, 'ImportError': <class 'ImportError'>, 'ModuleNotFoundError': <class 'ModuleNotFoundError'>, 'OSError': <class 'OSError'>, 'EnvironmentError': <class 'OSError'>, 'IOError': <class 'OSError'>, 'EOFError': <class 'EOFError'>, 'RuntimeError': <class 'RuntimeError'>, 'RecursionError': <class 'RecursionError'>, 'NotImplementedError': <class 'NotImplementedError'>, 'NameError': <class 'NameError'>, 'UnboundLocalError': <class 'UnboundLocalError'>, 'AttributeError': <class 'AttributeError'>, 'SyntaxError': <class 'SyntaxError'>, 'IndentationError': <class 'IndentationError'>, 'TabError': <class 'TabError'>, 'LookupError': <class 'LookupError'>, 'IndexError': <class 'IndexError'>, 'KeyError': <class 'KeyError'>, 'ValueError': <class 'ValueError'>, 'UnicodeError': <class 'UnicodeError'>, 'UnicodeEncodeError': <class 'UnicodeEncodeError'>, 'UnicodeDecodeError': <class 'UnicodeDecodeError'>, 'UnicodeTranslateError': <class 'UnicodeTranslateError'>, 'AssertionError': <class 'AssertionError'>, 'ArithmeticError': <class 'ArithmeticError'>, 'FloatingPointError': <class 'FloatingPointError'>, 'OverflowError': <class 'OverflowError'>, 'ZeroDivisionError': <class 'ZeroDivisionError'>, 'SystemError': <class 'SystemError'>, 'ReferenceError': <class 'ReferenceError'>, 'MemoryError': <class 'MemoryError'>, 'BufferError': <class 'BufferError'>, 'Warning': <class 'Warning'>, 'UserWarning': <class 'UserWarning'>, 'DeprecationWarning': <class 'DeprecationWarning'>, 'PendingDeprecationWarning': <class 'PendingDeprecationWarning'>, 'SyntaxWarning': <class 'SyntaxWarning'>, 'RuntimeWarning': <class 'RuntimeWarning'>, 'FutureWarning': <class 'FutureWarning'>, 'ImportWarning': <class 'ImportWarning'>, 'UnicodeWarning': <class 'UnicodeWarning'>, 'BytesWarning': <class 'BytesWarning'>, 'ResourceWarning': <class 'ResourceWarning'>, 'ConnectionError': <class 'ConnectionError'>, 'BlockingIOError': <class 'BlockingIOError'>, 'BrokenPipeError': <class 'BrokenPipeError'>, 'ChildProcessError': <class 'ChildProcessError'>, 'ConnectionAbortedError': <class 'ConnectionAbortedError'>, 'ConnectionRefusedError': <class 'ConnectionRefusedError'>, 'ConnectionResetError': <class 'ConnectionResetError'>, 'FileExistsError': <class 'FileExistsError'>, 'FileNotFoundError': <class 'FileNotFoundError'>, 'IsADirectoryError': <class 'IsADirectoryError'>, 'NotADirectoryError': <class 'NotADirectoryError'>, 'InterruptedError': <class 'InterruptedError'>, 'PermissionError': <class 'PermissionError'>, 'ProcessLookupError': <class 'ProcessLookupError'>, 'TimeoutError': <class 'TimeoutError'>, 'open': <built-in function open>, 'copyright': Copyright (c) 2001-2020 Python Software Foundation.\n",
      "All Rights Reserved.\n",
      "\n",
      "Copyright (c) 2000 BeOpen.com.\n",
      "All Rights Reserved.\n",
      "\n",
      "Copyright (c) 1995-2001 Corporation for National Research Initiatives.\n",
      "All Rights Reserved.\n",
      "\n",
      "Copyright (c) 1991-1995 Stichting Mathematisch Centrum, Amsterdam.\n",
      "All Rights Reserved., 'credits':     Thanks to CWI, CNRI, BeOpen.com, Zope Corporation and a cast of thousands\n",
      "    for supporting Python development.  See www.python.org for more information., 'license': Type license() to see the full license text, 'help': Type help() for interactive help, or help(object) for help about object., '__IPYTHON__': True, 'display': <function display at 0x7f729adf3f70>, '__pybind11_internals_v3_gcc_libstdcpp_cxxabi1002__': <capsule object NULL at 0x7f729a4605a0>, 'get_ipython': <bound method InteractiveShell.get_ipython of <ipykernel.zmqshell.ZMQInteractiveShell object at 0x7f7297ede5e0>>}, 'g1': 0, 'g2': 0, 'g3': 0, 'g4': 0, 'g5': 0, 'g6': 0, 'g7': 0}\n",
      "&&&&&&&&\n",
      "Empty DataFrame\n",
      "Columns: []\n",
      "Index: []\n",
      "  Gene         Rule\n",
      "0   g1     not (g7)\n",
      "1   g2       ( g1 )\n",
      "2   g3       ( g2 )\n",
      "3   g4       ( g3 )\n",
      "4   g5       ( g4 )\n",
      "5   g6       ( g5 )\n",
      "6   g7  ( g6 or g7)\n",
      "Gene          g1\n",
      "Rule    not (g7)\n",
      "Name: 0, dtype: object\n",
      "True\n",
      "Gene        g2\n",
      "Rule    ( g1 )\n",
      "Name: 1, dtype: object\n",
      "0\n",
      "Gene        g3\n",
      "Rule    ( g2 )\n",
      "Name: 2, dtype: object\n",
      "0\n",
      "Gene        g4\n",
      "Rule    ( g3 )\n",
      "Name: 3, dtype: object\n",
      "0\n",
      "Gene        g5\n",
      "Rule    ( g4 )\n",
      "Name: 4, dtype: object\n",
      "0\n",
      "Gene        g6\n",
      "Rule    ( g5 )\n",
      "Name: 5, dtype: object\n",
      "0\n",
      "Gene             g7\n",
      "Rule    ( g6 or g7)\n",
      "Name: 6, dtype: object\n",
      "0\n",
      "{'mRNATranscription': 20.0, 'mRNADegradation': 10.0, 'proteinTranslation': 10.0, 'proteinDegradation': 1.0, 'heavisideSigma': 10.0, 'signalingTimescale': 5.0, 'hillCoefficient': 10.0, 'interactionStrength': 1.0, 'x_max': 2.0, 'y_max': 20.0, 'hillThreshold': 10.0, 'heavisideOmega': 0.1}\n",
      "Synthetic-H/dyn-linear-perturbation-transcription-g2/simulations\n",
      "~~~~~~~~~~~~~~~~~~~~~~~\n",
      "Starting simulations\n",
      "Synthetic-H/dyn-linear/simulations/\n",
      "[0.0066974194305524605, 0.5711171506240129, 0.005921342995591271, 0.04163215002756703, 0.2500907511688293, 0.7162314606451294, 0.003033527105204311, 0.7872926555713542, 0.008852220673138877, 0.1306863129341921, 0.05947645771940568, 0.9808817860820346, 1.9112041903341532, 17.628268891300763]\n"
     ]
    },
    {
     "name": "stderr",
     "output_type": "stream",
     "text": [
      "  5%|▌         | 1/20 [00:00<00:07,  2.50it/s]"
     ]
    },
    {
     "name": "stdout",
     "output_type": "stream",
     "text": [
      "Synthetic-H/dyn-linear/simulations/\n",
      "[0.0026296788816658058, 0.4877162030894924, 0.007505537487322544, 0.3915060936162952, 0.007957777155681245, 0.01786860038446774, 0.05821947785350794, 0.9497609435894916, 0.021408515711682626, 0.5253341002197474, 0.03915059120721438, 9.70486748924376, 1.995240120518223, 17.167270082659694]\n"
     ]
    },
    {
     "name": "stderr",
     "output_type": "stream",
     "text": [
      " 10%|█         | 2/20 [00:00<00:06,  2.75it/s]"
     ]
    },
    {
     "name": "stdout",
     "output_type": "stream",
     "text": [
      "Synthetic-H/dyn-linear/simulations/\n",
      "[0.002335629304485833, 0.15685610779474274, 0.004176759542757633, 0.0542375707043028, 0.002686422538444201, 0.4852272762396958, 0.00398499243311195, 0.2481262078196046, 0.00948545810566346, 0.3635291699620965, 0.005112497724784082, 0.6676867629129795, 2.147331698336941, 16.380264165432028]\n"
     ]
    },
    {
     "name": "stderr",
     "output_type": "stream",
     "text": [
      " 15%|█▌        | 3/20 [00:01<00:06,  2.66it/s]"
     ]
    },
    {
     "name": "stdout",
     "output_type": "stream",
     "text": [
      "Synthetic-H/dyn-linear/simulations/\n",
      "[0.0021037354435995484, 0.04114344581272016, 0.0030069173372303908, 0.015289651067036341, 0.015571399232704413, 0.2191876402265161, 0.005548910226387793, 0.006186370394852428, 0.02546160118883044, 2.7631853476075987, 0.005037382421690645, 0.2466710481254723, 1.6914234834958777, 19.748123719127104]\n"
     ]
    },
    {
     "name": "stderr",
     "output_type": "stream",
     "text": [
      " 20%|██        | 4/20 [00:01<00:06,  2.55it/s]"
     ]
    },
    {
     "name": "stdout",
     "output_type": "stream",
     "text": [
      "Synthetic-H/dyn-linear/simulations/\n",
      "[0.0023719126055000354, 0.017055559044721946, 0.02703016720849756, 0.0037153384493855642, 0.007635096588713494, 0.32760364099679634, 0.004489975810488843, 0.2771925888491821, 0.10825232935725383, 0.5627999582334752, 0.002895089205973695, 0.12478420278951513, 1.8443623327053489, 21.914588430251737]\n"
     ]
    },
    {
     "name": "stderr",
     "output_type": "stream",
     "text": [
      " 25%|██▌       | 5/20 [00:01<00:05,  2.59it/s]"
     ]
    },
    {
     "name": "stdout",
     "output_type": "stream",
     "text": [
      "Synthetic-H/dyn-linear/simulations/\n",
      "[0.08058600088124432, 0.5311516604844141, 0.012817528810395551, 0.05454374359551472, 0.046536684662556935, 0.20175140501889716, 0.001574268987049046, 0.04031800543017666, 0.005128908438451269, 0.029583090336644382, 0.02380864011180486, 0.4179733845208479, 2.163163460212819, 25.60592471856216]\n"
     ]
    },
    {
     "name": "stderr",
     "output_type": "stream",
     "text": [
      " 30%|███       | 6/20 [00:02<00:05,  2.55it/s]"
     ]
    },
    {
     "name": "stdout",
     "output_type": "stream",
     "text": [
      "Synthetic-H/dyn-linear/simulations/\n",
      "[0.05175620693500135, 0.10613990266800284, 0.07897100344446797, 0.3535665509746274, 0.013953977366971976, 0.4300271506144201, 0.003316352224012574, 0.08713738193149126, 7.897245540401203e-05, 0.25066210509124165, 0.02063938246049633, 0.004572866230912302, 2.6674858676431343, 18.26064480198289]\n"
     ]
    },
    {
     "name": "stderr",
     "output_type": "stream",
     "text": [
      " 35%|███▌      | 7/20 [00:02<00:05,  2.60it/s]"
     ]
    },
    {
     "name": "stdout",
     "output_type": "stream",
     "text": [
      "Synthetic-H/dyn-linear/simulations/\n",
      "[0.041708855648524674, 1.050013085301748, 0.004791793887378749, 0.024264859156338046, 0.006563616100630929, 0.9063001096852024, 0.0244364851967574, 0.13645313559804828, 0.000526067765214715, 0.1671772120625552, 0.023584844601808385, 0.004896197440464385, 1.7534403099787457, 16.71325139152123]\n"
     ]
    },
    {
     "name": "stderr",
     "output_type": "stream",
     "text": [
      " 40%|████      | 8/20 [00:03<00:04,  2.60it/s]"
     ]
    },
    {
     "name": "stdout",
     "output_type": "stream",
     "text": [
      "Synthetic-H/dyn-linear/simulations/\n",
      "[0.0071888177704799655, 0.25271134179353866, 0.004385756148770473, 0.07402120783297321, 0.009802369713808108, 2.4157985250552128, 0.014620019436355988, 1.2759814214658838, 0.16904472346373284, 4.25145154675925, 0.019325460579078302, 7.711053015124392, 1.7239407163797182, 17.73339029528412]\n"
     ]
    },
    {
     "name": "stderr",
     "output_type": "stream",
     "text": [
      " 45%|████▌     | 9/20 [00:03<00:04,  2.61it/s]"
     ]
    },
    {
     "name": "stdout",
     "output_type": "stream",
     "text": [
      "Synthetic-H/dyn-linear/simulations/\n",
      "[0.16294081638719765, 0.17113469641272966, 0.008929203270832391, 0.01046799516403325, 0.0320550820448823, 0.05777792313947368, 0.01877716746846711, 0.470355956851552, 0.00014023687651336844, 0.93718505561554, 0.034519431524970966, 0.2974807882275073, 1.3253771674879415, 18.840960349721012]\n"
     ]
    },
    {
     "name": "stderr",
     "output_type": "stream",
     "text": [
      " 50%|█████     | 10/20 [00:03<00:03,  2.72it/s]"
     ]
    },
    {
     "name": "stdout",
     "output_type": "stream",
     "text": [
      "Synthetic-H/dyn-linear/simulations/\n",
      "[0.08876694181435713, 0.4849353755508136, 0.02169198463787457, 0.16939731157364715, 0.020492606098846542, 0.10765544172384794, 0.004088642293171361, 0.1858070069266776, 0.007740035550748845, 0.19485166677917432, 0.0218202009735532, 0.1144762333158525, 2.1352109485077597, 15.428486253374224]\n"
     ]
    },
    {
     "name": "stderr",
     "output_type": "stream",
     "text": [
      " 55%|█████▌    | 11/20 [00:04<00:03,  2.83it/s]"
     ]
    },
    {
     "name": "stdout",
     "output_type": "stream",
     "text": [
      "Synthetic-H/dyn-linear/simulations/\n",
      "[0.0007325973862911815, 0.2246972338893494, 0.06730340292161759, 0.2345858642852241, 0.03757338369139727, 1.1846855468213249, 0.0018397938150370358, 0.6028212082010433, 0.010137657643032295, 2.3396858861939847, 0.0505863389498485, 2.1873586906162403, 1.7265728733821737, 19.251498860573086]\n"
     ]
    },
    {
     "name": "stderr",
     "output_type": "stream",
     "text": [
      " 60%|██████    | 12/20 [00:04<00:03,  2.63it/s]"
     ]
    },
    {
     "name": "stdout",
     "output_type": "stream",
     "text": [
      "Synthetic-H/dyn-linear/simulations/\n",
      "[0.0026000346763211768, 0.7662766304685457, 0.006407006589200103, 0.04921651536015359, 0.05674616396065017, 0.3428927193721468, 0.003949613192808603, 0.011394373914556671, 0.011223595275195458, 0.26629085282064296, 0.00614019408574619, 0.027926084982480656, 1.9780847001582615, 28.78198047223003]\n"
     ]
    },
    {
     "name": "stderr",
     "output_type": "stream",
     "text": [
      " 65%|██████▌   | 13/20 [00:04<00:02,  2.67it/s]"
     ]
    },
    {
     "name": "stdout",
     "output_type": "stream",
     "text": [
      "Synthetic-H/dyn-linear/simulations/\n",
      "[0.026112443500014782, 0.13286499700727394, 0.0056889562645250575, 0.004070691371794121, 0.0004497869599705994, 0.19579743837301936, 0.001279069168544601, 0.0028603331360786176, 0.04538662581251611, 0.5345758800904434, 0.012915387757966612, 0.2655596255681685, 1.8823840722062053, 18.467108186010023]\n"
     ]
    },
    {
     "name": "stderr",
     "output_type": "stream",
     "text": [
      " 70%|███████   | 14/20 [00:05<00:02,  2.68it/s]"
     ]
    },
    {
     "name": "stdout",
     "output_type": "stream",
     "text": [
      "Synthetic-H/dyn-linear/simulations/\n",
      "[0.06680934380472094, 0.08058002974174211, 0.010983265495198416, 0.321918336614217, 0.055127816081060634, 0.08882398461274303, 0.013388086282693962, 0.035212635297230024, 0.08226940981854534, 0.15163962824627578, 0.007539842820654299, 0.0008430857349747928, 2.1912889529114934, 21.939419296888232]\n"
     ]
    },
    {
     "name": "stderr",
     "output_type": "stream",
     "text": [
      " 75%|███████▌  | 15/20 [00:05<00:01,  2.70it/s]"
     ]
    },
    {
     "name": "stdout",
     "output_type": "stream",
     "text": [
      "Synthetic-H/dyn-linear/simulations/\n",
      "[0.0007332222346324728, 0.4917358108189406, 0.0060428260448737855, 0.5749595797680019, 0.003113856243802825, 0.02561338725862537, 0.03570508958180732, 0.3939940122690304, 0.037772923995056835, 0.15560657053194127, 0.0019359909825994684, 0.0018020888028824366, 2.26989924679886, 21.31733969694164]\n"
     ]
    },
    {
     "name": "stderr",
     "output_type": "stream",
     "text": [
      " 80%|████████  | 16/20 [00:06<00:01,  2.53it/s]"
     ]
    },
    {
     "name": "stdout",
     "output_type": "stream",
     "text": [
      "Synthetic-H/dyn-linear/simulations/\n",
      "[0.0931656998416236, 1.0928457659217052, 0.008785399351426281, 0.09171615907395386, 0.00023631155917660035, 0.31500006279538223, 0.003092180014672676, 0.13979327363253713, 0.003810314032562897, 0.2599138019968704, 0.002260006415401927, 1.4700760954184338, 1.6433453913110103, 14.714523086725304]\n"
     ]
    },
    {
     "name": "stderr",
     "output_type": "stream",
     "text": [
      " 85%|████████▌ | 17/20 [00:06<00:01,  2.53it/s]"
     ]
    },
    {
     "name": "stdout",
     "output_type": "stream",
     "text": [
      "Synthetic-H/dyn-linear/simulations/\n",
      "[0.20647586448438915, 0.9421721188036328, 0.007821268750607683, 0.2874528761970738, 0.05350002787196007, 1.1274710388726656, 0.000336537342008017, 0.18761999140246904, 0.003038222244864607, 0.2865225365536501, 0.02780942943066286, 1.3887044379506486, 1.8789478807936075, 11.999695450675393]\n"
     ]
    },
    {
     "name": "stderr",
     "output_type": "stream",
     "text": [
      " 90%|█████████ | 18/20 [00:06<00:00,  2.48it/s]"
     ]
    },
    {
     "name": "stdout",
     "output_type": "stream",
     "text": [
      "Synthetic-H/dyn-linear/simulations/\n",
      "[0.02003333984901908, 0.022085616307038737, 0.02428253593593496, 0.06334232263626584, 0.07758186405972801, 0.016609224655289443, 0.00969447996372434, 0.1630796406470848, 7.11720871638729e-05, 0.2273433957431547, 0.01161543885567345, 0.15127546358363553, 2.3218822447168472, 16.95995967242609]\n"
     ]
    },
    {
     "name": "stderr",
     "output_type": "stream",
     "text": [
      " 95%|█████████▌| 19/20 [00:07<00:00,  2.41it/s]"
     ]
    },
    {
     "name": "stdout",
     "output_type": "stream",
     "text": [
      "Synthetic-H/dyn-linear/simulations/\n",
      "[0.04784991695312234, 0.25021863367475805, 0.024119923759348585, 0.22324925919538985, 0.0058811643174068355, 0.03267085573879444, 0.0073183712365201435, 1.9904730948583893, 0.0034592728739978114, 0.07392135047196148, 0.0036554369194768885, 0.09693737632089376, 1.6141480440086038, 17.719815350756203]\n"
     ]
    },
    {
     "name": "stderr",
     "output_type": "stream",
     "text": [
      "100%|██████████| 20/20 [00:07<00:00,  2.59it/s]\n",
      " 10%|█         | 2/20 [00:00<00:01, 15.61it/s]"
     ]
    },
    {
     "name": "stdout",
     "output_type": "stream",
     "text": [
      "Simulations took 7.728 s\n",
      "starting to concat files\n"
     ]
    },
    {
     "name": "stderr",
     "output_type": "stream",
     "text": [
      "100%|██████████| 20/20 [00:01<00:00, 17.52it/s]\n"
     ]
    },
    {
     "name": "stdout",
     "output_type": "stream",
     "text": [
      "Concating files took 1.14 s\n",
      "Requested nClusters=1, not performing k-means clustering\n",
      "Generating input files for pipline...\n",
      "1. refNetwork\n",
      "2. PseudoTime.csv\n",
      "===============================================\n",
      "{}\n",
      "{'g2': 10.0}\n",
      "1\n",
      "(3, 7, 20, 7)\n",
      "Synthetic-H/dyn-linear-PerturbationSampling.npy\n",
      "Input file generation took 0.16 s\n",
      "BoolODE.py took 9.10s\n"
     ]
    }
   ],
   "source": [
    "# execution from module\n",
    "E, gene_names, grn_mtx = pt.perturbation(\n",
    "    model_definition, \n",
    "    simulation_time,\n",
    "    num_cells,\n",
    "    sampling_time,\n",
    "    perturbed_transcription, \n",
    "    perturbed_translation,\n",
    "    output_dir,\n",
    "    output_filename,\n",
    "    modeltype\n",
    ")"
   ]
  },
  {
   "cell_type": "code",
   "execution_count": 13,
   "metadata": {},
   "outputs": [
    {
     "data": {
      "text/plain": [
       "numpy.ndarray"
      ]
     },
     "execution_count": 13,
     "metadata": {},
     "output_type": "execute_result"
    }
   ],
   "source": [
    "type(grn_mtx)"
   ]
  },
  {
   "cell_type": "code",
   "execution_count": 6,
   "metadata": {},
   "outputs": [
    {
     "data": {
      "text/plain": [
       "['g1', 'g2', 'g3', 'g4', 'g5', 'g6', 'g7']"
      ]
     },
     "execution_count": 6,
     "metadata": {},
     "output_type": "execute_result"
    }
   ],
   "source": [
    "gene_names"
   ]
  },
  {
   "cell_type": "code",
   "execution_count": 6,
   "metadata": {},
   "outputs": [
    {
     "data": {
      "text/plain": [
       "array([[ 0.,  0.,  0.,  0.,  0.,  0., -1.],\n",
       "       [ 1.,  0.,  0.,  0.,  0.,  0.,  0.],\n",
       "       [ 0.,  1.,  0.,  0.,  0.,  0.,  0.],\n",
       "       [ 0.,  0.,  1.,  0.,  0.,  0.,  0.],\n",
       "       [ 0.,  0.,  0.,  1.,  0.,  0.,  0.],\n",
       "       [ 0.,  0.,  0.,  0.,  1.,  0.,  0.],\n",
       "       [ 0.,  0.,  0.,  0.,  0.,  1.,  1.]])"
      ]
     },
     "execution_count": 6,
     "metadata": {},
     "output_type": "execute_result"
    }
   ],
   "source": [
    "grn_mtx"
   ]
  },
  {
   "cell_type": "code",
   "execution_count": 8,
   "metadata": {},
   "outputs": [
    {
     "data": {
      "text/plain": [
       "0"
      ]
     },
     "execution_count": 8,
     "metadata": {},
     "output_type": "execute_result"
    }
   ],
   "source": [
    "len({})"
   ]
  },
  {
   "cell_type": "code",
   "execution_count": 11,
   "metadata": {},
   "outputs": [
    {
     "data": {
      "text/plain": [
       "array([[2.33911183e-03, 3.78427327e-03, 1.26063113e-02, 5.28757987e-03,\n",
       "        3.98929380e-03, 8.83323447e-03, 2.29430625e+00],\n",
       "       [1.02218291e-02, 2.96784870e-02, 4.21960216e-02, 7.02293388e-02,\n",
       "        9.67243507e-03, 7.34848355e-03, 2.44064926e+00],\n",
       "       [3.84931846e-03, 1.02895643e-02, 1.42831537e-02, 2.91020558e-02,\n",
       "        3.29358869e-03, 1.25454928e-02, 2.18345325e+00],\n",
       "       [2.99357644e-02, 8.92061078e-03, 6.91528626e-03, 6.52996128e-02,\n",
       "        2.73809438e-03, 7.27914942e-03, 2.40234408e+00],\n",
       "       [2.08682226e-03, 4.34614295e-02, 5.85279112e-03, 3.92359427e-03,\n",
       "        1.04776582e-03, 7.33614345e-03, 1.87507764e+00],\n",
       "       [2.09047631e-02, 6.19858396e-04, 5.08922459e-02, 4.44057438e-03,\n",
       "        4.04191043e-03, 1.57179519e-02, 2.10241825e+00],\n",
       "       [2.32658233e-02, 3.00280121e-03, 2.21962783e-04, 2.44814431e-03,\n",
       "        9.56100507e-02, 5.93380286e-03, 2.28657343e+00],\n",
       "       [3.86800353e-03, 5.22570908e-03, 9.13075139e-03, 1.05550806e-03,\n",
       "        1.48052129e-03, 3.32616843e-02, 2.07196308e+00],\n",
       "       [3.77882708e-02, 1.82919875e-02, 8.58440132e-04, 2.82454471e-02,\n",
       "        4.35426865e-03, 4.94208957e-02, 1.94113441e+00],\n",
       "       [3.96471163e-02, 1.28786161e-02, 9.56139754e-03, 8.00116608e-03,\n",
       "        2.03165657e-04, 6.04951327e-03, 1.76647951e+00],\n",
       "       [3.44413283e-02, 2.49392332e-03, 1.16100459e-02, 1.21203156e-01,\n",
       "        1.00904865e-02, 1.06242070e-02, 1.76559793e+00],\n",
       "       [1.60955904e-02, 1.68473334e-03, 6.59168741e-04, 1.27458969e-02,\n",
       "        8.41420600e-04, 3.21688405e-02, 1.81386539e+00],\n",
       "       [7.50256170e-03, 1.73162691e-02, 5.96955387e-03, 6.90352444e-03,\n",
       "        6.08796701e-03, 5.63513560e-03, 2.13156503e+00],\n",
       "       [2.00830428e-02, 5.79543072e-04, 6.08032545e-03, 1.15245850e-02,\n",
       "        2.04407209e-02, 3.44974948e-02, 2.00850068e+00],\n",
       "       [2.81209616e-03, 4.48452981e-03, 2.22471970e-02, 3.37396173e-02,\n",
       "        3.78054500e-03, 5.27133266e-03, 2.86519636e+00],\n",
       "       [1.65601969e-03, 7.17604980e-03, 2.59274517e-02, 3.08963007e-03,\n",
       "        2.96297708e-03, 1.72406270e-02, 2.11230275e+00],\n",
       "       [7.71778601e-03, 9.67232110e-03, 2.82845323e-02, 2.11034264e-02,\n",
       "        9.82431453e-03, 6.68771965e-04, 2.33502701e+00],\n",
       "       [1.80248809e-04, 3.66416740e-03, 4.14113864e-03, 1.24584066e-02,\n",
       "        1.64283387e-04, 1.20454174e-02, 1.58579876e+00],\n",
       "       [8.90663747e-03, 3.20401418e-02, 4.86757418e-03, 5.21553682e-03,\n",
       "        7.77439107e-03, 2.02053171e-02, 2.64793856e+00],\n",
       "       [7.85372918e-03, 8.66136576e-03, 1.30595739e-01, 1.14080517e-02,\n",
       "        2.35589290e-03, 8.61482344e-02, 1.82244370e+00]])"
      ]
     },
     "execution_count": 11,
     "metadata": {},
     "output_type": "execute_result"
    }
   ],
   "source": [
    "E[0,0,:,:]"
   ]
  },
  {
   "cell_type": "code",
   "execution_count": null,
   "metadata": {},
   "outputs": [],
   "source": [
    "# hill model\n",
    "# Automatically generated by BoolODE\n",
    "n_g1\t10.0\n",
    "n_g2\t10.0\n",
    "n_g3\t10.0\n",
    "n_g4\t10.0\n",
    "n_g5\t10.0\n",
    "n_g6\t10.0\n",
    "n_g7\t10.0\n",
    "k_g1\t10.0\n",
    "k_g2\t10.0\n",
    "k_g3\t10.0\n",
    "k_g4\t10.0\n",
    "k_g5\t10.0\n",
    "k_g6\t10.0\n",
    "k_g7\t10.0\n",
    "sigmaH_g1\t10.0\n",
    "sigmaH_g2\t10.0\n",
    "sigmaH_g3\t10.0\n",
    "sigmaH_g4\t10.0\n",
    "sigmaH_g5\t10.0\n",
    "sigmaH_g6\t10.0\n",
    "sigmaH_g7\t10.0\n",
    "m_g1\t20.0\n",
    "m_g2\t20.0\n",
    "m_g3\t20.0\n",
    "m_g4\t20.0\n",
    "m_g5\t20.0\n",
    "m_g6\t10.0\n",
    "m_g7\t20.0\n",
    "l_x_g1\t10.0\n",
    "l_x_g2\t10.0\n",
    "l_x_g3\t10.0\n",
    "l_x_g4\t10.0\n",
    "l_x_g5\t10.0\n",
    "l_x_g6\t10.0\n",
    "l_x_g7\t10.0\n",
    "r_g1\t10.0\n",
    "r_g2\t10.0\n",
    "r_g3\t10.0\n",
    "r_g4\t10.0\n",
    "r_g5\t10.0\n",
    "r_g6\t10.0\n",
    "r_g7\t10.0\n",
    "l_p_g1\t1.0\n",
    "l_p_g2\t1.0\n",
    "l_p_g3\t1.0\n",
    "l_p_g4\t1.0\n",
    "l_p_g5\t1.0\n",
    "l_p_g6\t1.0\n",
    "l_p_g7\t1.0\n",
    "alpha_g1\t1\n",
    "alpha_g2\t0\n",
    "alpha_g3\t0\n",
    "alpha_g4\t0\n",
    "alpha_g5\t0\n",
    "alpha_g6\t0\n",
    "alpha_g7\t0\n",
    "a_g1_g7\t0\n",
    "a_g2_g1\t1\n",
    "a_g3_g2\t1\n",
    "a_g4_g3\t1\n",
    "a_g5_g4\t1\n",
    "a_g6_g5\t1\n",
    "a_g7_g6\t1\n",
    "a_g7_g7\t1\n",
    "a_g7_g6_g7\t1"
   ]
  },
  {
   "cell_type": "code",
   "execution_count": null,
   "metadata": {},
   "outputs": [],
   "source": [
    "# heaviside model\n",
    "# Automatically generated by BoolODE\n",
    "n_g1\t10.0\n",
    "n_g2\t10.0\n",
    "n_g3\t10.0\n",
    "n_g4\t10.0\n",
    "n_g5\t10.0\n",
    "n_g6\t10.0\n",
    "n_g7\t10.0\n",
    "k_g1\t10.0\n",
    "k_g2\t10.0\n",
    "k_g3\t10.0\n",
    "k_g4\t10.0\n",
    "k_g5\t10.0\n",
    "k_g6\t10.0\n",
    "k_g7\t10.0\n",
    "sigmaH_g1\t10.0\n",
    "sigmaH_g2\t10.0\n",
    "sigmaH_g3\t10.0\n",
    "sigmaH_g4\t10.0\n",
    "sigmaH_g5\t10.0\n",
    "sigmaH_g6\t10.0\n",
    "sigmaH_g7\t10.0\n",
    "m_g1\t20.0\n",
    "m_g2\t20.0\n",
    "m_g3\t20.0\n",
    "m_g4\t20.0\n",
    "m_g5\t20.0\n",
    "m_g6\t20.0\n",
    "m_g7\t10.0\n",
    "l_x_g1\t10.0\n",
    "l_x_g2\t10.0\n",
    "l_x_g3\t10.0\n",
    "l_x_g4\t10.0\n",
    "l_x_g5\t10.0\n",
    "l_x_g6\t10.0\n",
    "l_x_g7\t10.0\n",
    "r_g1\t10.0\n",
    "r_g2\t10.0\n",
    "r_g3\t10.0\n",
    "r_g4\t10.0\n",
    "r_g5\t10.0\n",
    "r_g6\t10.0\n",
    "r_g7\t10.0\n",
    "l_p_g1\t1.0\n",
    "l_p_g2\t1.0\n",
    "l_p_g3\t1.0\n",
    "l_p_g4\t1.0\n",
    "l_p_g5\t1.0\n",
    "l_p_g6\t1.0\n",
    "l_p_g7\t1.0\n",
    "omega_g1\t1\n",
    "omega_g2\t-1\n",
    "omega_g3\t-1\n",
    "omega_g4\t-1\n",
    "omega_g5\t-1\n",
    "omega_g6\t-1\n",
    "omega_g7\t-1\n",
    "w_g1_g7\t-0.1\n",
    "w_g2_g1\t0.1\n",
    "w_g3_g2\t0.1\n",
    "w_g4_g3\t0.1\n",
    "w_g5_g4\t0.1\n",
    "w_g6_g5\t0.1\n",
    "w_g7_g6\t0.1\n",
    "w_g7_g7\t0.1\n",
    "w_g7_g6_g7\t0.1\n"
   ]
  },
  {
   "cell_type": "code",
   "execution_count": null,
   "metadata": {},
   "outputs": [],
   "source": []
  },
  {
   "cell_type": "markdown",
   "metadata": {},
   "source": [
    "## Step by Step simulation"
   ]
  },
  {
   "cell_type": "code",
   "execution_count": 2,
   "metadata": {},
   "outputs": [],
   "source": [
    "gs = bo.GlobalSettings(\"data\", \"Synthetic-H\", True, False, \"heaviside\")\n",
    "js = bo.JobSettings(\n",
    "[{\n",
    "    \"name\": \"dyn-L-1\",\n",
    "    \"model_definition\": \"dyn-linear.txt\",\n",
    "    \"model_initial_conditions\": \"dyn-linear_ics.txt\",\n",
    "    \"simulation_time\": 9,\n",
    "    \"num_cells\": 20,\n",
    "    \"do_parallel\": True,\n",
    "    \"sample_cells\": False,\n",
    "    \"perturbation\": False,\n",
    "    \"perturbed_transcription\": { 'g1': 10.0 },\n",
    "    \n",
    "    \"perturbation_input\": \"\"\n",
    "}]\n",
    ")"
   ]
  },
  {
   "cell_type": "code",
   "execution_count": 3,
   "metadata": {},
   "outputs": [],
   "source": [
    "boolodejobs = bo.BoolODE(job_settings=js, global_settings=gs, postproc_settings=\"\")"
   ]
  },
  {
   "cell_type": "code",
   "execution_count": 4,
   "metadata": {},
   "outputs": [
    {
     "data": {
      "text/plain": [
       "[{'name': 'dyn-L-1',\n",
       "  'model_definition': 'dyn-linear.txt',\n",
       "  'model_initial_conditions': 'dyn-linear_ics.txt',\n",
       "  'simulation_time': 9,\n",
       "  'num_cells': 20,\n",
       "  'do_parallel': True,\n",
       "  'sample_cells': False,\n",
       "  'perturbation': False,\n",
       "  'perturbed_transcription': {'g1': 10.0},\n",
       "  'perturbation_input': ''}]"
      ]
     },
     "execution_count": 4,
     "metadata": {},
     "output_type": "execute_result"
    }
   ],
   "source": [
    "boolodejobs.job_settings.jobs"
   ]
  },
  {
   "cell_type": "code",
   "execution_count": 5,
   "metadata": {},
   "outputs": [
    {
     "name": "stdout",
     "output_type": "stream",
     "text": [
      "Creating output folders\n",
      "Synthetic-H/dyn-L-1 does not exist, creating it...\n",
      "Starting simulations\n",
      "Fixing rate parameters to defaults\n",
      "{'n_g1': 10.0, 'n_g2': 10.0, 'n_g3': 10.0, 'n_g4': 10.0, 'n_g5': 10.0, 'n_g6': 10.0, 'n_g7': 10.0, 'k_g1': 10.0, 'k_g2': 10.0, 'k_g3': 10.0, 'k_g4': 10.0, 'k_g5': 10.0, 'k_g6': 10.0, 'k_g7': 10.0, 'sigmaH_g1': 10.0, 'sigmaH_g2': 10.0, 'sigmaH_g3': 10.0, 'sigmaH_g4': 10.0, 'sigmaH_g5': 10.0, 'sigmaH_g6': 10.0, 'sigmaH_g7': 10.0, 'm_g1': 20.0, 'm_g2': 20.0, 'm_g3': 20.0, 'm_g4': 20.0, 'm_g5': 20.0, 'm_g6': 20.0, 'm_g7': 20.0, 'l_x_g1': 10.0, 'l_x_g2': 10.0, 'l_x_g3': 10.0, 'l_x_g4': 10.0, 'l_x_g5': 10.0, 'l_x_g6': 10.0, 'l_x_g7': 10.0, 'r_g1': 10.0, 'r_g2': 10.0, 'r_g3': 10.0, 'r_g4': 10.0, 'r_g5': 10.0, 'r_g6': 10.0, 'r_g7': 10.0, 'l_p_g1': 1.0, 'l_p_g2': 1.0, 'l_p_g3': 1.0, 'l_p_g4': 1.0, 'l_p_g5': 1.0, 'l_p_g6': 1.0, 'l_p_g7': 1.0}\n",
      "{'mRNATranscription': 20.0, 'mRNADegradation': 10.0, 'proteinTranslation': 10.0, 'proteinDegradation': 1.0, 'heavisideSigma': 10.0, 'signalingTimescale': 5.0, 'hillCoefficient': 10.0, 'interactionStrength': 1.0, 'x_max': 2.0, 'y_max': 20.0, 'hillThreshold': 10.0, 'heavisideOmega': 0.1}\n",
      "Synthetic-H/dyn-L-1/simulations\n",
      "~~~~~~~~~~~~~~~~~~~~~~~\n",
      "Synthetic-H/dyn-L-1/simulations does not exist, creating it...\n",
      "Starting simulations\n",
      "[1.0, 10.0, 0.01, 0.1, 0.01, 0.1, 0.01, 0.1, 0.01, 0.1, 0.01, 0.1, 0.01, 0.1][1.0, 10.0, 0.01, 0.1, 0.01, 0.1, 0.01, 0.1, 0.01, 0.1, 0.01, 0.1, 0.01, 0.1]\n",
      "[1.0, 10.0, 0.01, 0.1, 0.01, 0.1, 0.01, 0.1, 0.01, 0.1, 0.01, 0.1, 0.01, 0.1][1.0, 10.0, 0.01, 0.1, 0.01, 0.1, 0.01, 0.1, 0.01, 0.1, 0.01, 0.1, 0.01, 0.1][1.0, 10.0, 0.01, 0.1, 0.01, 0.1, 0.01, 0.1, 0.01, 0.1, 0.01, 0.1, 0.01, 0.1][1.0, 10.0, 0.01, 0.1, 0.01, 0.1, 0.01, 0.1, 0.01, 0.1, 0.01, 0.1, 0.01, 0.1][1.0, 10.0, 0.01, 0.1, 0.01, 0.1, 0.01, 0.1, 0.01, 0.1, 0.01, 0.1, 0.01, 0.1][1.0, 10.0, 0.01, 0.1, 0.01, 0.1, 0.01, 0.1, 0.01, 0.1, 0.01, 0.1, 0.01, 0.1]\n",
      "\n",
      "\n",
      "\n",
      "\n",
      "\n",
      "\n",
      "[1.0, 10.0, 0.01, 0.1, 0.01, 0.1, 0.01, 0.1, 0.01, 0.1, 0.01, 0.1, 0.01, 0.1]\n",
      "[1.0, 10.0, 0.01, 0.1, 0.01, 0.1, 0.01, 0.1, 0.01, 0.1, 0.01, 0.1, 0.01, 0.1][1.0, 10.0, 0.01, 0.1, 0.01, 0.1, 0.01, 0.1, 0.01, 0.1, 0.01, 0.1, 0.01, 0.1]\n",
      "\n",
      "[1.0, 10.0, 0.01, 0.1, 0.01, 0.1, 0.01, 0.1, 0.01, 0.1, 0.01, 0.1, 0.01, 0.1]\n",
      "[1.0, 10.0, 0.01, 0.1, 0.01, 0.1, 0.01, 0.1, 0.01, 0.1, 0.01, 0.1, 0.01, 0.1]\n",
      "[1.0, 10.0, 0.01, 0.1, 0.01, 0.1, 0.01, 0.1, 0.01, 0.1, 0.01, 0.1, 0.01, 0.1]\n",
      "[1.0, 10.0, 0.01, 0.1, 0.01, 0.1, 0.01, 0.1, 0.01, 0.1, 0.01, 0.1, 0.01, 0.1]\n",
      "[1.0, 10.0, 0.01, 0.1, 0.01, 0.1, 0.01, 0.1, 0.01, 0.1, 0.01, 0.1, 0.01, 0.1]\n",
      "[1.0, 10.0, 0.01, 0.1, 0.01, 0.1, 0.01, 0.1, 0.01, 0.1, 0.01, 0.1, 0.01, 0.1]\n",
      "[1.0, 10.0, 0.01, 0.1, 0.01, 0.1, 0.01, 0.1, 0.01, 0.1, 0.01, 0.1, 0.01, 0.1][1.0, 10.0, 0.01, 0.1, 0.01, 0.1, 0.01, 0.1, 0.01, 0.1, 0.01, 0.1, 0.01, 0.1]\n",
      "\n",
      "[1.0, 10.0, 0.01, 0.1, 0.01, 0.1, 0.01, 0.1, 0.01, 0.1, 0.01, 0.1, 0.01, 0.1]\n"
     ]
    },
    {
     "name": "stderr",
     "output_type": "stream",
     "text": [
      " 20%|██        | 4/20 [00:00<00:00, 30.60it/s]"
     ]
    },
    {
     "name": "stdout",
     "output_type": "stream",
     "text": [
      "Simulations took 1.465 s\n",
      "starting to concat files\n"
     ]
    },
    {
     "name": "stderr",
     "output_type": "stream",
     "text": [
      "100%|██████████| 20/20 [00:00<00:00, 29.90it/s]"
     ]
    },
    {
     "name": "stdout",
     "output_type": "stream",
     "text": [
      "Concating files took 0.67 s\n",
      "Requested nClusters=1, not performing k-means clustering\n",
      "Generating input files for pipline...\n",
      "1. refNetwork\n",
      "2. PseudoTime.csv\n",
      "Dataset too large.\n",
      "Sampling 20 cells, one from each simulated trajectory.\n",
      "Input file generation took 0.09 s\n",
      "BoolODE.py took 2.25s\n"
     ]
    },
    {
     "name": "stderr",
     "output_type": "stream",
     "text": [
      "\n"
     ]
    }
   ],
   "source": [
    "boolodejobs.execute_jobs()"
   ]
  },
  {
   "cell_type": "code",
   "execution_count": null,
   "metadata": {},
   "outputs": [],
   "source": [
    "# perturbation loop transcription or translation片方\n",
    "transcription = [{'g1':5.0}, {'g'}, {}]\n",
    "translation = [5.0, {}, {}]"
   ]
  },
  {
   "cell_type": "code",
   "execution_count": null,
   "metadata": {},
   "outputs": [],
   "source": [
    "for trans in transcription:\n",
    "    if isinstance(trans, float):\n",
    "        hoge\n",
    "        {gene: hoge} list loop\n",
    "    else isinstance(trans, dict):\n",
    "        # job実行"
   ]
  },
  {
   "cell_type": "code",
   "execution_count": 6,
   "metadata": {},
   "outputs": [],
   "source": [
    "js = bo.JobSettings(\n",
    "[{\n",
    "    \"name\": \"dyn-L-1-perturbation\",\n",
    "    \"model_definition\": \"dyn-linear.txt\",\n",
    "    \"model_initial_conditions\": \"dyn-linear_ics.txt\",\n",
    "    \"simulation_time\": 9,\n",
    "    \"num_cells\": 20,\n",
    "    \"do_parallel\": True,\n",
    "    \"sample_cells\": False,\n",
    "    \"perturbation\": True,\n",
    "    \"perturbed_transcription\": {},#{ 'g1': 10.0 },\n",
    "    \"perturbed_translation\": { 'g1': 5.0 }, # 片方を想定\n",
    "    \"perturbation_input\": \"dyn-L-1/simulations/\", #ここが同じなら初期状態も同じ\n",
    "    \n",
    "    \"perturbation_sampling_time\": [100, 300, 500],\n",
    "    \"perturbation_sampling_filename\": \"PerturbationSampling.npy\" #ここが同じなら出力も同じ\n",
    "    # こいつをどこに置くかが問題\n",
    "}]\n",
    ")\n",
    "\n",
    "# perturbed_translationの導入\n",
    "# 複数回のperturbation実験。その際のoutput"
   ]
  },
  {
   "cell_type": "code",
   "execution_count": 7,
   "metadata": {},
   "outputs": [],
   "source": [
    "boolodejobs = bo.BoolODE(job_settings=js, global_settings=gs, postproc_settings=\"\")"
   ]
  },
  {
   "cell_type": "code",
   "execution_count": 8,
   "metadata": {},
   "outputs": [
    {
     "name": "stdout",
     "output_type": "stream",
     "text": [
      "Creating output folders\n",
      "Starting simulations\n",
      "Fixing rate parameters to defaults\n",
      "{'n_g1': 10.0, 'n_g2': 10.0, 'n_g3': 10.0, 'n_g4': 10.0, 'n_g5': 10.0, 'n_g6': 10.0, 'n_g7': 10.0, 'k_g1': 10.0, 'k_g2': 10.0, 'k_g3': 10.0, 'k_g4': 10.0, 'k_g5': 10.0, 'k_g6': 10.0, 'k_g7': 10.0, 'sigmaH_g1': 10.0, 'sigmaH_g2': 10.0, 'sigmaH_g3': 10.0, 'sigmaH_g4': 10.0, 'sigmaH_g5': 10.0, 'sigmaH_g6': 10.0, 'sigmaH_g7': 10.0, 'm_g1': 20.0, 'm_g2': 20.0, 'm_g3': 20.0, 'm_g4': 20.0, 'm_g5': 20.0, 'm_g6': 20.0, 'm_g7': 20.0, 'l_x_g1': 10.0, 'l_x_g2': 10.0, 'l_x_g3': 10.0, 'l_x_g4': 10.0, 'l_x_g5': 10.0, 'l_x_g6': 10.0, 'l_x_g7': 10.0, 'r_g1': 5.0, 'r_g2': 10.0, 'r_g3': 10.0, 'r_g4': 10.0, 'r_g5': 10.0, 'r_g6': 10.0, 'r_g7': 10.0, 'l_p_g1': 1.0, 'l_p_g2': 1.0, 'l_p_g3': 1.0, 'l_p_g4': 1.0, 'l_p_g5': 1.0, 'l_p_g6': 1.0, 'l_p_g7': 1.0}\n",
      "{'mRNATranscription': 20.0, 'mRNADegradation': 10.0, 'proteinTranslation': 10.0, 'proteinDegradation': 1.0, 'heavisideSigma': 10.0, 'signalingTimescale': 5.0, 'hillCoefficient': 10.0, 'interactionStrength': 1.0, 'x_max': 2.0, 'y_max': 20.0, 'hillThreshold': 10.0, 'heavisideOmega': 0.1}\n",
      "Synthetic-H/dyn-L-1-perturbation/simulations\n",
      "~~~~~~~~~~~~~~~~~~~~~~~\n",
      "Starting simulations\n",
      "Synthetic-H/dyn-L-1/simulations/Synthetic-H/dyn-L-1/simulations/Synthetic-H/dyn-L-1/simulations/Synthetic-H/dyn-L-1/simulations/Synthetic-H/dyn-L-1/simulations/Synthetic-H/dyn-L-1/simulations/\n",
      "\n",
      "\n",
      "\n",
      "\n",
      "Synthetic-H/dyn-L-1/simulations/Synthetic-H/dyn-L-1/simulations/\n",
      "\n",
      "\n",
      "[0.0692508101669735, 1.2107709652580405, 0.01754552921866269, 1.3504716216745944, 0.011864887295431007, 0.4102295408759479, 0.056942159547326926, 4.9743067678340775, 0.04832494164956413, 5.462795744263797, 0.22726239789359096, 23.391954465532113, 1.997865749231896, 17.065507349682427]\n",
      "[0.04021116265710338, 1.3116048600628378, 0.008568377644564648, 0.4283659683997406, 0.2516815024488334, 5.747761478395642, 0.008099794072545612, 9.246150213840957, 0.5792948576831772, 11.491647768137994, 1.9712204972250795, 21.07163263563684, 1.9187353314675517, 17.83145411268682][0.08643269518600682, 1.8963396662860448, 0.029611034764142775, 1.6089806287283948, 0.048575337513880434, 5.116022209349857, 0.00457051561342294, 8.838496973387656, 0.9904073641361616, 17.266080810933516, 2.0391059153800217, 23.85650934365593, 2.163505714341238, 25.381874897054182]\n",
      "\n",
      "[0.008418902167417475, 0.043871231453307166, 0.0035406428743897664, 0.3287811193861093, 0.012294820121101587, 0.18546455564865869, 0.002214231146279811, 0.4333769062276166, 0.016427138831517595, 10.467047896393813, 1.0101229870845279, 19.836194773209115, 1.6947774212768192, 19.682761517509388]\n",
      "[0.00023885302103809122, 0.0539400612932553, 0.030104668294204863, 0.008587461946522938, 0.0073726054709618485, 3.439378176238596, 0.002716067815719773, 6.5464213980839325, 0.12768520495662508, 16.07588063732327, 1.860220603126332, 18.613744893428983, 1.8447234530190515, 21.53437095595602][0.0004663701808911443, 0.05115887690390754, 0.005880861577182737, 0.5142656730458561, 0.0041121100130078955, 2.2815424066273144, 0.0005102460345034097, 2.351058272812222, 0.011247561275357395, 4.8368709723307335, 0.006965854575982686, 11.289188361246724, 2.162025240452345, 16.33519361842605]\n",
      "[0.02950569493217488, 0.3024024732253376, 0.0747055479623817, 0.9489842586446804, 0.02037196177853952, 2.503251958999109, 0.0010108465659316227, 3.229037261190911, 0.00019463923095053268, 8.106681234960384, 0.5743215594724905, 14.4149199334708, 2.6713222691495746, 18.06748314741811]\n",
      "[0.016423432381425632, 1.3775141130448585, 0.009522613219709007, 0.15254563954420328, 0.008037620503906452, 4.694370143992089, 0.04785755332930938, 6.6558395485573945, 0.14434509094207545, 15.562879176963847, 2.066441353313675, 15.742635492238922, 1.7617757656319826, 16.67304588509104]\n",
      "\n",
      "Synthetic-H/dyn-L-1/simulations/\n",
      "Synthetic-H/dyn-L-1/simulations/\n",
      "Synthetic-H/dyn-L-1/simulations/\n",
      "Synthetic-H/dyn-L-1/simulations/Synthetic-H/dyn-L-1/simulations/\n",
      "\n",
      "Synthetic-H/dyn-L-1/simulations/Synthetic-H/dyn-L-1/simulations/\n",
      "[0.003176037525662234, 0.23875621993128165, 0.0006300883334004644, 0.0884949845867298, 0.014484925512880312, 2.4619029147108984, 0.027596454051204547, 1.4015182550798198, 0.18121492721885532, 4.659340011559552, 0.02096941451506357, 8.209563728138166, 1.726885710560388, 17.736296353824024]\n",
      "\n",
      "[0.13759124878046952, 0.8540805117789596, 9.64293128622451e-05, 0.5506905048628198, 0.02877870715025313, 4.824344371611873, 0.20952510026319715, 12.553251829479644, 1.432823320805758, 19.940588240898023, 2.324084890313792, 16.272933876185412, 1.3305849208686291, 18.74328882137483]\n",
      "[0.00048704701484654197, 0.7341740541687725, 0.06986877004920289, 0.9839388554487573, 0.030466616473075407, 6.515362545757728, 0.011729253504673685, 10.842470275731444, 1.6628078690225754, 26.12168112447862, 2.3905521804114027, 24.98881677162478, 1.7300660992758308, 19.16579566571587]\n",
      "[0.05408150648810863, 0.7893744554293421, 0.010922467063925287, 0.313894553173306, 0.026381388142628127, 0.9288697469668172, 0.001801213117887105, 4.0300850510202135, 0.003129280603444643, 11.519321883930335, 2.2579563392045943, 16.496457301744847, 2.2040053628301446, 15.517302079711769]Synthetic-H/dyn-L-1/simulations/\n",
      "\n",
      "[0.0013507391446118994, 0.81627333534015, 0.005632219980273771, 0.20221919524179702, 0.02349476144222509, 0.3376562396869983, 0.0028777573992953024, 0.8576376189484404, 0.003987358701173827, 2.7620416610657363, 0.012333599557786136, 5.649219987059111, 1.9781103845459207, 28.659013119041468]\n",
      "[0.13838589311798846, 1.7642926797600638, 0.013581372890808643, 5.83816766041596, 0.2735352263032011, 13.209260129075384, 2.0805259607285973, 20.06568213364337, 2.6211565974192275, 20.834758419709694, 1.8674565448324982, 17.162428974634146, 2.191969025871165, 21.118779025660665][0.022522372351543685, 0.13211355367745736, 0.008420067741080334, 0.3963254145723713, 0.0014400387046068109, 1.5205149625776342, 0.00022410863983975566, 5.1853086420333465, 0.1906844937956721, 15.076857531527835, 1.967457362885897, 20.962169561396774, 1.8866523812677471, 18.364134298105327]\n",
      "\n",
      "[0.0021130184635249783, 1.8019379884460416, 0.00834854452315671, 1.1000716105628912, 0.0005595267096189915, 0.008154734210090539, 0.024727781351008213, 5.266795037394547, 0.05245308060810407, 8.118881846327971, 0.6591431991729162, 12.961427420258513, 2.2712378469379466, 21.189915062607078]\n",
      "Synthetic-H/dyn-L-1/simulations/Synthetic-H/dyn-L-1/simulations/\n",
      "\n",
      "Synthetic-H/dyn-L-1/simulations/\n",
      "Synthetic-H/dyn-L-1/simulations/\n",
      "[0.03315335836510852, 0.7733008618167571, 0.012101873111996056, 1.487063521356905, 0.0022089078028190803, 3.2088794821428466, 0.006911514026449754, 8.201273726507404, 0.6164612961327461, 18.753429841458853, 1.8554666794467845, 21.551590713677395, 1.6794685174708897, 15.185059574105676]\n",
      "[0.16277780694108346, 1.7936286097506684, 0.018444449931445873, 1.924625877015832, 0.03085233158115433, 7.885759027349554, 0.12536185547225756, 15.79421665364747, 1.8643987888979128, 22.131287468963066, 2.4566266583013854, 28.36518357511392, 2.0359928047135174, 12.005065469330669]\n",
      "[0.025662798602202247, 1.1040313512765612, 0.018490621930080442, 0.13550717977762688, 0.00011301855550060849, 0.5711051968527365, 0.00941329168911199, 10.701843241292437, 1.4610916524091986, 18.318402614380986, 1.7058776520423409, 20.050956949532736, 1.6171836767195389, 17.290833804211328]\n",
      "[0.015524617008532157, 0.0213420759338764, 0.025924837999676004, 0.1987074354500472, 0.0828976743903862, 1.047413220232304, 0.002802786758731769, 6.826290955175795, 0.09343245145310693, 15.105488007310267, 1.923135749242876, 22.337559499657957, 2.3299998081515323, 17.139731512893913]\n"
     ]
    },
    {
     "name": "stderr",
     "output_type": "stream",
     "text": [
      " 15%|█▌        | 3/20 [00:00<00:00, 27.72it/s]"
     ]
    },
    {
     "name": "stdout",
     "output_type": "stream",
     "text": [
      "Simulations took 1.461 s\n",
      "starting to concat files\n"
     ]
    },
    {
     "name": "stderr",
     "output_type": "stream",
     "text": [
      "100%|██████████| 20/20 [00:00<00:00, 28.93it/s]\n"
     ]
    },
    {
     "name": "stdout",
     "output_type": "stream",
     "text": [
      "Concating files took 0.69 s\n",
      "Requested nClusters=1, not performing k-means clustering\n",
      "Generating input files for pipline...\n",
      "1. refNetwork\n",
      "2. PseudoTime.csv\n",
      "0\n",
      "(3, 7, 20, 7)\n",
      "Input file generation took 0.10 s\n",
      "BoolODE.py took 2.29s\n"
     ]
    }
   ],
   "source": [
    "boolodejobs.execute_jobs()"
   ]
  },
  {
   "cell_type": "code",
   "execution_count": null,
   "metadata": {},
   "outputs": [],
   "source": []
  }
 ],
 "metadata": {
  "kernelspec": {
   "display_name": "Python 3",
   "language": "python",
   "name": "python3"
  },
  "language_info": {
   "codemirror_mode": {
    "name": "ipython",
    "version": 3
   },
   "file_extension": ".py",
   "mimetype": "text/x-python",
   "name": "python",
   "nbconvert_exporter": "python",
   "pygments_lexer": "ipython3",
   "version": "3.8.2"
  }
 },
 "nbformat": 4,
 "nbformat_minor": 4
}
