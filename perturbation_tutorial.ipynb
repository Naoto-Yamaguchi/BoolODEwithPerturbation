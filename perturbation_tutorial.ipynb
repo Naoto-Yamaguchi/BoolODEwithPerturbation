{
 "cells": [
  {
   "cell_type": "code",
   "execution_count": 1,
   "metadata": {},
   "outputs": [],
   "source": [
    "import BoolODE as bo\n",
    "import numpy as np\n",
    "import pandas as pd\n",
    "import re"
   ]
  },
  {
   "cell_type": "code",
   "execution_count": 68,
   "metadata": {},
   "outputs": [],
   "source": [
    "def perturbation(    \n",
    "    model_definition, \n",
    "    simulation_time,\n",
    "    num_cells,\n",
    "    sampling_time,\n",
    "    perturbed_transcription, \n",
    "    perturbed_translation,\n",
    "    output_dir,\n",
    "    output_filename,\n",
    "    modeltype\n",
    "):\n",
    "    # Normal simulation\n",
    "    # parameter settings\n",
    "    gs = bo.GlobalSettings(\"data\", output_dir, True, False, modeltype)\n",
    "    js1 = bo.JobSettings(\n",
    "    [{\n",
    "        \"name\": model_definition[:-4],\n",
    "        \"model_definition\": model_definition,\n",
    "        \"model_initial_conditions\": model_definition + \"_ics.txt\",\n",
    "        \"simulation_time\": simulation_time,\n",
    "        \"num_cells\": num_cells,\n",
    "        \"do_parallel\": True,\n",
    "        \"sample_cells\": False,\n",
    "        \"perturbation\": False,\n",
    "        \"perturbed_transcription\": {},\n",
    "        \"perturbed_translation\": {},\n",
    "        \"perturbation_input\": \"\", \n",
    "        \"perturbation_sampling_time\": [],\n",
    "        \"perturbation_sampling_filename\": \"\"\n",
    "    }]\n",
    "    )\n",
    "    # simulation\n",
    "    boolodejobs = bo.BoolODE(job_settings=js1, global_settings=gs, postproc_settings=\"\")\n",
    "    boolodejobs.execute_jobs()\n",
    "    print(\"Normal simulation ... Done\")\n",
    "    print(\"Starting perturbation simulation...\")\n",
    "    print(perturbed_transcription)\n",
    "    \n",
    "    # Perturbation simulation\n",
    "    if len(perturbed_transcription) != 0:\n",
    "        for trans in perturbed_transcription:\n",
    "            print(trans)\n",
    "            # job実行\n",
    "            js2 = bo.JobSettings(\n",
    "            [{\n",
    "                \"name\": model_definition[:-4] + \"-perturbation-transcription-\" + list(trans.keys())[0],\n",
    "                \"model_definition\": model_definition,\n",
    "                \"model_initial_conditions\": model_definition + \"_ics.txt\",\n",
    "                \"simulation_time\": simulation_time,\n",
    "                \"num_cells\": num_cells,\n",
    "                \"do_parallel\": False,\n",
    "                \"sample_cells\": False,\n",
    "                \"perturbation\": True,\n",
    "                \"perturbed_transcription\": trans,#{ 'g1': 10.0 },\n",
    "                #\"perturbed_translation\": , # 片方を想定\n",
    "                \"perturbation_input\": model_definition[:-4] + \"/simulations/\", #ここが同じなら初期状態も同じ\n",
    "\n",
    "                \"perturbation_sampling_time\": sampling_time,\n",
    "                \"perturbation_sampling_filename\": output_dir + \"/\" + output_filename #ここが同じなら出力も同じ\n",
    "                # こいつをどこに置くかが問題\n",
    "            }]\n",
    "            )\n",
    "            boolodejobs = bo.BoolODE(job_settings=js2, global_settings=gs, postproc_settings=\"\")\n",
    "            boolodejobs.execute_jobs()\n",
    "        E = np.load(output_dir + \"/PerturbationSampling-transcription.npy\")\n",
    "        \n",
    "    else:\n",
    "        for trans in perturbed_translation:\n",
    "            print(trans)\n",
    "            # job実行\n",
    "            js2 = bo.JobSettings(\n",
    "            [{\n",
    "                \"name\": model_definition[:-4] + \"-perturbation-translation-\" + list(trans.keys())[0],\n",
    "                \"model_definition\": model_definition,\n",
    "                \"model_initial_conditions\": model_definition + \"_ics.txt\",\n",
    "                \"simulation_time\": simulation_time,\n",
    "                \"num_cells\": num_cells,\n",
    "                \"do_parallel\": False,\n",
    "                \"sample_cells\": False,\n",
    "                \"perturbation\": True,\n",
    "                \"perturbed_transcription\": trans,#{ 'g1': 10.0 },\n",
    "                #\"perturbed_translation\": , # 片方を想定\n",
    "                \"perturbation_input\": model_definition[:-4] + \"/simulations/\", #ここが同じなら初期状態も同じ\n",
    "\n",
    "                \"perturbation_sampling_time\": sampling_time,\n",
    "                \"perturbation_sampling_filename\": output_dir + \"/\" + output_filename #ここが同じなら出力も同じ\n",
    "                # こいつをどこに置くかが問題\n",
    "            }]\n",
    "            )\n",
    "            boolodejobs = bo.BoolODE(job_settings=js2, global_settings=gs, postproc_settings=\"\")\n",
    "            boolodejobs.execute_jobs()\n",
    "        # ToChange    \n",
    "        E = np.load(output_dir + \"/PerturbationSampling-translation.npy\")\n",
    "\n",
    "    \n",
    "    param_filepath = output_dir + \"/\" + model_definition[:-4] +  \"/parameters.txt\"\n",
    "    with open(param_filepath, 'r') as f:\n",
    "        # obtain gene names\n",
    "        df_params = pd.read_csv(param_filepath, sep=\"\\t\", skiprows=1, header=None)\n",
    "        gene_names = list(df_params[df_params[0].str.contains(\"^n_\")][0].str.replace(\"n_\", \"\"))\n",
    "        \n",
    "        # obtaiin GRN edge matrix\n",
    "        grn_mtx = np.zeros((len(gnames), len(gnames)))\n",
    "        if modeltype == \"hill\":\n",
    "            prefix = \"a\"\n",
    "        elif modeltype == \"heaviside\":\n",
    "            prefix =\"w\"\n",
    "        df_params_prefix = df_params[df_params[0].str.contains(\"^{}_\".format(prefix))]\n",
    "        df_interactions = df_params_prefix[df_params_prefix[0] == df_params_prefix[0].str.replace(\"{}_(.*)_(.*)_(.*)\".format(prefix), r\"{}_\\1_\\2\".format(prefix), regex=True)]\n",
    "        for i in df_interactions.iterrows():\n",
    "            interaction = i[1][0]\n",
    "            val = i[1][1]\n",
    "\n",
    "            result = re.match(\"{}_(.*)_(.*)\".format(prefix), interaction)\n",
    "            reg_to = gene_names.index(result.group(1)) \n",
    "            reg_from = gene_names.index(result.group(2)) \n",
    "            grn_mtx[reg_to, reg_from] = val\n",
    "        \n",
    "        \n",
    "    return E, gene_names, grn_mtx\n",
    "    \n",
    "#     if isinstance(trans, float):\n",
    "#         hoge\n",
    "#         {gene: hoge} list loop\n",
    "#   elif isinstance(trans, dict):"
   ]
  },
  {
   "cell_type": "code",
   "execution_count": 33,
   "metadata": {},
   "outputs": [
    {
     "data": {
      "text/plain": [
       "['g1', 'g2', 'g3', 'g4', 'g5', 'g6', 'g7']"
      ]
     },
     "execution_count": 33,
     "metadata": {},
     "output_type": "execute_result"
    }
   ],
   "source": [
    "import pandas as pd\n",
    "df_params = pd.read_csv(\"Synthetic-H/dyn-linear/parameters.txt\", sep=\"\\t\", skiprows=1, header=None)\n",
    "gnames = list(df_params[df_params[0].str.contains(\"^n_\")][0].str.replace(\"n_\", \"\"))\n",
    "gnames"
   ]
  },
  {
   "cell_type": "code",
   "execution_count": 30,
   "metadata": {},
   "outputs": [
    {
     "data": {
      "text/plain": [
       "array([[0., 0., 0., 0., 0., 0., 0.],\n",
       "       [0., 0., 0., 0., 0., 0., 0.],\n",
       "       [0., 0., 0., 0., 0., 0., 0.],\n",
       "       [0., 0., 0., 0., 0., 0., 0.],\n",
       "       [0., 0., 0., 0., 0., 0., 0.],\n",
       "       [0., 0., 0., 0., 0., 0., 0.],\n",
       "       [0., 0., 0., 0., 0., 0., 0.]])"
      ]
     },
     "execution_count": 30,
     "metadata": {},
     "output_type": "execute_result"
    }
   ],
   "source": [
    "np.zeros((len(gnames), len(gnames)))"
   ]
  },
  {
   "cell_type": "code",
   "execution_count": 63,
   "metadata": {},
   "outputs": [],
   "source": [
    "gene_names = gnames\n",
    "grn_mtx = np.zeros((len(gnames), len(gnames)))"
   ]
  },
  {
   "cell_type": "code",
   "execution_count": 66,
   "metadata": {},
   "outputs": [],
   "source": [
    "df_params_prefix = df_params[df_params[0].str.contains(\"^w_\")]\n",
    "df_interactions = df_params_prefix[df_params_prefix[0] == df_params_prefix[0].str.replace('w_(.*)_(.*)_(.*)', r'w_\\1_\\2', regex=True)]\n",
    "for i in df_interactions.iterrows():\n",
    "    interaction = i[1][0]\n",
    "    val = i[1][1]\n",
    "    \n",
    "    result = re.match('w_(.*)_(.*)', interaction)\n",
    "    reg_to = gene_names.index(result.group(1)) \n",
    "    reg_from = gene_names.index(result.group(2)) \n",
    "    grn_mtx[reg_to, reg_from] = val"
   ]
  },
  {
   "cell_type": "code",
   "execution_count": 67,
   "metadata": {},
   "outputs": [
    {
     "data": {
      "text/plain": [
       "array([[ 0. ,  0. ,  0. ,  0. ,  0. ,  0. , -0.1],\n",
       "       [ 0.1,  0. ,  0. ,  0. ,  0. ,  0. ,  0. ],\n",
       "       [ 0. ,  0.1,  0. ,  0. ,  0. ,  0. ,  0. ],\n",
       "       [ 0. ,  0. ,  0.1,  0. ,  0. ,  0. ,  0. ],\n",
       "       [ 0. ,  0. ,  0. ,  0.1,  0. ,  0. ,  0. ],\n",
       "       [ 0. ,  0. ,  0. ,  0. ,  0.1,  0. ,  0. ],\n",
       "       [ 0. ,  0. ,  0. ,  0. ,  0. ,  0.1,  0.1]])"
      ]
     },
     "execution_count": 67,
     "metadata": {},
     "output_type": "execute_result"
    }
   ],
   "source": [
    "grn_mtx"
   ]
  },
  {
   "cell_type": "code",
   "execution_count": 2,
   "metadata": {},
   "outputs": [],
   "source": [
    "# user setting\n",
    "model_definition = \"dyn-cycle.txt\" #\"dyn-linear.txt\"\n",
    "perturbed_transcription = [{ 'g1': 10.0 }, { 'g2': 10.0 }]\n",
    "perturbed_translation = []#[{ 'g3': 5.0 }, { 'g4': 5.0 }]\n",
    "simulation_time = 9 # * 100 step\n",
    "num_cells = 20 # = sampling_cells\n",
    "sampling_time = [100, 300, 500] # 1~simulation_time*100-1?\n",
    "output_dir = \"Synthetic-H\"\n",
    "output_filename = \"PerturbationSampling.npy\" # npy file\n",
    "modeltype = \"hill\" # or heaviside\n",
    "\n",
    "# default\n",
    "do_parallel = False\n",
    "sample_cells = False\n",
    "\n",
    "\n",
    "# command\n",
    "# E = perturbation(\n",
    "#     model_definition, \n",
    "#     simulation_time,\n",
    "#     num_cells,\n",
    "#     sampling_time,\n",
    "#     perturbed_transcription, \n",
    "#     perturbed_translation,\n",
    "#     output_dir,\n",
    "#     output_filename,\n",
    "#     modeltype\n",
    "# )"
   ]
  },
  {
   "cell_type": "code",
   "execution_count": 3,
   "metadata": {},
   "outputs": [],
   "source": [
    "from Perturbation import perturbation as pt"
   ]
  },
  {
   "cell_type": "code",
   "execution_count": 4,
   "metadata": {},
   "outputs": [
    {
     "name": "stderr",
     "output_type": "stream",
     "text": [
      "  5%|▌         | 1/20 [00:00<00:03,  6.33it/s]"
     ]
    },
    {
     "name": "stdout",
     "output_type": "stream",
     "text": [
      "Creating output folders\n",
      "Synthetic-H/dyn-cycle does not exist, creating it...\n",
      "Starting simulations\n",
      "Fixing rate parameters to defaults\n",
      "{'n_g1': 10.0, 'n_g2': 10.0, 'n_g3': 10.0, 'n_g4': 10.0, 'n_g5': 10.0, 'n_g6': 10.0, 'k_g1': 10.0, 'k_g2': 10.0, 'k_g3': 10.0, 'k_g4': 10.0, 'k_g5': 10.0, 'k_g6': 10.0, 'sigmaH_g1': 10.0, 'sigmaH_g2': 10.0, 'sigmaH_g3': 10.0, 'sigmaH_g4': 10.0, 'sigmaH_g5': 10.0, 'sigmaH_g6': 10.0, 'm_g1': 20.0, 'm_g2': 20.0, 'm_g3': 20.0, 'm_g4': 20.0, 'm_g5': 20.0, 'm_g6': 20.0, 'l_x_g1': 10.0, 'l_x_g2': 10.0, 'l_x_g3': 10.0, 'l_x_g4': 10.0, 'l_x_g5': 10.0, 'l_x_g6': 10.0, 'r_g1': 10.0, 'r_g2': 10.0, 'r_g3': 10.0, 'r_g4': 10.0, 'r_g5': 10.0, 'r_g6': 10.0, 'l_p_g1': 1.0, 'l_p_g2': 1.0, 'l_p_g3': 1.0, 'l_p_g4': 1.0, 'l_p_g5': 1.0, 'l_p_g6': 1.0}\n",
      "{'mRNATranscription': 20.0, 'mRNADegradation': 10.0, 'proteinTranslation': 10.0, 'proteinDegradation': 1.0, 'heavisideSigma': 10.0, 'signalingTimescale': 5.0, 'hillCoefficient': 10.0, 'interactionStrength': 1.0, 'x_max': 2.0, 'y_max': 20.0, 'hillThreshold': 10.0, 'heavisideOmega': 0.1}\n",
      "Synthetic-H/dyn-cycle/simulations\n",
      "~~~~~~~~~~~~~~~~~~~~~~~\n",
      "Synthetic-H/dyn-cycle/simulations does not exist, creating it...\n",
      "Starting simulations\n",
      "[1.0, 10.0, 1.0, 10.0, 1.0, 10.0, 1.0, 10.0, 1.0, 10.0, 1.0, 10.0]\n",
      "[1.0, 10.0, 1.0, 10.0, 1.0, 10.0, 1.0, 10.0, 1.0, 10.0, 1.0, 10.0]\n"
     ]
    },
    {
     "name": "stderr",
     "output_type": "stream",
     "text": [
      " 15%|█▌        | 3/20 [00:00<00:02,  6.86it/s]"
     ]
    },
    {
     "name": "stdout",
     "output_type": "stream",
     "text": [
      "[1.0, 10.0, 1.0, 10.0, 1.0, 10.0, 1.0, 10.0, 1.0, 10.0, 1.0, 10.0]\n",
      "[1.0, 10.0, 1.0, 10.0, 1.0, 10.0, 1.0, 10.0, 1.0, 10.0, 1.0, 10.0]\n"
     ]
    },
    {
     "name": "stderr",
     "output_type": "stream",
     "text": [
      " 25%|██▌       | 5/20 [00:00<00:02,  6.05it/s]"
     ]
    },
    {
     "name": "stdout",
     "output_type": "stream",
     "text": [
      "[1.0, 10.0, 1.0, 10.0, 1.0, 10.0, 1.0, 10.0, 1.0, 10.0, 1.0, 10.0]\n",
      "[1.0, 10.0, 1.0, 10.0, 1.0, 10.0, 1.0, 10.0, 1.0, 10.0, 1.0, 10.0]\n"
     ]
    },
    {
     "name": "stderr",
     "output_type": "stream",
     "text": [
      " 35%|███▌      | 7/20 [00:01<00:02,  6.32it/s]"
     ]
    },
    {
     "name": "stdout",
     "output_type": "stream",
     "text": [
      "[1.0, 10.0, 1.0, 10.0, 1.0, 10.0, 1.0, 10.0, 1.0, 10.0, 1.0, 10.0]\n",
      "[1.0, 10.0, 1.0, 10.0, 1.0, 10.0, 1.0, 10.0, 1.0, 10.0, 1.0, 10.0]\n"
     ]
    },
    {
     "name": "stderr",
     "output_type": "stream",
     "text": [
      " 45%|████▌     | 9/20 [00:01<00:01,  6.51it/s]"
     ]
    },
    {
     "name": "stdout",
     "output_type": "stream",
     "text": [
      "[1.0, 10.0, 1.0, 10.0, 1.0, 10.0, 1.0, 10.0, 1.0, 10.0, 1.0, 10.0]\n",
      "[1.0, 10.0, 1.0, 10.0, 1.0, 10.0, 1.0, 10.0, 1.0, 10.0, 1.0, 10.0]\n"
     ]
    },
    {
     "name": "stderr",
     "output_type": "stream",
     "text": [
      " 55%|█████▌    | 11/20 [00:01<00:01,  6.32it/s]"
     ]
    },
    {
     "name": "stdout",
     "output_type": "stream",
     "text": [
      "[1.0, 10.0, 1.0, 10.0, 1.0, 10.0, 1.0, 10.0, 1.0, 10.0, 1.0, 10.0]\n",
      "[1.0, 10.0, 1.0, 10.0, 1.0, 10.0, 1.0, 10.0, 1.0, 10.0, 1.0, 10.0]\n"
     ]
    },
    {
     "name": "stderr",
     "output_type": "stream",
     "text": [
      " 65%|██████▌   | 13/20 [00:02<00:01,  6.45it/s]"
     ]
    },
    {
     "name": "stdout",
     "output_type": "stream",
     "text": [
      "[1.0, 10.0, 1.0, 10.0, 1.0, 10.0, 1.0, 10.0, 1.0, 10.0, 1.0, 10.0]\n",
      "[1.0, 10.0, 1.0, 10.0, 1.0, 10.0, 1.0, 10.0, 1.0, 10.0, 1.0, 10.0]\n"
     ]
    },
    {
     "name": "stderr",
     "output_type": "stream",
     "text": [
      " 75%|███████▌  | 15/20 [00:02<00:00,  6.61it/s]"
     ]
    },
    {
     "name": "stdout",
     "output_type": "stream",
     "text": [
      "[1.0, 10.0, 1.0, 10.0, 1.0, 10.0, 1.0, 10.0, 1.0, 10.0, 1.0, 10.0]\n",
      "[1.0, 10.0, 1.0, 10.0, 1.0, 10.0, 1.0, 10.0, 1.0, 10.0, 1.0, 10.0]\n"
     ]
    },
    {
     "name": "stderr",
     "output_type": "stream",
     "text": [
      " 85%|████████▌ | 17/20 [00:02<00:00,  6.88it/s]"
     ]
    },
    {
     "name": "stdout",
     "output_type": "stream",
     "text": [
      "[1.0, 10.0, 1.0, 10.0, 1.0, 10.0, 1.0, 10.0, 1.0, 10.0, 1.0, 10.0]\n",
      "[1.0, 10.0, 1.0, 10.0, 1.0, 10.0, 1.0, 10.0, 1.0, 10.0, 1.0, 10.0]\n"
     ]
    },
    {
     "name": "stderr",
     "output_type": "stream",
     "text": [
      " 95%|█████████▌| 19/20 [00:02<00:00,  7.21it/s]"
     ]
    },
    {
     "name": "stdout",
     "output_type": "stream",
     "text": [
      "[1.0, 10.0, 1.0, 10.0, 1.0, 10.0, 1.0, 10.0, 1.0, 10.0, 1.0, 10.0]\n",
      "[1.0, 10.0, 1.0, 10.0, 1.0, 10.0, 1.0, 10.0, 1.0, 10.0, 1.0, 10.0]\n"
     ]
    },
    {
     "name": "stderr",
     "output_type": "stream",
     "text": [
      "100%|██████████| 20/20 [00:03<00:00,  6.56it/s]\n",
      " 20%|██        | 4/20 [00:00<00:00, 30.41it/s]"
     ]
    },
    {
     "name": "stdout",
     "output_type": "stream",
     "text": [
      "Simulations took 3.054 s\n",
      "starting to concat files\n"
     ]
    },
    {
     "name": "stderr",
     "output_type": "stream",
     "text": [
      "100%|██████████| 20/20 [00:00<00:00, 29.68it/s]\n",
      "  0%|          | 0/20 [00:00<?, ?it/s]"
     ]
    },
    {
     "name": "stdout",
     "output_type": "stream",
     "text": [
      "Concating files took 0.68 s\n",
      "Requested nClusters=1, not performing k-means clustering\n",
      "Generating input files for pipline...\n",
      "1. refNetwork\n",
      "2. PseudoTime.csv\n",
      "Dataset too large.\n",
      "Sampling 20 cells, one from each simulated trajectory.\n",
      "Input file generation took 0.09 s\n",
      "BoolODE.py took 3.84s\n",
      "Normal simulation ... Done\n",
      "Starting perturbation simulation...\n",
      "[{'g1': 10.0}, {'g2': 10.0}]\n",
      "{'g1': 10.0}\n",
      "Creating output folders\n",
      "Synthetic-H/dyn-cycle-perturbation-transcription-g1 does not exist, creating it...\n",
      "Starting simulations\n",
      "Fixing rate parameters to defaults\n",
      "{'n_g1': 10.0, 'n_g2': 10.0, 'n_g3': 10.0, 'n_g4': 10.0, 'n_g5': 10.0, 'n_g6': 10.0, 'k_g1': 10.0, 'k_g2': 10.0, 'k_g3': 10.0, 'k_g4': 10.0, 'k_g5': 10.0, 'k_g6': 10.0, 'sigmaH_g1': 10.0, 'sigmaH_g2': 10.0, 'sigmaH_g3': 10.0, 'sigmaH_g4': 10.0, 'sigmaH_g5': 10.0, 'sigmaH_g6': 10.0, 'm_g1': 10.0, 'm_g2': 20.0, 'm_g3': 20.0, 'm_g4': 20.0, 'm_g5': 20.0, 'm_g6': 20.0, 'l_x_g1': 10.0, 'l_x_g2': 10.0, 'l_x_g3': 10.0, 'l_x_g4': 10.0, 'l_x_g5': 10.0, 'l_x_g6': 10.0, 'r_g1': 10.0, 'r_g2': 10.0, 'r_g3': 10.0, 'r_g4': 10.0, 'r_g5': 10.0, 'r_g6': 10.0, 'l_p_g1': 1.0, 'l_p_g2': 1.0, 'l_p_g3': 1.0, 'l_p_g4': 1.0, 'l_p_g5': 1.0, 'l_p_g6': 1.0}\n",
      "{'mRNATranscription': 20.0, 'mRNADegradation': 10.0, 'proteinTranslation': 10.0, 'proteinDegradation': 1.0, 'heavisideSigma': 10.0, 'signalingTimescale': 5.0, 'hillCoefficient': 10.0, 'interactionStrength': 1.0, 'x_max': 2.0, 'y_max': 20.0, 'hillThreshold': 10.0, 'heavisideOmega': 0.1}\n",
      "Synthetic-H/dyn-cycle-perturbation-transcription-g1/simulations\n",
      "~~~~~~~~~~~~~~~~~~~~~~~\n",
      "Synthetic-H/dyn-cycle-perturbation-transcription-g1/simulations does not exist, creating it...\n",
      "Starting simulations\n",
      "Synthetic-H/dyn-cycle/simulations/\n",
      "[0.0014272293518149913, 1.8013014077807399, 1.8267434285322801, 12.539876924582195, 0.4673010823046502, 11.870898001850698, 1.3480662197086362, 16.28872216211509, 1.6868689201049853, 21.834850066418127, 0.010718940646214764, 3.4269098032089933]\n"
     ]
    },
    {
     "name": "stderr",
     "output_type": "stream",
     "text": [
      " 10%|█         | 2/20 [00:00<00:03,  4.89it/s]"
     ]
    },
    {
     "name": "stdout",
     "output_type": "stream",
     "text": [
      "Synthetic-H/dyn-cycle/simulations/\n",
      "[0.09117947834359898, 16.739810540589318, 0.01055823853428195, 2.1938187050917515, 2.0709621743509925, 19.529239950844268, 2.3668519857312385, 17.592667555082873, 1.7349462986579816, 12.916161416645124, 2.408625093711368, 19.09888107753628]\n",
      "Synthetic-H/dyn-cycle/simulations/\n"
     ]
    },
    {
     "name": "stderr",
     "output_type": "stream",
     "text": [
      " 15%|█▌        | 3/20 [00:00<00:03,  5.02it/s]"
     ]
    },
    {
     "name": "stdout",
     "output_type": "stream",
     "text": [
      "[2.0260920162100557, 19.54655535163664, 0.006742031705200153, 4.812320951968951, 2.0913244864727423, 17.86991077802679, 1.811093097654357, 5.4675016072532845, 0.012854380214225605, 0.022309349900879436, 2.5931703593892275, 15.179207942582474]\n",
      "Synthetic-H/dyn-cycle/simulations/\n",
      "[0.029442273714785368, 5.961824792426442, 1.4742485073268634, 4.360448375052114, 1.7607871271900082, 19.4065889566824, 2.044653457812178, 18.529800569625667, 2.0477811666970007, 14.49908300963288, 0.03282388436088208, 11.52210915643031]\n"
     ]
    },
    {
     "name": "stderr",
     "output_type": "stream",
     "text": [
      " 25%|██▌       | 5/20 [00:00<00:02,  5.18it/s]"
     ]
    },
    {
     "name": "stdout",
     "output_type": "stream",
     "text": [
      "Synthetic-H/dyn-cycle/simulations/\n",
      "[0.3754684875471103, 17.796134591869112, 0.0323425271237016, 0.8709566803744502, 2.520714261303324, 22.98148985016859, 1.9045922474835533, 16.31433213808734, 1.4827334381148791, 10.841057492676539, 2.157972559734925, 20.009389623796622]\n",
      "Synthetic-H/dyn-cycle/simulations/\n"
     ]
    },
    {
     "name": "stderr",
     "output_type": "stream",
     "text": [
      " 30%|███       | 6/20 [00:01<00:02,  5.23it/s]"
     ]
    },
    {
     "name": "stdout",
     "output_type": "stream",
     "text": [
      "[0.5369145427127211, 16.088054441390188, 0.002101985990872872, 3.4191164735537094, 2.959591154891092, 19.06719570200967, 1.641000299466758, 16.92438010651433, 2.1486108280091614, 11.54821464205994, 1.777432374227478, 18.204326671674607]\n",
      "Synthetic-H/dyn-cycle/simulations/\n",
      "[0.556889843683115, 2.176737492697267, 1.9900347876213769, 15.484439794783285, 0.004475824237160179, 5.125743074936292, 0.023655542436104057, 2.7893533340223016, 0.013585302922402304, 10.671803618463407, 0.01889341957122197, 0.002485294582063164]\n"
     ]
    },
    {
     "name": "stderr",
     "output_type": "stream",
     "text": [
      " 40%|████      | 8/20 [00:01<00:02,  5.02it/s]"
     ]
    },
    {
     "name": "stdout",
     "output_type": "stream",
     "text": [
      "Synthetic-H/dyn-cycle/simulations/\n",
      "[1.5919148906546912, 7.872394675264469, 2.3008270676476608, 16.88324915481433, 0.008848754552726072, 1.5312102892702704, 0.005165523518393703, 0.7756397878383686, 0.021999334198479468, 1.670419351647349, 0.023553233173643696, 0.6920125766330041]\n",
      "Synthetic-H/dyn-cycle/simulations/\n"
     ]
    },
    {
     "name": "stderr",
     "output_type": "stream",
     "text": [
      " 45%|████▌     | 9/20 [00:01<00:02,  5.13it/s]"
     ]
    },
    {
     "name": "stdout",
     "output_type": "stream",
     "text": [
      "[1.4475740594474351, 25.472692703756863, 0.008231386836790177, 3.101039922698009, 1.809844565325088, 9.793530221134587, 0.6422395901725173, 0.9642715822261696, 0.02406949078389995, 0.4294564486203333, 1.5101395687082253, 11.928504917175946]\n",
      "Synthetic-H/dyn-cycle/simulations/\n",
      "[1.3900331200380254, 17.695343244433325, 0.05423264600054671, 6.0614285643207015, 2.2881578871292025, 5.045709985709487, 0.01090960170208111, 0.6281565800564799, 0.039556201184768575, 0.8309897325427792, 1.4647884327734475, 21.15479418194924]\n"
     ]
    },
    {
     "name": "stderr",
     "output_type": "stream",
     "text": [
      " 50%|█████     | 10/20 [00:01<00:02,  4.94it/s]"
     ]
    },
    {
     "name": "stdout",
     "output_type": "stream",
     "text": [
      "Synthetic-H/dyn-cycle/simulations/\n",
      "[0.4733816175811014, 15.256360494311155, 0.013431415983853532, 0.7116924480283158, 2.1355723025005195, 20.901082812693566, 2.56058376763074, 19.087199147835147, 2.4367201483897816, 13.581468458864537, 1.6902758483043303, 16.95700125393159]\n"
     ]
    },
    {
     "name": "stderr",
     "output_type": "stream",
     "text": [
      " 60%|██████    | 12/20 [00:02<00:01,  4.78it/s]"
     ]
    },
    {
     "name": "stdout",
     "output_type": "stream",
     "text": [
      "Synthetic-H/dyn-cycle/simulations/\n",
      "[0.010861619526697472, 2.8879339983392724, 2.5646046841081405, 10.613069973320528, 1.5164712561789868, 24.330890892516308, 1.9070332658362248, 16.462810999989202, 2.3096120935384734, 18.541208615968067, 0.02153286208240776, 13.138532764641367]\n",
      "Synthetic-H/dyn-cycle/simulations/\n"
     ]
    },
    {
     "name": "stderr",
     "output_type": "stream",
     "text": [
      " 65%|██████▌   | 13/20 [00:02<00:01,  4.97it/s]"
     ]
    },
    {
     "name": "stdout",
     "output_type": "stream",
     "text": [
      "[1.5743490983973332, 19.51491482816584, 0.003223454883580925, 2.230401712123415, 1.8755567759096208, 16.690978162752135, 1.958334418876756, 12.428546955230715, 1.6364249861921618, 8.926319306885778, 1.7718682376049968, 18.03677675945605]\n",
      "Synthetic-H/dyn-cycle/simulations/\n",
      "[2.179716234915419, 4.244040236981848, 1.5366489870036628, 20.41894232147536, 0.0561811449657857, 2.2460666675195644, 0.0013018587711177015, 1.169810508586845, 0.04076594034911714, 5.628092932478311, 0.0012910759583337195, 0.6512499180829022]\n"
     ]
    },
    {
     "name": "stderr",
     "output_type": "stream",
     "text": [
      " 75%|███████▌  | 15/20 [00:02<00:00,  5.16it/s]"
     ]
    },
    {
     "name": "stdout",
     "output_type": "stream",
     "text": [
      "Synthetic-H/dyn-cycle/simulations/\n",
      "[0.01859752560789162, 0.4979739303962206, 2.412713387570568, 16.72820158910347, 0.0075214482352444845, 5.273470005613434, 0.019946489123989268, 4.736124054419036, 0.005572690714756161, 14.712788224121221, 0.062376062910670986, 2.235366810623797]\n",
      "Synthetic-H/dyn-cycle/simulations/\n"
     ]
    },
    {
     "name": "stderr",
     "output_type": "stream",
     "text": [
      " 80%|████████  | 16/20 [00:03<00:00,  5.22it/s]"
     ]
    },
    {
     "name": "stdout",
     "output_type": "stream",
     "text": [
      "[0.03858385738240159, 4.664043566183316, 1.8735674460638203, 5.376402891017213, 1.7197849720072511, 17.601153272188007, 1.5706448990277868, 19.222734508187347, 1.3101870253693535, 16.126901992787392, 0.01716299383819863, 9.97093313965551]\n",
      "Synthetic-H/dyn-cycle/simulations/\n",
      "[0.07141321155391829, 0.2228815133594771, 2.3905089507157062, 17.21162106526311, 0.018163071653818356, 1.816035500892821, 0.011408312651445929, 5.2554998299724005, 0.01849900967241453, 16.951481287041553, 0.023895940418713228, 0.02797322473123969]\n"
     ]
    },
    {
     "name": "stderr",
     "output_type": "stream",
     "text": [
      " 90%|█████████ | 18/20 [00:03<00:00,  5.31it/s]"
     ]
    },
    {
     "name": "stdout",
     "output_type": "stream",
     "text": [
      "Synthetic-H/dyn-cycle/simulations/\n",
      "[0.0007368431002712798, 0.05807048091351559, 1.2876041697268332, 13.043433765192649, 0.019501026450710453, 1.609276712292599, 0.0016558549053899696, 12.119200258965051, 1.7562027423386637, 20.203479517296273, 0.03697174538287032, 0.8824339112216875]\n",
      "Synthetic-H/dyn-cycle/simulations/\n"
     ]
    },
    {
     "name": "stderr",
     "output_type": "stream",
     "text": [
      " 95%|█████████▌| 19/20 [00:03<00:00,  4.94it/s]"
     ]
    },
    {
     "name": "stdout",
     "output_type": "stream",
     "text": [
      "[1.8125237690879037, 8.405874616657968, 1.886952682417662, 14.609269547727086, 0.13892363187330614, 0.1444178104242912, 0.04338981044642805, 0.38785932155947256, 0.021561111081053026, 3.4114425010873104, 0.11921279107570143, 0.3827385933442352]\n",
      "Synthetic-H/dyn-cycle/simulations/\n"
     ]
    },
    {
     "name": "stderr",
     "output_type": "stream",
     "text": [
      "100%|██████████| 20/20 [00:03<00:00,  5.02it/s]\n",
      "  0%|          | 0/20 [00:00<?, ?it/s]"
     ]
    },
    {
     "name": "stdout",
     "output_type": "stream",
     "text": [
      "[0.10087665599886493, 0.6312839018710363, 1.7663909643610602, 18.00298711520542, 0.006121637606681758, 5.503786918736175, 0.0009087145633275977, 13.825221017016359, 2.2963001900025515, 23.466239553519195, 0.008861249292029071, 1.798364600012141]\n",
      "Simulations took 3.987 s\n",
      "starting to concat files\n"
     ]
    },
    {
     "name": "stderr",
     "output_type": "stream",
     "text": [
      "100%|██████████| 20/20 [00:00<00:00, 34.17it/s]\n",
      "  0%|          | 0/20 [00:00<?, ?it/s]"
     ]
    },
    {
     "name": "stdout",
     "output_type": "stream",
     "text": [
      "Concating files took 0.59 s\n",
      "Requested nClusters=1, not performing k-means clustering\n",
      "Generating input files for pipline...\n",
      "1. refNetwork\n",
      "2. PseudoTime.csv\n",
      "0\n",
      "(3, 6, 20, 6)\n",
      "Synthetic-H/PerturbationSampling.npy\n",
      "Input file generation took 0.09 s\n",
      "BoolODE.py took 4.68s\n",
      "{'g2': 10.0}\n",
      "Creating output folders\n",
      "Synthetic-H/dyn-cycle-perturbation-transcription-g2 does not exist, creating it...\n",
      "Starting simulations\n",
      "Fixing rate parameters to defaults\n",
      "{'n_g1': 10.0, 'n_g2': 10.0, 'n_g3': 10.0, 'n_g4': 10.0, 'n_g5': 10.0, 'n_g6': 10.0, 'k_g1': 10.0, 'k_g2': 10.0, 'k_g3': 10.0, 'k_g4': 10.0, 'k_g5': 10.0, 'k_g6': 10.0, 'sigmaH_g1': 10.0, 'sigmaH_g2': 10.0, 'sigmaH_g3': 10.0, 'sigmaH_g4': 10.0, 'sigmaH_g5': 10.0, 'sigmaH_g6': 10.0, 'm_g1': 20.0, 'm_g2': 10.0, 'm_g3': 20.0, 'm_g4': 20.0, 'm_g5': 20.0, 'm_g6': 20.0, 'l_x_g1': 10.0, 'l_x_g2': 10.0, 'l_x_g3': 10.0, 'l_x_g4': 10.0, 'l_x_g5': 10.0, 'l_x_g6': 10.0, 'r_g1': 10.0, 'r_g2': 10.0, 'r_g3': 10.0, 'r_g4': 10.0, 'r_g5': 10.0, 'r_g6': 10.0, 'l_p_g1': 1.0, 'l_p_g2': 1.0, 'l_p_g3': 1.0, 'l_p_g4': 1.0, 'l_p_g5': 1.0, 'l_p_g6': 1.0}\n",
      "{'mRNATranscription': 20.0, 'mRNADegradation': 10.0, 'proteinTranslation': 10.0, 'proteinDegradation': 1.0, 'heavisideSigma': 10.0, 'signalingTimescale': 5.0, 'hillCoefficient': 10.0, 'interactionStrength': 1.0, 'x_max': 2.0, 'y_max': 20.0, 'hillThreshold': 10.0, 'heavisideOmega': 0.1}\n",
      "Synthetic-H/dyn-cycle-perturbation-transcription-g2/simulations\n",
      "~~~~~~~~~~~~~~~~~~~~~~~\n",
      "Synthetic-H/dyn-cycle-perturbation-transcription-g2/simulations does not exist, creating it...\n",
      "Starting simulations\n",
      "Synthetic-H/dyn-cycle/simulations/\n",
      "[0.0014272293518149913, 1.8013014077807399, 1.8267434285322801, 12.539876924582195, 0.4673010823046502, 11.870898001850698, 1.3480662197086362, 16.28872216211509, 1.6868689201049853, 21.834850066418127, 0.010718940646214764, 3.4269098032089933]\n"
     ]
    },
    {
     "name": "stderr",
     "output_type": "stream",
     "text": [
      "  5%|▌         | 1/20 [00:00<00:03,  5.24it/s]"
     ]
    },
    {
     "name": "stdout",
     "output_type": "stream",
     "text": [
      "Synthetic-H/dyn-cycle/simulations/\n",
      "[0.09117947834359898, 16.739810540589318, 0.01055823853428195, 2.1938187050917515, 2.0709621743509925, 19.529239950844268, 2.3668519857312385, 17.592667555082873, 1.7349462986579816, 12.916161416645124, 2.408625093711368, 19.09888107753628]\n"
     ]
    },
    {
     "name": "stderr",
     "output_type": "stream",
     "text": [
      " 15%|█▌        | 3/20 [00:00<00:03,  5.12it/s]"
     ]
    },
    {
     "name": "stdout",
     "output_type": "stream",
     "text": [
      "Synthetic-H/dyn-cycle/simulations/\n",
      "[2.0260920162100557, 19.54655535163664, 0.006742031705200153, 4.812320951968951, 2.0913244864727423, 17.86991077802679, 1.811093097654357, 5.4675016072532845, 0.012854380214225605, 0.022309349900879436, 2.5931703593892275, 15.179207942582474]\n",
      "Synthetic-H/dyn-cycle/simulations/\n"
     ]
    },
    {
     "name": "stderr",
     "output_type": "stream",
     "text": [
      " 20%|██        | 4/20 [00:00<00:03,  5.18it/s]"
     ]
    },
    {
     "name": "stdout",
     "output_type": "stream",
     "text": [
      "[0.029442273714785368, 5.961824792426442, 1.4742485073268634, 4.360448375052114, 1.7607871271900082, 19.4065889566824, 2.044653457812178, 18.529800569625667, 2.0477811666970007, 14.49908300963288, 0.03282388436088208, 11.52210915643031]\n",
      "Synthetic-H/dyn-cycle/simulations/\n",
      "[0.3754684875471103, 17.796134591869112, 0.0323425271237016, 0.8709566803744502, 2.520714261303324, 22.98148985016859, 1.9045922474835533, 16.31433213808734, 1.4827334381148791, 10.841057492676539, 2.157972559734925, 20.009389623796622]\n"
     ]
    },
    {
     "name": "stderr",
     "output_type": "stream",
     "text": [
      " 30%|███       | 6/20 [00:01<00:02,  5.12it/s]"
     ]
    },
    {
     "name": "stdout",
     "output_type": "stream",
     "text": [
      "Synthetic-H/dyn-cycle/simulations/\n",
      "[0.5369145427127211, 16.088054441390188, 0.002101985990872872, 3.4191164735537094, 2.959591154891092, 19.06719570200967, 1.641000299466758, 16.92438010651433, 2.1486108280091614, 11.54821464205994, 1.777432374227478, 18.204326671674607]\n",
      "Synthetic-H/dyn-cycle/simulations/\n"
     ]
    },
    {
     "name": "stderr",
     "output_type": "stream",
     "text": [
      " 35%|███▌      | 7/20 [00:01<00:02,  5.08it/s]"
     ]
    },
    {
     "name": "stdout",
     "output_type": "stream",
     "text": [
      "[0.556889843683115, 2.176737492697267, 1.9900347876213769, 15.484439794783285, 0.004475824237160179, 5.125743074936292, 0.023655542436104057, 2.7893533340223016, 0.013585302922402304, 10.671803618463407, 0.01889341957122197, 0.002485294582063164]\n",
      "Synthetic-H/dyn-cycle/simulations/\n",
      "[1.5919148906546912, 7.872394675264469, 2.3008270676476608, 16.88324915481433, 0.008848754552726072, 1.5312102892702704, 0.005165523518393703, 0.7756397878383686, 0.021999334198479468, 1.670419351647349, 0.023553233173643696, 0.6920125766330041]\n"
     ]
    },
    {
     "name": "stderr",
     "output_type": "stream",
     "text": [
      " 40%|████      | 8/20 [00:01<00:02,  5.05it/s]"
     ]
    },
    {
     "name": "stdout",
     "output_type": "stream",
     "text": [
      "Synthetic-H/dyn-cycle/simulations/\n",
      "[1.4475740594474351, 25.472692703756863, 0.008231386836790177, 3.101039922698009, 1.809844565325088, 9.793530221134587, 0.6422395901725173, 0.9642715822261696, 0.02406949078389995, 0.4294564486203333, 1.5101395687082253, 11.928504917175946]\n"
     ]
    },
    {
     "name": "stderr",
     "output_type": "stream",
     "text": [
      " 50%|█████     | 10/20 [00:02<00:02,  4.97it/s]"
     ]
    },
    {
     "name": "stdout",
     "output_type": "stream",
     "text": [
      "Synthetic-H/dyn-cycle/simulations/\n",
      "[1.3900331200380254, 17.695343244433325, 0.05423264600054671, 6.0614285643207015, 2.2881578871292025, 5.045709985709487, 0.01090960170208111, 0.6281565800564799, 0.039556201184768575, 0.8309897325427792, 1.4647884327734475, 21.15479418194924]\n",
      "Synthetic-H/dyn-cycle/simulations/\n"
     ]
    },
    {
     "name": "stderr",
     "output_type": "stream",
     "text": [
      " 55%|█████▌    | 11/20 [00:02<00:01,  5.07it/s]"
     ]
    },
    {
     "name": "stdout",
     "output_type": "stream",
     "text": [
      "[0.4733816175811014, 15.256360494311155, 0.013431415983853532, 0.7116924480283158, 2.1355723025005195, 20.901082812693566, 2.56058376763074, 19.087199147835147, 2.4367201483897816, 13.581468458864537, 1.6902758483043303, 16.95700125393159]\n",
      "Synthetic-H/dyn-cycle/simulations/\n",
      "[0.010861619526697472, 2.8879339983392724, 2.5646046841081405, 10.613069973320528, 1.5164712561789868, 24.330890892516308, 1.9070332658362248, 16.462810999989202, 2.3096120935384734, 18.541208615968067, 0.02153286208240776, 13.138532764641367]\n"
     ]
    },
    {
     "name": "stderr",
     "output_type": "stream",
     "text": [
      " 65%|██████▌   | 13/20 [00:02<00:01,  5.11it/s]"
     ]
    },
    {
     "name": "stdout",
     "output_type": "stream",
     "text": [
      "Synthetic-H/dyn-cycle/simulations/\n",
      "[1.5743490983973332, 19.51491482816584, 0.003223454883580925, 2.230401712123415, 1.8755567759096208, 16.690978162752135, 1.958334418876756, 12.428546955230715, 1.6364249861921618, 8.926319306885778, 1.7718682376049968, 18.03677675945605]\n",
      "Synthetic-H/dyn-cycle/simulations/\n"
     ]
    },
    {
     "name": "stderr",
     "output_type": "stream",
     "text": [
      " 70%|███████   | 14/20 [00:02<00:01,  5.04it/s]"
     ]
    },
    {
     "name": "stdout",
     "output_type": "stream",
     "text": [
      "[2.179716234915419, 4.244040236981848, 1.5366489870036628, 20.41894232147536, 0.0561811449657857, 2.2460666675195644, 0.0013018587711177015, 1.169810508586845, 0.04076594034911714, 5.628092932478311, 0.0012910759583337195, 0.6512499180829022]\n",
      "Synthetic-H/dyn-cycle/simulations/\n",
      "[0.01859752560789162, 0.4979739303962206, 2.412713387570568, 16.72820158910347, 0.0075214482352444845, 5.273470005613434, 0.019946489123989268, 4.736124054419036, 0.005572690714756161, 14.712788224121221, 0.062376062910670986, 2.235366810623797]\n"
     ]
    },
    {
     "name": "stderr",
     "output_type": "stream",
     "text": [
      " 80%|████████  | 16/20 [00:03<00:00,  5.07it/s]"
     ]
    },
    {
     "name": "stdout",
     "output_type": "stream",
     "text": [
      "Synthetic-H/dyn-cycle/simulations/\n",
      "[0.03858385738240159, 4.664043566183316, 1.8735674460638203, 5.376402891017213, 1.7197849720072511, 17.601153272188007, 1.5706448990277868, 19.222734508187347, 1.3101870253693535, 16.126901992787392, 0.01716299383819863, 9.97093313965551]\n",
      "Synthetic-H/dyn-cycle/simulations/\n"
     ]
    },
    {
     "name": "stderr",
     "output_type": "stream",
     "text": [
      " 85%|████████▌ | 17/20 [00:03<00:00,  5.05it/s]"
     ]
    },
    {
     "name": "stdout",
     "output_type": "stream",
     "text": [
      "[0.07141321155391829, 0.2228815133594771, 2.3905089507157062, 17.21162106526311, 0.018163071653818356, 1.816035500892821, 0.011408312651445929, 5.2554998299724005, 0.01849900967241453, 16.951481287041553, 0.023895940418713228, 0.02797322473123969]\n",
      "Synthetic-H/dyn-cycle/simulations/\n",
      "[0.0007368431002712798, 0.05807048091351559, 1.2876041697268332, 13.043433765192649, 0.019501026450710453, 1.609276712292599, 0.0016558549053899696, 12.119200258965051, 1.7562027423386637, 20.203479517296273, 0.03697174538287032, 0.8824339112216875]\n"
     ]
    },
    {
     "name": "stderr",
     "output_type": "stream",
     "text": [
      " 95%|█████████▌| 19/20 [00:03<00:00,  5.06it/s]"
     ]
    },
    {
     "name": "stdout",
     "output_type": "stream",
     "text": [
      "Synthetic-H/dyn-cycle/simulations/\n",
      "[1.8125237690879037, 8.405874616657968, 1.886952682417662, 14.609269547727086, 0.13892363187330614, 0.1444178104242912, 0.04338981044642805, 0.38785932155947256, 0.021561111081053026, 3.4114425010873104, 0.11921279107570143, 0.3827385933442352]\n",
      "Synthetic-H/dyn-cycle/simulations/\n"
     ]
    },
    {
     "name": "stderr",
     "output_type": "stream",
     "text": [
      "100%|██████████| 20/20 [00:04<00:00,  4.98it/s]\n",
      "  0%|          | 0/20 [00:00<?, ?it/s]"
     ]
    },
    {
     "name": "stdout",
     "output_type": "stream",
     "text": [
      "[0.10087665599886493, 0.6312839018710363, 1.7663909643610602, 18.00298711520542, 0.006121637606681758, 5.503786918736175, 0.0009087145633275977, 13.825221017016359, 2.2963001900025515, 23.466239553519195, 0.008861249292029071, 1.798364600012141]\n",
      "Simulations took 4.019 s\n",
      "starting to concat files\n"
     ]
    },
    {
     "name": "stderr",
     "output_type": "stream",
     "text": [
      "100%|██████████| 20/20 [00:00<00:00, 33.79it/s]\n"
     ]
    },
    {
     "name": "stdout",
     "output_type": "stream",
     "text": [
      "Concating files took 0.59 s\n",
      "Requested nClusters=1, not performing k-means clustering\n",
      "Generating input files for pipline...\n",
      "1. refNetwork\n",
      "2. PseudoTime.csv\n",
      "1\n",
      "(3, 6, 20, 6)\n",
      "Synthetic-H/PerturbationSampling.npy\n",
      "Input file generation took 0.09 s\n",
      "BoolODE.py took 4.72s\n"
     ]
    }
   ],
   "source": [
    "# execution from module\n",
    "E, gene_names, grn_mtx = pt.perturbation(\n",
    "    model_definition, \n",
    "    simulation_time,\n",
    "    num_cells,\n",
    "    sampling_time,\n",
    "    perturbed_transcription, \n",
    "    perturbed_translation,\n",
    "    output_dir,\n",
    "    output_filename,\n",
    "    modeltype\n",
    ")"
   ]
  },
  {
   "cell_type": "code",
   "execution_count": 5,
   "metadata": {},
   "outputs": [
    {
     "data": {
      "text/plain": [
       "['g1', 'g2', 'g3', 'g4', 'g5', 'g6']"
      ]
     },
     "execution_count": 5,
     "metadata": {},
     "output_type": "execute_result"
    }
   ],
   "source": [
    "gene_names"
   ]
  },
  {
   "cell_type": "code",
   "execution_count": 6,
   "metadata": {},
   "outputs": [
    {
     "data": {
      "text/plain": [
       "array([[0., 0., 0., 0., 0., 0.],\n",
       "       [0., 0., 0., 0., 0., 0.],\n",
       "       [0., 0., 0., 0., 0., 0.],\n",
       "       [0., 0., 1., 0., 0., 0.],\n",
       "       [0., 0., 0., 1., 0., 0.],\n",
       "       [1., 0., 0., 0., 0., 0.]])"
      ]
     },
     "execution_count": 6,
     "metadata": {},
     "output_type": "execute_result"
    }
   ],
   "source": [
    "grn_mtx"
   ]
  },
  {
   "cell_type": "code",
   "execution_count": null,
   "metadata": {},
   "outputs": [],
   "source": [
    "# hill model\n",
    "# Automatically generated by BoolODE\n",
    "n_g1\t10.0\n",
    "n_g2\t10.0\n",
    "n_g3\t10.0\n",
    "n_g4\t10.0\n",
    "n_g5\t10.0\n",
    "n_g6\t10.0\n",
    "n_g7\t10.0\n",
    "k_g1\t10.0\n",
    "k_g2\t10.0\n",
    "k_g3\t10.0\n",
    "k_g4\t10.0\n",
    "k_g5\t10.0\n",
    "k_g6\t10.0\n",
    "k_g7\t10.0\n",
    "sigmaH_g1\t10.0\n",
    "sigmaH_g2\t10.0\n",
    "sigmaH_g3\t10.0\n",
    "sigmaH_g4\t10.0\n",
    "sigmaH_g5\t10.0\n",
    "sigmaH_g6\t10.0\n",
    "sigmaH_g7\t10.0\n",
    "m_g1\t20.0\n",
    "m_g2\t20.0\n",
    "m_g3\t20.0\n",
    "m_g4\t20.0\n",
    "m_g5\t20.0\n",
    "m_g6\t10.0\n",
    "m_g7\t20.0\n",
    "l_x_g1\t10.0\n",
    "l_x_g2\t10.0\n",
    "l_x_g3\t10.0\n",
    "l_x_g4\t10.0\n",
    "l_x_g5\t10.0\n",
    "l_x_g6\t10.0\n",
    "l_x_g7\t10.0\n",
    "r_g1\t10.0\n",
    "r_g2\t10.0\n",
    "r_g3\t10.0\n",
    "r_g4\t10.0\n",
    "r_g5\t10.0\n",
    "r_g6\t10.0\n",
    "r_g7\t10.0\n",
    "l_p_g1\t1.0\n",
    "l_p_g2\t1.0\n",
    "l_p_g3\t1.0\n",
    "l_p_g4\t1.0\n",
    "l_p_g5\t1.0\n",
    "l_p_g6\t1.0\n",
    "l_p_g7\t1.0\n",
    "alpha_g1\t1\n",
    "alpha_g2\t0\n",
    "alpha_g3\t0\n",
    "alpha_g4\t0\n",
    "alpha_g5\t0\n",
    "alpha_g6\t0\n",
    "alpha_g7\t0\n",
    "a_g1_g7\t0\n",
    "a_g2_g1\t1\n",
    "a_g3_g2\t1\n",
    "a_g4_g3\t1\n",
    "a_g5_g4\t1\n",
    "a_g6_g5\t1\n",
    "a_g7_g6\t1\n",
    "a_g7_g7\t1\n",
    "a_g7_g6_g7\t1"
   ]
  },
  {
   "cell_type": "code",
   "execution_count": null,
   "metadata": {},
   "outputs": [],
   "source": [
    "# heaviside model\n",
    "# Automatically generated by BoolODE\n",
    "n_g1\t10.0\n",
    "n_g2\t10.0\n",
    "n_g3\t10.0\n",
    "n_g4\t10.0\n",
    "n_g5\t10.0\n",
    "n_g6\t10.0\n",
    "n_g7\t10.0\n",
    "k_g1\t10.0\n",
    "k_g2\t10.0\n",
    "k_g3\t10.0\n",
    "k_g4\t10.0\n",
    "k_g5\t10.0\n",
    "k_g6\t10.0\n",
    "k_g7\t10.0\n",
    "sigmaH_g1\t10.0\n",
    "sigmaH_g2\t10.0\n",
    "sigmaH_g3\t10.0\n",
    "sigmaH_g4\t10.0\n",
    "sigmaH_g5\t10.0\n",
    "sigmaH_g6\t10.0\n",
    "sigmaH_g7\t10.0\n",
    "m_g1\t20.0\n",
    "m_g2\t20.0\n",
    "m_g3\t20.0\n",
    "m_g4\t20.0\n",
    "m_g5\t20.0\n",
    "m_g6\t20.0\n",
    "m_g7\t10.0\n",
    "l_x_g1\t10.0\n",
    "l_x_g2\t10.0\n",
    "l_x_g3\t10.0\n",
    "l_x_g4\t10.0\n",
    "l_x_g5\t10.0\n",
    "l_x_g6\t10.0\n",
    "l_x_g7\t10.0\n",
    "r_g1\t10.0\n",
    "r_g2\t10.0\n",
    "r_g3\t10.0\n",
    "r_g4\t10.0\n",
    "r_g5\t10.0\n",
    "r_g6\t10.0\n",
    "r_g7\t10.0\n",
    "l_p_g1\t1.0\n",
    "l_p_g2\t1.0\n",
    "l_p_g3\t1.0\n",
    "l_p_g4\t1.0\n",
    "l_p_g5\t1.0\n",
    "l_p_g6\t1.0\n",
    "l_p_g7\t1.0\n",
    "omega_g1\t1\n",
    "omega_g2\t-1\n",
    "omega_g3\t-1\n",
    "omega_g4\t-1\n",
    "omega_g5\t-1\n",
    "omega_g6\t-1\n",
    "omega_g7\t-1\n",
    "w_g1_g7\t-0.1\n",
    "w_g2_g1\t0.1\n",
    "w_g3_g2\t0.1\n",
    "w_g4_g3\t0.1\n",
    "w_g5_g4\t0.1\n",
    "w_g6_g5\t0.1\n",
    "w_g7_g6\t0.1\n",
    "w_g7_g7\t0.1\n",
    "w_g7_g6_g7\t0.1\n"
   ]
  },
  {
   "cell_type": "code",
   "execution_count": null,
   "metadata": {},
   "outputs": [],
   "source": []
  },
  {
   "cell_type": "markdown",
   "metadata": {},
   "source": [
    "## Step by Step simulation"
   ]
  },
  {
   "cell_type": "code",
   "execution_count": 2,
   "metadata": {},
   "outputs": [],
   "source": [
    "gs = bo.GlobalSettings(\"data\", \"Synthetic-H\", True, False, \"heaviside\")\n",
    "js = bo.JobSettings(\n",
    "[{\n",
    "    \"name\": \"dyn-L-1\",\n",
    "    \"model_definition\": \"dyn-linear.txt\",\n",
    "    \"model_initial_conditions\": \"dyn-linear_ics.txt\",\n",
    "    \"simulation_time\": 9,\n",
    "    \"num_cells\": 20,\n",
    "    \"do_parallel\": True,\n",
    "    \"sample_cells\": False,\n",
    "    \"perturbation\": False,\n",
    "    \"perturbed_transcription\": { 'g1': 10.0 },\n",
    "    \n",
    "    \"perturbation_input\": \"\"\n",
    "}]\n",
    ")"
   ]
  },
  {
   "cell_type": "code",
   "execution_count": 3,
   "metadata": {},
   "outputs": [],
   "source": [
    "boolodejobs = bo.BoolODE(job_settings=js, global_settings=gs, postproc_settings=\"\")"
   ]
  },
  {
   "cell_type": "code",
   "execution_count": 4,
   "metadata": {},
   "outputs": [
    {
     "data": {
      "text/plain": [
       "[{'name': 'dyn-L-1',\n",
       "  'model_definition': 'dyn-linear.txt',\n",
       "  'model_initial_conditions': 'dyn-linear_ics.txt',\n",
       "  'simulation_time': 9,\n",
       "  'num_cells': 20,\n",
       "  'do_parallel': True,\n",
       "  'sample_cells': False,\n",
       "  'perturbation': False,\n",
       "  'perturbed_transcription': {'g1': 10.0},\n",
       "  'perturbation_input': ''}]"
      ]
     },
     "execution_count": 4,
     "metadata": {},
     "output_type": "execute_result"
    }
   ],
   "source": [
    "boolodejobs.job_settings.jobs"
   ]
  },
  {
   "cell_type": "code",
   "execution_count": 5,
   "metadata": {},
   "outputs": [
    {
     "name": "stdout",
     "output_type": "stream",
     "text": [
      "Creating output folders\n",
      "Synthetic-H/dyn-L-1 does not exist, creating it...\n",
      "Starting simulations\n",
      "Fixing rate parameters to defaults\n",
      "{'n_g1': 10.0, 'n_g2': 10.0, 'n_g3': 10.0, 'n_g4': 10.0, 'n_g5': 10.0, 'n_g6': 10.0, 'n_g7': 10.0, 'k_g1': 10.0, 'k_g2': 10.0, 'k_g3': 10.0, 'k_g4': 10.0, 'k_g5': 10.0, 'k_g6': 10.0, 'k_g7': 10.0, 'sigmaH_g1': 10.0, 'sigmaH_g2': 10.0, 'sigmaH_g3': 10.0, 'sigmaH_g4': 10.0, 'sigmaH_g5': 10.0, 'sigmaH_g6': 10.0, 'sigmaH_g7': 10.0, 'm_g1': 20.0, 'm_g2': 20.0, 'm_g3': 20.0, 'm_g4': 20.0, 'm_g5': 20.0, 'm_g6': 20.0, 'm_g7': 20.0, 'l_x_g1': 10.0, 'l_x_g2': 10.0, 'l_x_g3': 10.0, 'l_x_g4': 10.0, 'l_x_g5': 10.0, 'l_x_g6': 10.0, 'l_x_g7': 10.0, 'r_g1': 10.0, 'r_g2': 10.0, 'r_g3': 10.0, 'r_g4': 10.0, 'r_g5': 10.0, 'r_g6': 10.0, 'r_g7': 10.0, 'l_p_g1': 1.0, 'l_p_g2': 1.0, 'l_p_g3': 1.0, 'l_p_g4': 1.0, 'l_p_g5': 1.0, 'l_p_g6': 1.0, 'l_p_g7': 1.0}\n",
      "{'mRNATranscription': 20.0, 'mRNADegradation': 10.0, 'proteinTranslation': 10.0, 'proteinDegradation': 1.0, 'heavisideSigma': 10.0, 'signalingTimescale': 5.0, 'hillCoefficient': 10.0, 'interactionStrength': 1.0, 'x_max': 2.0, 'y_max': 20.0, 'hillThreshold': 10.0, 'heavisideOmega': 0.1}\n",
      "Synthetic-H/dyn-L-1/simulations\n",
      "~~~~~~~~~~~~~~~~~~~~~~~\n",
      "Synthetic-H/dyn-L-1/simulations does not exist, creating it...\n",
      "Starting simulations\n",
      "[1.0, 10.0, 0.01, 0.1, 0.01, 0.1, 0.01, 0.1, 0.01, 0.1, 0.01, 0.1, 0.01, 0.1][1.0, 10.0, 0.01, 0.1, 0.01, 0.1, 0.01, 0.1, 0.01, 0.1, 0.01, 0.1, 0.01, 0.1]\n",
      "[1.0, 10.0, 0.01, 0.1, 0.01, 0.1, 0.01, 0.1, 0.01, 0.1, 0.01, 0.1, 0.01, 0.1][1.0, 10.0, 0.01, 0.1, 0.01, 0.1, 0.01, 0.1, 0.01, 0.1, 0.01, 0.1, 0.01, 0.1][1.0, 10.0, 0.01, 0.1, 0.01, 0.1, 0.01, 0.1, 0.01, 0.1, 0.01, 0.1, 0.01, 0.1][1.0, 10.0, 0.01, 0.1, 0.01, 0.1, 0.01, 0.1, 0.01, 0.1, 0.01, 0.1, 0.01, 0.1][1.0, 10.0, 0.01, 0.1, 0.01, 0.1, 0.01, 0.1, 0.01, 0.1, 0.01, 0.1, 0.01, 0.1][1.0, 10.0, 0.01, 0.1, 0.01, 0.1, 0.01, 0.1, 0.01, 0.1, 0.01, 0.1, 0.01, 0.1]\n",
      "\n",
      "\n",
      "\n",
      "\n",
      "\n",
      "\n",
      "[1.0, 10.0, 0.01, 0.1, 0.01, 0.1, 0.01, 0.1, 0.01, 0.1, 0.01, 0.1, 0.01, 0.1]\n",
      "[1.0, 10.0, 0.01, 0.1, 0.01, 0.1, 0.01, 0.1, 0.01, 0.1, 0.01, 0.1, 0.01, 0.1][1.0, 10.0, 0.01, 0.1, 0.01, 0.1, 0.01, 0.1, 0.01, 0.1, 0.01, 0.1, 0.01, 0.1]\n",
      "\n",
      "[1.0, 10.0, 0.01, 0.1, 0.01, 0.1, 0.01, 0.1, 0.01, 0.1, 0.01, 0.1, 0.01, 0.1]\n",
      "[1.0, 10.0, 0.01, 0.1, 0.01, 0.1, 0.01, 0.1, 0.01, 0.1, 0.01, 0.1, 0.01, 0.1]\n",
      "[1.0, 10.0, 0.01, 0.1, 0.01, 0.1, 0.01, 0.1, 0.01, 0.1, 0.01, 0.1, 0.01, 0.1]\n",
      "[1.0, 10.0, 0.01, 0.1, 0.01, 0.1, 0.01, 0.1, 0.01, 0.1, 0.01, 0.1, 0.01, 0.1]\n",
      "[1.0, 10.0, 0.01, 0.1, 0.01, 0.1, 0.01, 0.1, 0.01, 0.1, 0.01, 0.1, 0.01, 0.1]\n",
      "[1.0, 10.0, 0.01, 0.1, 0.01, 0.1, 0.01, 0.1, 0.01, 0.1, 0.01, 0.1, 0.01, 0.1]\n",
      "[1.0, 10.0, 0.01, 0.1, 0.01, 0.1, 0.01, 0.1, 0.01, 0.1, 0.01, 0.1, 0.01, 0.1][1.0, 10.0, 0.01, 0.1, 0.01, 0.1, 0.01, 0.1, 0.01, 0.1, 0.01, 0.1, 0.01, 0.1]\n",
      "\n",
      "[1.0, 10.0, 0.01, 0.1, 0.01, 0.1, 0.01, 0.1, 0.01, 0.1, 0.01, 0.1, 0.01, 0.1]\n"
     ]
    },
    {
     "name": "stderr",
     "output_type": "stream",
     "text": [
      " 20%|██        | 4/20 [00:00<00:00, 30.60it/s]"
     ]
    },
    {
     "name": "stdout",
     "output_type": "stream",
     "text": [
      "Simulations took 1.465 s\n",
      "starting to concat files\n"
     ]
    },
    {
     "name": "stderr",
     "output_type": "stream",
     "text": [
      "100%|██████████| 20/20 [00:00<00:00, 29.90it/s]"
     ]
    },
    {
     "name": "stdout",
     "output_type": "stream",
     "text": [
      "Concating files took 0.67 s\n",
      "Requested nClusters=1, not performing k-means clustering\n",
      "Generating input files for pipline...\n",
      "1. refNetwork\n",
      "2. PseudoTime.csv\n",
      "Dataset too large.\n",
      "Sampling 20 cells, one from each simulated trajectory.\n",
      "Input file generation took 0.09 s\n",
      "BoolODE.py took 2.25s\n"
     ]
    },
    {
     "name": "stderr",
     "output_type": "stream",
     "text": [
      "\n"
     ]
    }
   ],
   "source": [
    "boolodejobs.execute_jobs()"
   ]
  },
  {
   "cell_type": "code",
   "execution_count": null,
   "metadata": {},
   "outputs": [],
   "source": [
    "# perturbation loop transcription or translation片方\n",
    "transcription = [{'g1':5.0}, {'g'}, {}]\n",
    "translation = [5.0, {}, {}]"
   ]
  },
  {
   "cell_type": "code",
   "execution_count": null,
   "metadata": {},
   "outputs": [],
   "source": [
    "for trans in transcription:\n",
    "    if isinstance(trans, float):\n",
    "        hoge\n",
    "        {gene: hoge} list loop\n",
    "    else isinstance(trans, dict):\n",
    "        # job実行"
   ]
  },
  {
   "cell_type": "code",
   "execution_count": 6,
   "metadata": {},
   "outputs": [],
   "source": [
    "js = bo.JobSettings(\n",
    "[{\n",
    "    \"name\": \"dyn-L-1-perturbation\",\n",
    "    \"model_definition\": \"dyn-linear.txt\",\n",
    "    \"model_initial_conditions\": \"dyn-linear_ics.txt\",\n",
    "    \"simulation_time\": 9,\n",
    "    \"num_cells\": 20,\n",
    "    \"do_parallel\": True,\n",
    "    \"sample_cells\": False,\n",
    "    \"perturbation\": True,\n",
    "    \"perturbed_transcription\": {},#{ 'g1': 10.0 },\n",
    "    \"perturbed_translation\": { 'g1': 5.0 }, # 片方を想定\n",
    "    \"perturbation_input\": \"dyn-L-1/simulations/\", #ここが同じなら初期状態も同じ\n",
    "    \n",
    "    \"perturbation_sampling_time\": [100, 300, 500],\n",
    "    \"perturbation_sampling_filename\": \"PerturbationSampling.npy\" #ここが同じなら出力も同じ\n",
    "    # こいつをどこに置くかが問題\n",
    "}]\n",
    ")\n",
    "\n",
    "# perturbed_translationの導入\n",
    "# 複数回のperturbation実験。その際のoutput"
   ]
  },
  {
   "cell_type": "code",
   "execution_count": 7,
   "metadata": {},
   "outputs": [],
   "source": [
    "boolodejobs = bo.BoolODE(job_settings=js, global_settings=gs, postproc_settings=\"\")"
   ]
  },
  {
   "cell_type": "code",
   "execution_count": 8,
   "metadata": {},
   "outputs": [
    {
     "name": "stdout",
     "output_type": "stream",
     "text": [
      "Creating output folders\n",
      "Starting simulations\n",
      "Fixing rate parameters to defaults\n",
      "{'n_g1': 10.0, 'n_g2': 10.0, 'n_g3': 10.0, 'n_g4': 10.0, 'n_g5': 10.0, 'n_g6': 10.0, 'n_g7': 10.0, 'k_g1': 10.0, 'k_g2': 10.0, 'k_g3': 10.0, 'k_g4': 10.0, 'k_g5': 10.0, 'k_g6': 10.0, 'k_g7': 10.0, 'sigmaH_g1': 10.0, 'sigmaH_g2': 10.0, 'sigmaH_g3': 10.0, 'sigmaH_g4': 10.0, 'sigmaH_g5': 10.0, 'sigmaH_g6': 10.0, 'sigmaH_g7': 10.0, 'm_g1': 20.0, 'm_g2': 20.0, 'm_g3': 20.0, 'm_g4': 20.0, 'm_g5': 20.0, 'm_g6': 20.0, 'm_g7': 20.0, 'l_x_g1': 10.0, 'l_x_g2': 10.0, 'l_x_g3': 10.0, 'l_x_g4': 10.0, 'l_x_g5': 10.0, 'l_x_g6': 10.0, 'l_x_g7': 10.0, 'r_g1': 5.0, 'r_g2': 10.0, 'r_g3': 10.0, 'r_g4': 10.0, 'r_g5': 10.0, 'r_g6': 10.0, 'r_g7': 10.0, 'l_p_g1': 1.0, 'l_p_g2': 1.0, 'l_p_g3': 1.0, 'l_p_g4': 1.0, 'l_p_g5': 1.0, 'l_p_g6': 1.0, 'l_p_g7': 1.0}\n",
      "{'mRNATranscription': 20.0, 'mRNADegradation': 10.0, 'proteinTranslation': 10.0, 'proteinDegradation': 1.0, 'heavisideSigma': 10.0, 'signalingTimescale': 5.0, 'hillCoefficient': 10.0, 'interactionStrength': 1.0, 'x_max': 2.0, 'y_max': 20.0, 'hillThreshold': 10.0, 'heavisideOmega': 0.1}\n",
      "Synthetic-H/dyn-L-1-perturbation/simulations\n",
      "~~~~~~~~~~~~~~~~~~~~~~~\n",
      "Starting simulations\n",
      "Synthetic-H/dyn-L-1/simulations/Synthetic-H/dyn-L-1/simulations/Synthetic-H/dyn-L-1/simulations/Synthetic-H/dyn-L-1/simulations/Synthetic-H/dyn-L-1/simulations/Synthetic-H/dyn-L-1/simulations/\n",
      "\n",
      "\n",
      "\n",
      "\n",
      "Synthetic-H/dyn-L-1/simulations/Synthetic-H/dyn-L-1/simulations/\n",
      "\n",
      "\n",
      "[0.0692508101669735, 1.2107709652580405, 0.01754552921866269, 1.3504716216745944, 0.011864887295431007, 0.4102295408759479, 0.056942159547326926, 4.9743067678340775, 0.04832494164956413, 5.462795744263797, 0.22726239789359096, 23.391954465532113, 1.997865749231896, 17.065507349682427]\n",
      "[0.04021116265710338, 1.3116048600628378, 0.008568377644564648, 0.4283659683997406, 0.2516815024488334, 5.747761478395642, 0.008099794072545612, 9.246150213840957, 0.5792948576831772, 11.491647768137994, 1.9712204972250795, 21.07163263563684, 1.9187353314675517, 17.83145411268682][0.08643269518600682, 1.8963396662860448, 0.029611034764142775, 1.6089806287283948, 0.048575337513880434, 5.116022209349857, 0.00457051561342294, 8.838496973387656, 0.9904073641361616, 17.266080810933516, 2.0391059153800217, 23.85650934365593, 2.163505714341238, 25.381874897054182]\n",
      "\n",
      "[0.008418902167417475, 0.043871231453307166, 0.0035406428743897664, 0.3287811193861093, 0.012294820121101587, 0.18546455564865869, 0.002214231146279811, 0.4333769062276166, 0.016427138831517595, 10.467047896393813, 1.0101229870845279, 19.836194773209115, 1.6947774212768192, 19.682761517509388]\n",
      "[0.00023885302103809122, 0.0539400612932553, 0.030104668294204863, 0.008587461946522938, 0.0073726054709618485, 3.439378176238596, 0.002716067815719773, 6.5464213980839325, 0.12768520495662508, 16.07588063732327, 1.860220603126332, 18.613744893428983, 1.8447234530190515, 21.53437095595602][0.0004663701808911443, 0.05115887690390754, 0.005880861577182737, 0.5142656730458561, 0.0041121100130078955, 2.2815424066273144, 0.0005102460345034097, 2.351058272812222, 0.011247561275357395, 4.8368709723307335, 0.006965854575982686, 11.289188361246724, 2.162025240452345, 16.33519361842605]\n",
      "[0.02950569493217488, 0.3024024732253376, 0.0747055479623817, 0.9489842586446804, 0.02037196177853952, 2.503251958999109, 0.0010108465659316227, 3.229037261190911, 0.00019463923095053268, 8.106681234960384, 0.5743215594724905, 14.4149199334708, 2.6713222691495746, 18.06748314741811]\n",
      "[0.016423432381425632, 1.3775141130448585, 0.009522613219709007, 0.15254563954420328, 0.008037620503906452, 4.694370143992089, 0.04785755332930938, 6.6558395485573945, 0.14434509094207545, 15.562879176963847, 2.066441353313675, 15.742635492238922, 1.7617757656319826, 16.67304588509104]\n",
      "\n",
      "Synthetic-H/dyn-L-1/simulations/\n",
      "Synthetic-H/dyn-L-1/simulations/\n",
      "Synthetic-H/dyn-L-1/simulations/\n",
      "Synthetic-H/dyn-L-1/simulations/Synthetic-H/dyn-L-1/simulations/\n",
      "\n",
      "Synthetic-H/dyn-L-1/simulations/Synthetic-H/dyn-L-1/simulations/\n",
      "[0.003176037525662234, 0.23875621993128165, 0.0006300883334004644, 0.0884949845867298, 0.014484925512880312, 2.4619029147108984, 0.027596454051204547, 1.4015182550798198, 0.18121492721885532, 4.659340011559552, 0.02096941451506357, 8.209563728138166, 1.726885710560388, 17.736296353824024]\n",
      "\n",
      "[0.13759124878046952, 0.8540805117789596, 9.64293128622451e-05, 0.5506905048628198, 0.02877870715025313, 4.824344371611873, 0.20952510026319715, 12.553251829479644, 1.432823320805758, 19.940588240898023, 2.324084890313792, 16.272933876185412, 1.3305849208686291, 18.74328882137483]\n",
      "[0.00048704701484654197, 0.7341740541687725, 0.06986877004920289, 0.9839388554487573, 0.030466616473075407, 6.515362545757728, 0.011729253504673685, 10.842470275731444, 1.6628078690225754, 26.12168112447862, 2.3905521804114027, 24.98881677162478, 1.7300660992758308, 19.16579566571587]\n",
      "[0.05408150648810863, 0.7893744554293421, 0.010922467063925287, 0.313894553173306, 0.026381388142628127, 0.9288697469668172, 0.001801213117887105, 4.0300850510202135, 0.003129280603444643, 11.519321883930335, 2.2579563392045943, 16.496457301744847, 2.2040053628301446, 15.517302079711769]Synthetic-H/dyn-L-1/simulations/\n",
      "\n",
      "[0.0013507391446118994, 0.81627333534015, 0.005632219980273771, 0.20221919524179702, 0.02349476144222509, 0.3376562396869983, 0.0028777573992953024, 0.8576376189484404, 0.003987358701173827, 2.7620416610657363, 0.012333599557786136, 5.649219987059111, 1.9781103845459207, 28.659013119041468]\n",
      "[0.13838589311798846, 1.7642926797600638, 0.013581372890808643, 5.83816766041596, 0.2735352263032011, 13.209260129075384, 2.0805259607285973, 20.06568213364337, 2.6211565974192275, 20.834758419709694, 1.8674565448324982, 17.162428974634146, 2.191969025871165, 21.118779025660665][0.022522372351543685, 0.13211355367745736, 0.008420067741080334, 0.3963254145723713, 0.0014400387046068109, 1.5205149625776342, 0.00022410863983975566, 5.1853086420333465, 0.1906844937956721, 15.076857531527835, 1.967457362885897, 20.962169561396774, 1.8866523812677471, 18.364134298105327]\n",
      "\n",
      "[0.0021130184635249783, 1.8019379884460416, 0.00834854452315671, 1.1000716105628912, 0.0005595267096189915, 0.008154734210090539, 0.024727781351008213, 5.266795037394547, 0.05245308060810407, 8.118881846327971, 0.6591431991729162, 12.961427420258513, 2.2712378469379466, 21.189915062607078]\n",
      "Synthetic-H/dyn-L-1/simulations/Synthetic-H/dyn-L-1/simulations/\n",
      "\n",
      "Synthetic-H/dyn-L-1/simulations/\n",
      "Synthetic-H/dyn-L-1/simulations/\n",
      "[0.03315335836510852, 0.7733008618167571, 0.012101873111996056, 1.487063521356905, 0.0022089078028190803, 3.2088794821428466, 0.006911514026449754, 8.201273726507404, 0.6164612961327461, 18.753429841458853, 1.8554666794467845, 21.551590713677395, 1.6794685174708897, 15.185059574105676]\n",
      "[0.16277780694108346, 1.7936286097506684, 0.018444449931445873, 1.924625877015832, 0.03085233158115433, 7.885759027349554, 0.12536185547225756, 15.79421665364747, 1.8643987888979128, 22.131287468963066, 2.4566266583013854, 28.36518357511392, 2.0359928047135174, 12.005065469330669]\n",
      "[0.025662798602202247, 1.1040313512765612, 0.018490621930080442, 0.13550717977762688, 0.00011301855550060849, 0.5711051968527365, 0.00941329168911199, 10.701843241292437, 1.4610916524091986, 18.318402614380986, 1.7058776520423409, 20.050956949532736, 1.6171836767195389, 17.290833804211328]\n",
      "[0.015524617008532157, 0.0213420759338764, 0.025924837999676004, 0.1987074354500472, 0.0828976743903862, 1.047413220232304, 0.002802786758731769, 6.826290955175795, 0.09343245145310693, 15.105488007310267, 1.923135749242876, 22.337559499657957, 2.3299998081515323, 17.139731512893913]\n"
     ]
    },
    {
     "name": "stderr",
     "output_type": "stream",
     "text": [
      " 15%|█▌        | 3/20 [00:00<00:00, 27.72it/s]"
     ]
    },
    {
     "name": "stdout",
     "output_type": "stream",
     "text": [
      "Simulations took 1.461 s\n",
      "starting to concat files\n"
     ]
    },
    {
     "name": "stderr",
     "output_type": "stream",
     "text": [
      "100%|██████████| 20/20 [00:00<00:00, 28.93it/s]\n"
     ]
    },
    {
     "name": "stdout",
     "output_type": "stream",
     "text": [
      "Concating files took 0.69 s\n",
      "Requested nClusters=1, not performing k-means clustering\n",
      "Generating input files for pipline...\n",
      "1. refNetwork\n",
      "2. PseudoTime.csv\n",
      "0\n",
      "(3, 7, 20, 7)\n",
      "Input file generation took 0.10 s\n",
      "BoolODE.py took 2.29s\n"
     ]
    }
   ],
   "source": [
    "boolodejobs.execute_jobs()"
   ]
  },
  {
   "cell_type": "code",
   "execution_count": null,
   "metadata": {},
   "outputs": [],
   "source": []
  }
 ],
 "metadata": {
  "kernelspec": {
   "display_name": "Python 3",
   "language": "python",
   "name": "python3"
  },
  "language_info": {
   "codemirror_mode": {
    "name": "ipython",
    "version": 3
   },
   "file_extension": ".py",
   "mimetype": "text/x-python",
   "name": "python",
   "nbconvert_exporter": "python",
   "pygments_lexer": "ipython3",
   "version": "3.8.2"
  }
 },
 "nbformat": 4,
 "nbformat_minor": 4
}
